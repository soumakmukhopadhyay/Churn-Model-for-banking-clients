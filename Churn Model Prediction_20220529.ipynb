{
 "cells": [
  {
   "cell_type": "code",
   "execution_count": 2,
   "id": "8ead9e98",
   "metadata": {},
   "outputs": [
    {
     "data": {
      "text/html": [
       "<script>\n",
       "    function luc21893_refresh_cell(cell) {\n",
       "        if( cell.luc21893 ) return;\n",
       "        cell.luc21893 = true;\n",
       "        console.debug('New code cell found...' );\n",
       "        \n",
       "        var div = document.createElement('DIV');            \n",
       "        cell.parentNode.insertBefore( div, cell.nextSibling );\n",
       "        div.style.textAlign = 'right';\n",
       "        var a = document.createElement('A');\n",
       "        div.appendChild(a);\n",
       "        a.href='#'\n",
       "        a.luc21893 = cell;\n",
       "        a.setAttribute( 'onclick', \"luc21893_toggle(this); return false;\" );\n",
       "\n",
       "        cell.style.visibility='hidden';\n",
       "        cell.style.position='absolute';\n",
       "        a.innerHTML = '[show code]';        \n",
       "                \n",
       "    }\n",
       "    function luc21893_refresh() {                \n",
       "        if( document.querySelector('.code_cell .input') == null ) {            \n",
       "            // it apeears that I am in a exported html\n",
       "            // hide this code\n",
       "            var codeCells = document.querySelectorAll('.jp-InputArea')\n",
       "            codeCells[0].style.visibility = 'hidden';\n",
       "            codeCells[0].style.position = 'absolute';                        \n",
       "            for( var i = 1; i < codeCells.length; i++ ) {\n",
       "                luc21893_refresh_cell(codeCells[i].parentNode)\n",
       "            }\n",
       "            window.onload = luc21893_refresh;\n",
       "        }                 \n",
       "        else {\n",
       "            // it apperas that I am in a jupyter editor\n",
       "            var codeCells = document.querySelectorAll('.code_cell .input')\n",
       "            for( var i = 0; i < codeCells.length; i++ ) {\n",
       "                luc21893_refresh_cell(codeCells[i])\n",
       "            }            \n",
       "            window.setTimeout( luc21893_refresh, 1000 )\n",
       "        }        \n",
       "    }\n",
       "    \n",
       "    function luc21893_toggle(a) {\n",
       "        if( a.luc21893.style.visibility=='hidden' ) {\n",
       "            a.luc21893.style.visibility='visible';        \n",
       "            a.luc21893.style.position='';\n",
       "            a.innerHTML = '[hide code]';\n",
       "        }\n",
       "        else {\n",
       "            a.luc21893.style.visibility='hidden';        \n",
       "            a.luc21893.style.position='absolute';\n",
       "            a.innerHTML = '[show code]';\n",
       "        }\n",
       "    }\n",
       "    \n",
       "    luc21893_refresh()\n",
       "</script>\n"
      ],
      "text/plain": [
       "<IPython.core.display.HTML object>"
      ]
     },
     "metadata": {},
     "output_type": "display_data"
    }
   ],
   "source": [
    "%%HTML \n",
    "<script>\n",
    "    function luc21893_refresh_cell(cell) {\n",
    "        if( cell.luc21893 ) return;\n",
    "        cell.luc21893 = true;\n",
    "        console.debug('New code cell found...' );\n",
    "        \n",
    "        var div = document.createElement('DIV');            \n",
    "        cell.parentNode.insertBefore( div, cell.nextSibling );\n",
    "        div.style.textAlign = 'right';\n",
    "        var a = document.createElement('A');\n",
    "        div.appendChild(a);\n",
    "        a.href='#'\n",
    "        a.luc21893 = cell;\n",
    "        a.setAttribute( 'onclick', \"luc21893_toggle(this); return false;\" );\n",
    "\n",
    "        cell.style.visibility='hidden';\n",
    "        cell.style.position='absolute';\n",
    "        a.innerHTML = '[show code]';        \n",
    "                \n",
    "    }\n",
    "    function luc21893_refresh() {                \n",
    "        if( document.querySelector('.code_cell .input') == null ) {            \n",
    "            // it apeears that I am in a exported html\n",
    "            // hide this code\n",
    "            var codeCells = document.querySelectorAll('.jp-InputArea')\n",
    "            codeCells[0].style.visibility = 'hidden';\n",
    "            codeCells[0].style.position = 'absolute';                        \n",
    "            for( var i = 1; i < codeCells.length; i++ ) {\n",
    "                luc21893_refresh_cell(codeCells[i].parentNode)\n",
    "            }\n",
    "            window.onload = luc21893_refresh;\n",
    "        }                 \n",
    "        else {\n",
    "            // it apperas that I am in a jupyter editor\n",
    "            var codeCells = document.querySelectorAll('.code_cell .input')\n",
    "            for( var i = 0; i < codeCells.length; i++ ) {\n",
    "                luc21893_refresh_cell(codeCells[i])\n",
    "            }            \n",
    "            window.setTimeout( luc21893_refresh, 1000 )\n",
    "        }        \n",
    "    }\n",
    "    \n",
    "    function luc21893_toggle(a) {\n",
    "        if( a.luc21893.style.visibility=='hidden' ) {\n",
    "            a.luc21893.style.visibility='visible';        \n",
    "            a.luc21893.style.position='';\n",
    "            a.innerHTML = '[hide code]';\n",
    "        }\n",
    "        else {\n",
    "            a.luc21893.style.visibility='hidden';        \n",
    "            a.luc21893.style.position='absolute';\n",
    "            a.innerHTML = '[show code]';\n",
    "        }\n",
    "    }\n",
    "    \n",
    "    luc21893_refresh()\n",
    "</script>"
   ]
  },
  {
   "cell_type": "markdown",
   "id": "acd27a0c",
   "metadata": {},
   "source": [
    "# <center>Customer Churn Analysis</center>\n",
    "\n",
    "\n",
    "## Context\n",
    "\n",
    "The US Wealth Management (USWM) business unit is comprised of Chase Wealth Management, JP Morgan Securities, and the You Invest digital platforms.  Chase Wealth Management (CWM) is a branch-based model in which a dedicated Advisor offers comprehensive financial planning and investment management advice to individuals and families.\n",
    "\n",
    "\n",
    "## Objective\n",
    "\n",
    "A key priority for Chase Wealth Management is building and maintaining long-term relationships with CWM clients. The objective is to develop an analytically based strategy **to predict which CWM clients are most likely to churn and how we can stem attrition**.\n",
    "\n",
    "## Solution\n",
    "\n",
    "Identifying **the drivers of attrition first** and then develop a **predictive model** with those to predict the customers who are likely to be churned out as well as coming up with **possible recommendations to stem attrition rate (churn rate)**.\n"
   ]
  },
  {
   "cell_type": "raw",
   "id": "82faf053",
   "metadata": {},
   "source": [
    "Given below is a brief regarding the dataset we are going to use"
   ]
  },
  {
   "attachments": {
    "data_description.png": {
     "image/png": "[encoded data removed]"
    }
   },
   "cell_type": "markdown",
   "id": "18b1e7dc",
   "metadata": {},
   "source": [
    "![data_description.png](attachment:data_description.png)"
   ]
  },
  {
   "cell_type": "markdown",
   "id": "27fd1f7a",
   "metadata": {},
   "source": [
    "## <center>Installing Required Packages</center>"
   ]
  },
  {
   "cell_type": "code",
   "execution_count": 2,
   "id": "93f3cc1b",
   "metadata": {},
   "outputs": [],
   "source": [
    "import os\n",
    "import pandas as pd\n",
    "import numpy as np\n",
    "import matplotlib\n",
    "#matplotlib.use('Agg')\n",
    "\n",
    "import sklearn\n",
    "import imblearn\n",
    "\n",
    "from sklearn.metrics import *\n",
    "from sklearn.metrics import roc_curve\n",
    "from sklearn.metrics import roc_auc_score\n",
    "from sklearn.metrics import auc\n",
    "\n",
    "from sklearn.linear_model import LogisticRegression as lor\n",
    "from sklearn.model_selection import train_test_split\n",
    "from matplotlib import pyplot as plt\n",
    "\n",
    "from sklearn.metrics import confusion_matrix\n",
    "from sklearn.metrics import classification_report\n",
    "\n",
    "from imblearn.over_sampling import SMOTE\n",
    "import matplotlib.pyplot as plt\n",
    "\n",
    "import catboost\n",
    "from catboost import CatBoostClassifier\n",
    "import seaborn as sns\n",
    "\n",
    "from sklearn.model_selection import GridSearchCV\n",
    "\n",
    "\n",
    "import xgboost\n",
    "from xgboost import XGBClassifier\n",
    "from sklearn.model_selection import StratifiedKFold\n",
    "from sklearn.preprocessing import LabelEncoder\n",
    "\n",
    "\n",
    "from numpy import mean\n",
    "from numpy import std\n",
    "from sklearn.datasets import make_classification\n",
    "from sklearn.model_selection import cross_val_score\n",
    "from sklearn.model_selection import RepeatedStratifiedKFold\n",
    "from sklearn.feature_selection import RFE\n",
    "from sklearn.tree import DecisionTreeClassifier\n",
    "from sklearn.pipeline import Pipeline\n",
    "\n",
    "\n",
    "import warnings\n",
    "warnings.filterwarnings(\"ignore\")"
   ]
  },
  {
   "cell_type": "markdown",
   "id": "a6831c78",
   "metadata": {},
   "source": [
    "### 1.2 Data Load Steps"
   ]
  },
  {
   "cell_type": "code",
   "execution_count": 3,
   "id": "7ac164c4",
   "metadata": {},
   "outputs": [],
   "source": [
    "path_m = os.getcwd()"
   ]
  },
  {
   "cell_type": "code",
   "execution_count": 4,
   "id": "d25d14c4",
   "metadata": {},
   "outputs": [],
   "source": [
    "def dir_up(path,n):\n",
    "    for _ in range(n):\n",
    "        path = dir_up(path.rpartition(\"\\\\\")[0], 0)\n",
    "    return(path)"
   ]
  },
  {
   "cell_type": "code",
   "execution_count": 5,
   "id": "ee526505",
   "metadata": {},
   "outputs": [],
   "source": [
    "path_d = os.path.join(dir_up(path_m,1),'Data')"
   ]
  },
  {
   "cell_type": "code",
   "execution_count": 6,
   "id": "ca51aa1f",
   "metadata": {},
   "outputs": [],
   "source": [
    "df_actual = pd.read_csv(os.path.join(path_d,'Churn Modeling.csv'))"
   ]
  },
  {
   "cell_type": "code",
   "execution_count": 7,
   "id": "e6ea5372",
   "metadata": {
    "scrolled": true
   },
   "outputs": [
    {
     "name": "stdout",
     "output_type": "stream",
     "text": [
      "A snapshot of the data looks like this - \n"
     ]
    },
    {
     "data": {
      "text/html": [
       "<div>\n",
       "<style scoped>\n",
       "    .dataframe tbody tr th:only-of-type {\n",
       "        vertical-align: middle;\n",
       "    }\n",
       "\n",
       "    .dataframe tbody tr th {\n",
       "        vertical-align: top;\n",
       "    }\n",
       "\n",
       "    .dataframe thead th {\n",
       "        text-align: right;\n",
       "    }\n",
       "</style>\n",
       "<table border=\"1\" class=\"dataframe\">\n",
       "  <thead>\n",
       "    <tr style=\"text-align: right;\">\n",
       "      <th></th>\n",
       "      <th>RowNumber</th>\n",
       "      <th>CustomerId</th>\n",
       "      <th>Surname</th>\n",
       "      <th>CreditScore</th>\n",
       "      <th>Geography</th>\n",
       "      <th>Gender</th>\n",
       "      <th>Age</th>\n",
       "      <th>Tenure</th>\n",
       "      <th>Balance</th>\n",
       "      <th>NumOfProducts</th>\n",
       "      <th>HasChckng</th>\n",
       "      <th>IsActiveMember</th>\n",
       "      <th>EstimatedSalary</th>\n",
       "      <th>Exited</th>\n",
       "    </tr>\n",
       "  </thead>\n",
       "  <tbody>\n",
       "    <tr>\n",
       "      <th>0</th>\n",
       "      <td>1</td>\n",
       "      <td>15634602</td>\n",
       "      <td>Hargrave</td>\n",
       "      <td>619.0</td>\n",
       "      <td>West</td>\n",
       "      <td>Female</td>\n",
       "      <td>42</td>\n",
       "      <td>2</td>\n",
       "      <td>0.00</td>\n",
       "      <td>1</td>\n",
       "      <td>1</td>\n",
       "      <td>1</td>\n",
       "      <td>101348.88</td>\n",
       "      <td>1</td>\n",
       "    </tr>\n",
       "    <tr>\n",
       "      <th>1</th>\n",
       "      <td>2</td>\n",
       "      <td>15647311</td>\n",
       "      <td>Hill</td>\n",
       "      <td>608.0</td>\n",
       "      <td>Central</td>\n",
       "      <td>Female</td>\n",
       "      <td>41</td>\n",
       "      <td>1</td>\n",
       "      <td>83807.86</td>\n",
       "      <td>1</td>\n",
       "      <td>0</td>\n",
       "      <td>1</td>\n",
       "      <td>112542.58</td>\n",
       "      <td>0</td>\n",
       "    </tr>\n",
       "    <tr>\n",
       "      <th>2</th>\n",
       "      <td>3</td>\n",
       "      <td>15619304</td>\n",
       "      <td>Onio</td>\n",
       "      <td>502.0</td>\n",
       "      <td>West</td>\n",
       "      <td>Female</td>\n",
       "      <td>42</td>\n",
       "      <td>8</td>\n",
       "      <td>159660.80</td>\n",
       "      <td>3</td>\n",
       "      <td>1</td>\n",
       "      <td>0</td>\n",
       "      <td>113931.57</td>\n",
       "      <td>1</td>\n",
       "    </tr>\n",
       "    <tr>\n",
       "      <th>3</th>\n",
       "      <td>4</td>\n",
       "      <td>15701354</td>\n",
       "      <td>Boni</td>\n",
       "      <td>699.0</td>\n",
       "      <td>West</td>\n",
       "      <td>Female</td>\n",
       "      <td>39</td>\n",
       "      <td>1</td>\n",
       "      <td>0.00</td>\n",
       "      <td>2</td>\n",
       "      <td>0</td>\n",
       "      <td>0</td>\n",
       "      <td>93826.63</td>\n",
       "      <td>0</td>\n",
       "    </tr>\n",
       "    <tr>\n",
       "      <th>4</th>\n",
       "      <td>5</td>\n",
       "      <td>15737888</td>\n",
       "      <td>Mitchell</td>\n",
       "      <td>850.0</td>\n",
       "      <td>Central</td>\n",
       "      <td>Female</td>\n",
       "      <td>43</td>\n",
       "      <td>2</td>\n",
       "      <td>125510.82</td>\n",
       "      <td>1</td>\n",
       "      <td>1</td>\n",
       "      <td>1</td>\n",
       "      <td>79084.10</td>\n",
       "      <td>0</td>\n",
       "    </tr>\n",
       "  </tbody>\n",
       "</table>\n",
       "</div>"
      ],
      "text/plain": [
       "   RowNumber  CustomerId   Surname  CreditScore Geography  Gender  Age  \\\n",
       "0          1    15634602  Hargrave        619.0      West  Female   42   \n",
       "1          2    15647311      Hill        608.0   Central  Female   41   \n",
       "2          3    15619304      Onio        502.0      West  Female   42   \n",
       "3          4    15701354      Boni        699.0      West  Female   39   \n",
       "4          5    15737888  Mitchell        850.0   Central  Female   43   \n",
       "\n",
       "   Tenure    Balance  NumOfProducts  HasChckng  IsActiveMember  \\\n",
       "0       2       0.00              1          1               1   \n",
       "1       1   83807.86              1          0               1   \n",
       "2       8  159660.80              3          1               0   \n",
       "3       1       0.00              2          0               0   \n",
       "4       2  125510.82              1          1               1   \n",
       "\n",
       "   EstimatedSalary  Exited  \n",
       "0        101348.88       1  \n",
       "1        112542.58       0  \n",
       "2        113931.57       1  \n",
       "3         93826.63       0  \n",
       "4         79084.10       0  "
      ]
     },
     "execution_count": 7,
     "metadata": {},
     "output_type": "execute_result"
    }
   ],
   "source": [
    "print(\"A snapshot of the data looks like this - \")\n",
    "df_actual.head()"
   ]
  },
  {
   "cell_type": "markdown",
   "id": "fd2d3f31",
   "metadata": {},
   "source": [
    "### 1.3 Creating a new data frame keeping the necessary columns"
   ]
  },
  {
   "cell_type": "code",
   "execution_count": 8,
   "id": "42125d0e",
   "metadata": {},
   "outputs": [
    {
     "name": "stdout",
     "output_type": "stream",
     "text": [
      "The variables RowNumber and Surname are dropped from the data\n",
      "\n",
      " The total number of customers is 10000\n",
      " 2037 customers exited the business\n",
      " 7963 customers are still in the business\n",
      "\n"
     ]
    }
   ],
   "source": [
    "df_2 = df_actual.drop(['RowNumber','Surname'],axis=1) ## dropping the not necessary columns\n",
    "print('The variables RowNumber and Surname are dropped from the data\\n\\n',\n",
    "      'The total number of customers is {}\\n'.format(len(df_2)),\n",
    "      '{} customers exited the business\\n'.format(len(df_2[df_2.Exited ==1])),\n",
    "      '{} customers are still in the business\\n'.format(len(df_2[df_2.Exited == 0])))"
   ]
  },
  {
   "cell_type": "code",
   "execution_count": 9,
   "id": "a02ba97b",
   "metadata": {},
   "outputs": [
    {
     "name": "stdout",
     "output_type": "stream",
     "text": [
      "Here is a brief on the data we are working on - \n",
      "\n",
      "<class 'pandas.core.frame.DataFrame'>\n",
      "RangeIndex: 10000 entries, 0 to 9999\n",
      "Data columns (total 12 columns):\n",
      " #   Column           Non-Null Count  Dtype  \n",
      "---  ------           --------------  -----  \n",
      " 0   CustomerId       10000 non-null  int64  \n",
      " 1   CreditScore      9997 non-null   float64\n",
      " 2   Geography        10000 non-null  object \n",
      " 3   Gender           10000 non-null  object \n",
      " 4   Age              10000 non-null  int64  \n",
      " 5   Tenure           10000 non-null  int64  \n",
      " 6   Balance          10000 non-null  float64\n",
      " 7   NumOfProducts    10000 non-null  int64  \n",
      " 8   HasChckng        10000 non-null  int64  \n",
      " 9   IsActiveMember   10000 non-null  int64  \n",
      " 10  EstimatedSalary  10000 non-null  float64\n",
      " 11  Exited           10000 non-null  int64  \n",
      "dtypes: float64(3), int64(7), object(2)\n",
      "memory usage: 937.6+ KB\n"
     ]
    }
   ],
   "source": [
    "print('Here is a brief on the data we are working on - \\n')\n",
    "df_2.info()"
   ]
  },
  {
   "cell_type": "markdown",
   "id": "6529e4b0",
   "metadata": {},
   "source": [
    " "
   ]
  },
  {
   "cell_type": "code",
   "execution_count": 10,
   "id": "17ea0477",
   "metadata": {},
   "outputs": [],
   "source": [
    "df_2.set_index('CustomerId',inplace=True)"
   ]
  },
  {
   "cell_type": "code",
   "execution_count": 11,
   "id": "0776875e",
   "metadata": {},
   "outputs": [
    {
     "name": "stdout",
     "output_type": "stream",
     "text": [
      "Setting the CustomerId column as the index to the dataframe the data looks like -\n"
     ]
    },
    {
     "data": {
      "text/html": [
       "<div>\n",
       "<style scoped>\n",
       "    .dataframe tbody tr th:only-of-type {\n",
       "        vertical-align: middle;\n",
       "    }\n",
       "\n",
       "    .dataframe tbody tr th {\n",
       "        vertical-align: top;\n",
       "    }\n",
       "\n",
       "    .dataframe thead th {\n",
       "        text-align: right;\n",
       "    }\n",
       "</style>\n",
       "<table border=\"1\" class=\"dataframe\">\n",
       "  <thead>\n",
       "    <tr style=\"text-align: right;\">\n",
       "      <th></th>\n",
       "      <th>CreditScore</th>\n",
       "      <th>Geography</th>\n",
       "      <th>Gender</th>\n",
       "      <th>Age</th>\n",
       "      <th>Tenure</th>\n",
       "      <th>Balance</th>\n",
       "      <th>NumOfProducts</th>\n",
       "      <th>HasChckng</th>\n",
       "      <th>IsActiveMember</th>\n",
       "      <th>EstimatedSalary</th>\n",
       "      <th>Exited</th>\n",
       "    </tr>\n",
       "    <tr>\n",
       "      <th>CustomerId</th>\n",
       "      <th></th>\n",
       "      <th></th>\n",
       "      <th></th>\n",
       "      <th></th>\n",
       "      <th></th>\n",
       "      <th></th>\n",
       "      <th></th>\n",
       "      <th></th>\n",
       "      <th></th>\n",
       "      <th></th>\n",
       "      <th></th>\n",
       "    </tr>\n",
       "  </thead>\n",
       "  <tbody>\n",
       "    <tr>\n",
       "      <th>15634602</th>\n",
       "      <td>619.0</td>\n",
       "      <td>West</td>\n",
       "      <td>Female</td>\n",
       "      <td>42</td>\n",
       "      <td>2</td>\n",
       "      <td>0.00</td>\n",
       "      <td>1</td>\n",
       "      <td>1</td>\n",
       "      <td>1</td>\n",
       "      <td>101348.88</td>\n",
       "      <td>1</td>\n",
       "    </tr>\n",
       "    <tr>\n",
       "      <th>15647311</th>\n",
       "      <td>608.0</td>\n",
       "      <td>Central</td>\n",
       "      <td>Female</td>\n",
       "      <td>41</td>\n",
       "      <td>1</td>\n",
       "      <td>83807.86</td>\n",
       "      <td>1</td>\n",
       "      <td>0</td>\n",
       "      <td>1</td>\n",
       "      <td>112542.58</td>\n",
       "      <td>0</td>\n",
       "    </tr>\n",
       "    <tr>\n",
       "      <th>15619304</th>\n",
       "      <td>502.0</td>\n",
       "      <td>West</td>\n",
       "      <td>Female</td>\n",
       "      <td>42</td>\n",
       "      <td>8</td>\n",
       "      <td>159660.80</td>\n",
       "      <td>3</td>\n",
       "      <td>1</td>\n",
       "      <td>0</td>\n",
       "      <td>113931.57</td>\n",
       "      <td>1</td>\n",
       "    </tr>\n",
       "    <tr>\n",
       "      <th>15701354</th>\n",
       "      <td>699.0</td>\n",
       "      <td>West</td>\n",
       "      <td>Female</td>\n",
       "      <td>39</td>\n",
       "      <td>1</td>\n",
       "      <td>0.00</td>\n",
       "      <td>2</td>\n",
       "      <td>0</td>\n",
       "      <td>0</td>\n",
       "      <td>93826.63</td>\n",
       "      <td>0</td>\n",
       "    </tr>\n",
       "    <tr>\n",
       "      <th>15737888</th>\n",
       "      <td>850.0</td>\n",
       "      <td>Central</td>\n",
       "      <td>Female</td>\n",
       "      <td>43</td>\n",
       "      <td>2</td>\n",
       "      <td>125510.82</td>\n",
       "      <td>1</td>\n",
       "      <td>1</td>\n",
       "      <td>1</td>\n",
       "      <td>79084.10</td>\n",
       "      <td>0</td>\n",
       "    </tr>\n",
       "  </tbody>\n",
       "</table>\n",
       "</div>"
      ],
      "text/plain": [
       "            CreditScore Geography  Gender  Age  Tenure    Balance  \\\n",
       "CustomerId                                                          \n",
       "15634602          619.0      West  Female   42       2       0.00   \n",
       "15647311          608.0   Central  Female   41       1   83807.86   \n",
       "15619304          502.0      West  Female   42       8  159660.80   \n",
       "15701354          699.0      West  Female   39       1       0.00   \n",
       "15737888          850.0   Central  Female   43       2  125510.82   \n",
       "\n",
       "            NumOfProducts  HasChckng  IsActiveMember  EstimatedSalary  Exited  \n",
       "CustomerId                                                                     \n",
       "15634602                1          1               1        101348.88       1  \n",
       "15647311                1          0               1        112542.58       0  \n",
       "15619304                3          1               0        113931.57       1  \n",
       "15701354                2          0               0         93826.63       0  \n",
       "15737888                1          1               1         79084.10       0  "
      ]
     },
     "execution_count": 11,
     "metadata": {},
     "output_type": "execute_result"
    }
   ],
   "source": [
    "print('Setting the CustomerId column as the index to the dataframe the data looks like -')\n",
    "df_2.head()"
   ]
  },
  {
   "cell_type": "markdown",
   "id": "99258b72",
   "metadata": {},
   "source": [
    "## 2. Exploratory Data Analysis"
   ]
  },
  {
   "cell_type": "markdown",
   "id": "f1661b10",
   "metadata": {},
   "source": [
    " "
   ]
  },
  {
   "cell_type": "markdown",
   "id": "9aafb615",
   "metadata": {},
   "source": [
    "### 2.1  Bivariate Analysis"
   ]
  },
  {
   "cell_type": "markdown",
   "id": "ee5568f9",
   "metadata": {},
   "source": [
    " "
   ]
  },
  {
   "cell_type": "code",
   "execution_count": 12,
   "id": "30f4b23a",
   "metadata": {},
   "outputs": [
    {
     "name": "stdout",
     "output_type": "stream",
     "text": [
      "The plot below compares the mean estimated salary against the dependent variable Exited :-\n"
     ]
    },
    {
     "data": {
      "text/plain": [
       "<AxesSubplot:xlabel='Exited', ylabel='mean est salary'>"
      ]
     },
     "execution_count": 12,
     "metadata": {},
     "output_type": "execute_result"
    },
    {
     "data": {
      "image/png": "[encoded data removed]",
      "text/plain": [
       "<Figure size 432x288 with 1 Axes>"
      ]
     },
     "metadata": {
      "needs_background": "light"
     },
     "output_type": "display_data"
    }
   ],
   "source": [
    "print('The plot below compares the mean estimated salary against the dependent variable Exited :-')\n",
    "\n",
    "df_actual.pivot_table(values='EstimatedSalary', index=['Exited'], aggfunc='mean').plot.bar(ylabel='mean est salary')"
   ]
  },
  {
   "cell_type": "code",
   "execution_count": 13,
   "id": "49d51328",
   "metadata": {},
   "outputs": [
    {
     "name": "stdout",
     "output_type": "stream",
     "text": [
      "The plot below compares the number of customers who has purchased one,two,three and four products per service against the dependent variable Exited :-\n"
     ]
    },
    {
     "data": {
      "text/plain": [
       "<AxesSubplot:xlabel='Exited', ylabel='No Of Cust'>"
      ]
     },
     "execution_count": 13,
     "metadata": {},
     "output_type": "execute_result"
    },
    {
     "data": {
      "image/png": "[encoded data removed]",
      "text/plain": [
       "<Figure size 432x288 with 1 Axes>"
      ]
     },
     "metadata": {
      "needs_background": "light"
     },
     "output_type": "display_data"
    }
   ],
   "source": [
    "print('The plot below compares the number of customers who has purchased one,two,three and four products per service against the dependent variable Exited :-')\n",
    "\n",
    "df_actual.pivot_table(values='CustomerId', index=['Exited'],columns = ['NumOfProducts'], aggfunc='count').plot.bar(xlabel='Exited',ylabel='No Of Cust')"
   ]
  },
  {
   "cell_type": "code",
   "execution_count": 14,
   "id": "20a86551",
   "metadata": {},
   "outputs": [
    {
     "name": "stdout",
     "output_type": "stream",
     "text": [
      "The plot below compares the number of customers who has has a checking account vs those who do not have against the dependent variable Exited :-\n"
     ]
    },
    {
     "data": {
      "text/plain": [
       "<AxesSubplot:xlabel='Exited', ylabel='No Of Cust'>"
      ]
     },
     "execution_count": 14,
     "metadata": {},
     "output_type": "execute_result"
    },
    {
     "data": {
      "image/png": "[encoded data removed]",
      "text/plain": [
       "<Figure size 432x288 with 1 Axes>"
      ]
     },
     "metadata": {
      "needs_background": "light"
     },
     "output_type": "display_data"
    }
   ],
   "source": [
    "print('The plot below compares the number of customers who has has a checking account vs those who do not have against the dependent variable Exited :-')\n",
    "\n",
    "df_actual.pivot_table(values='CustomerId', index=['Exited'],columns = ['HasChckng'], aggfunc='count').plot.bar(xlabel='Exited',ylabel='No Of Cust')"
   ]
  },
  {
   "cell_type": "code",
   "execution_count": 15,
   "id": "a7de029c",
   "metadata": {},
   "outputs": [
    {
     "name": "stdout",
     "output_type": "stream",
     "text": [
      "The plot below compares the mean credit score against the dependent variable Exited :-\n"
     ]
    },
    {
     "data": {
      "text/plain": [
       "<AxesSubplot:xlabel='Exited', ylabel='mean credit score'>"
      ]
     },
     "execution_count": 15,
     "metadata": {},
     "output_type": "execute_result"
    },
    {
     "data": {
      "image/png": "[encoded data removed]",
      "text/plain": [
       "<Figure size 432x288 with 1 Axes>"
      ]
     },
     "metadata": {
      "needs_background": "light"
     },
     "output_type": "display_data"
    }
   ],
   "source": [
    "print('The plot below compares the mean credit score against the dependent variable Exited :-')\n",
    "\n",
    "df_actual.pivot_table(values='CreditScore', index=['Exited'], aggfunc='mean').plot.bar(ylabel='mean credit score')"
   ]
  },
  {
   "cell_type": "code",
   "execution_count": 16,
   "id": "dc309cd2",
   "metadata": {},
   "outputs": [
    {
     "name": "stdout",
     "output_type": "stream",
     "text": [
      "The plot below compares the Number Of Customers who are Active or Not Active across digital channels against the dependent variable Exited :-\n"
     ]
    },
    {
     "data": {
      "text/plain": [
       "<AxesSubplot:xlabel='Exited', ylabel='No Of Cust'>"
      ]
     },
     "execution_count": 16,
     "metadata": {},
     "output_type": "execute_result"
    },
    {
     "data": {
      "image/png": "[encoded data removed]",
      "text/plain": [
       "<Figure size 432x288 with 1 Axes>"
      ]
     },
     "metadata": {
      "needs_background": "light"
     },
     "output_type": "display_data"
    }
   ],
   "source": [
    "print('The plot below compares the Number Of Customers who are Active or Not Active across digital channels against the dependent variable Exited :-')\n",
    "\n",
    "df_actual.pivot_table(values='CustomerId', index=['Exited'],columns = ['IsActiveMember'], aggfunc='count').plot.bar(xlabel='Exited',ylabel='No Of Cust')"
   ]
  },
  {
   "cell_type": "code",
   "execution_count": 17,
   "id": "e6ab3b2b",
   "metadata": {},
   "outputs": [
    {
     "name": "stdout",
     "output_type": "stream",
     "text": [
      "The plot below compares the Number Of Customers by Gender against the dependent variable Exited :-\n"
     ]
    },
    {
     "data": {
      "text/plain": [
       "<AxesSubplot:xlabel='Exited', ylabel='No Of Cust'>"
      ]
     },
     "execution_count": 17,
     "metadata": {},
     "output_type": "execute_result"
    },
    {
     "data": {
      "image/png": "[encoded data removed]",
      "text/plain": [
       "<Figure size 432x288 with 1 Axes>"
      ]
     },
     "metadata": {
      "needs_background": "light"
     },
     "output_type": "display_data"
    }
   ],
   "source": [
    "print('The plot below compares the Number Of Customers by Gender against the dependent variable Exited :-')\n",
    "\n",
    "df_actual.pivot_table(values='CustomerId', index=['Exited'],columns = ['Gender'], aggfunc='count').plot.bar(xlabel='Exited',ylabel='No Of Cust')"
   ]
  },
  {
   "cell_type": "code",
   "execution_count": 18,
   "id": "1bfd6ef3",
   "metadata": {},
   "outputs": [
    {
     "name": "stdout",
     "output_type": "stream",
     "text": [
      "The plot below compares the Number Of Customers by Geography against the dependent variable Exited :-\n"
     ]
    },
    {
     "data": {
      "text/plain": [
       "<AxesSubplot:xlabel='Exited', ylabel='No Of Cust'>"
      ]
     },
     "execution_count": 18,
     "metadata": {},
     "output_type": "execute_result"
    },
    {
     "data": {
      "image/png": "[encoded data removed]",
      "text/plain": [
       "<Figure size 432x288 with 1 Axes>"
      ]
     },
     "metadata": {
      "needs_background": "light"
     },
     "output_type": "display_data"
    }
   ],
   "source": [
    "print('The plot below compares the Number Of Customers by Geography against the dependent variable Exited :-')\n",
    "\n",
    "df_actual.pivot_table(values='CustomerId', index=['Exited'],columns = ['Geography'], aggfunc='count').plot.bar(xlabel='Exited',ylabel='No Of Cust')"
   ]
  },
  {
   "cell_type": "code",
   "execution_count": 19,
   "id": "cd63b1ff",
   "metadata": {},
   "outputs": [
    {
     "name": "stdout",
     "output_type": "stream",
     "text": [
      "The plot below compares the average Balance of customers against the dependent variable Exited :-\n"
     ]
    },
    {
     "data": {
      "text/plain": [
       "<AxesSubplot:xlabel='Exited', ylabel='mean balance'>"
      ]
     },
     "execution_count": 19,
     "metadata": {},
     "output_type": "execute_result"
    },
    {
     "data": {
      "image/png": "[encoded data removed]",
      "text/plain": [
       "<Figure size 432x288 with 1 Axes>"
      ]
     },
     "metadata": {
      "needs_background": "light"
     },
     "output_type": "display_data"
    }
   ],
   "source": [
    "print('The plot below compares the average Balance of customers against the dependent variable Exited :-')\n",
    "\n",
    "df_actual.pivot_table(values='Balance', index=['Exited'], aggfunc='mean').plot.bar(ylabel='mean balance')"
   ]
  },
  {
   "cell_type": "code",
   "execution_count": 20,
   "id": "8f337f0d",
   "metadata": {},
   "outputs": [
    {
     "name": "stdout",
     "output_type": "stream",
     "text": [
      "The distinct values under Tenure column are as follows :-\n"
     ]
    },
    {
     "data": {
      "text/plain": [
       "array([ 2,  1,  8,  7, 30,  4,  6,  3, 10,  5,  9,  0], dtype=int64)"
      ]
     },
     "execution_count": 20,
     "metadata": {},
     "output_type": "execute_result"
    }
   ],
   "source": [
    "print('The distinct values under Tenure column are as follows :-')\n",
    "\n",
    "df_actual.Tenure.unique()"
   ]
  },
  {
   "cell_type": "code",
   "execution_count": 21,
   "id": "5ca87b59",
   "metadata": {},
   "outputs": [],
   "source": [
    "conditions = [(df_actual['Tenure']<=1), ((df_actual['Tenure']>1) & (df_actual['Tenure']<=5)), (df_actual['Tenure']>5)]\n",
    "choices = ['0 to 1','1 to 5','Greater than 5']\n",
    "df_actual['Tenure band'] = np.select(conditions, choices)"
   ]
  },
  {
   "cell_type": "code",
   "execution_count": 22,
   "id": "22a8a84e",
   "metadata": {},
   "outputs": [
    {
     "name": "stdout",
     "output_type": "stream",
     "text": [
      "The plot below compares the Number Of Customers across Tenure band against the dependent variable Exited :-\n"
     ]
    },
    {
     "data": {
      "text/plain": [
       "<AxesSubplot:xlabel='Exited', ylabel='No Of Cust'>"
      ]
     },
     "execution_count": 22,
     "metadata": {},
     "output_type": "execute_result"
    },
    {
     "data": {
      "image/png": "[encoded data removed]",
      "text/plain": [
       "<Figure size 432x288 with 1 Axes>"
      ]
     },
     "metadata": {
      "needs_background": "light"
     },
     "output_type": "display_data"
    }
   ],
   "source": [
    "print('The plot below compares the Number Of Customers across Tenure band against the dependent variable Exited :-')\n",
    "\n",
    "df_actual.pivot_table(values='CustomerId', index=['Exited'],columns = ['Tenure band'], aggfunc='count').plot.bar(xlabel='Exited',ylabel='No Of Cust')"
   ]
  },
  {
   "cell_type": "code",
   "execution_count": 23,
   "id": "e317649d",
   "metadata": {},
   "outputs": [],
   "source": [
    "conditions = [(df_actual['Age']<=30), ((df_actual['Age']>30) & (df_actual['Age']<=40)), ((df_actual['Age']>40) & (df_actual['Age']<=50)), (df_actual['Age']>50)]\n",
    "choices = ['<=30', '30 to 40', '40 to 50', '>50']\n",
    "df_actual['Age band'] = np.select(conditions, choices)"
   ]
  },
  {
   "cell_type": "code",
   "execution_count": 24,
   "id": "4a5d06cb",
   "metadata": {},
   "outputs": [
    {
     "name": "stdout",
     "output_type": "stream",
     "text": [
      "The plot below compares the Number Of Customers across Age Bands against the dependent variable Exited :-\n"
     ]
    },
    {
     "data": {
      "text/plain": [
       "<AxesSubplot:xlabel='Exited', ylabel='No Of Cust'>"
      ]
     },
     "execution_count": 24,
     "metadata": {},
     "output_type": "execute_result"
    },
    {
     "data": {
      "image/png": "[encoded data removed]",
      "text/plain": [
       "<Figure size 432x288 with 1 Axes>"
      ]
     },
     "metadata": {
      "needs_background": "light"
     },
     "output_type": "display_data"
    }
   ],
   "source": [
    "print('The plot below compares the Number Of Customers across Age Bands against the dependent variable Exited :-')\n",
    "\n",
    "df_actual.pivot_table(values='CustomerId', index=['Exited'],columns = ['Age band'], aggfunc='count').plot.bar(xlabel='Exited',ylabel='No Of Cust')"
   ]
  },
  {
   "cell_type": "markdown",
   "id": "bf881cf6",
   "metadata": {},
   "source": [
    " "
   ]
  },
  {
   "cell_type": "markdown",
   "id": "79aa2563",
   "metadata": {},
   "source": [
    "### 2.2  Multivariate Analysis"
   ]
  },
  {
   "cell_type": "markdown",
   "id": "0a33d3ac",
   "metadata": {},
   "source": [
    " "
   ]
  },
  {
   "cell_type": "code",
   "execution_count": 25,
   "id": "d6925990",
   "metadata": {},
   "outputs": [
    {
     "name": "stdout",
     "output_type": "stream",
     "text": [
      "The plot below represents the average estimated salary of non exited customers against different age band :-\n"
     ]
    },
    {
     "data": {
      "text/plain": [
       "<AxesSubplot:xlabel='Age band', ylabel='mean est salary'>"
      ]
     },
     "execution_count": 25,
     "metadata": {},
     "output_type": "execute_result"
    },
    {
     "data": {
      "image/png": "[encoded data removed]",
      "text/plain": [
       "<Figure size 432x288 with 1 Axes>"
      ]
     },
     "metadata": {
      "needs_background": "light"
     },
     "output_type": "display_data"
    }
   ],
   "source": [
    "print('The plot below represents the average estimated salary of non exited customers against different age band :-')\n",
    "\n",
    "df_actual[df_actual['Exited']==0].pivot_table(values='EstimatedSalary', index=['Age band'], aggfunc='mean').plot.bar(ylabel='mean est salary')"
   ]
  },
  {
   "cell_type": "code",
   "execution_count": 26,
   "id": "0b507144",
   "metadata": {},
   "outputs": [
    {
     "name": "stdout",
     "output_type": "stream",
     "text": [
      "The plot below represents the average estimated salary of the Exited customers against different age band :-\n"
     ]
    },
    {
     "data": {
      "text/plain": [
       "<AxesSubplot:xlabel='Age band', ylabel='mean est salary'>"
      ]
     },
     "execution_count": 26,
     "metadata": {},
     "output_type": "execute_result"
    },
    {
     "data": {
      "image/png": "[encoded data removed]",
      "text/plain": [
       "<Figure size 432x288 with 1 Axes>"
      ]
     },
     "metadata": {
      "needs_background": "light"
     },
     "output_type": "display_data"
    }
   ],
   "source": [
    "print('The plot below represents the average estimated salary of the Exited customers against different age band :-')\n",
    "\n",
    "df_actual[df_actual['Exited']==1].pivot_table(values='EstimatedSalary', index=['Age band'], aggfunc='mean').plot.bar(ylabel='mean est salary')"
   ]
  },
  {
   "cell_type": "code",
   "execution_count": 27,
   "id": "d74276ab",
   "metadata": {},
   "outputs": [
    {
     "name": "stdout",
     "output_type": "stream",
     "text": [
      "The plot below represents the average balance of the Exited customers against different age band :-\n"
     ]
    },
    {
     "data": {
      "text/plain": [
       "<AxesSubplot:xlabel='Age band', ylabel='mean balance'>"
      ]
     },
     "execution_count": 27,
     "metadata": {},
     "output_type": "execute_result"
    },
    {
     "data": {
      "image/png": "[encoded data removed]",
      "text/plain": [
       "<Figure size 432x288 with 1 Axes>"
      ]
     },
     "metadata": {
      "needs_background": "light"
     },
     "output_type": "display_data"
    }
   ],
   "source": [
    "print('The plot below represents the average balance of the Exited customers against different age band :-')\n",
    "\n",
    "df_actual[df_actual['Exited']==1].pivot_table(values='Balance', index=['Age band'], aggfunc='mean').plot.bar(ylabel='mean balance')"
   ]
  },
  {
   "cell_type": "code",
   "execution_count": 28,
   "id": "e1f304c4",
   "metadata": {},
   "outputs": [
    {
     "name": "stdout",
     "output_type": "stream",
     "text": [
      "The plot below represents the average balance of the Non Exited customers against different age band :-\n"
     ]
    },
    {
     "data": {
      "text/plain": [
       "<AxesSubplot:xlabel='Age band', ylabel='mean balance'>"
      ]
     },
     "execution_count": 28,
     "metadata": {},
     "output_type": "execute_result"
    },
    {
     "data": {
      "image/png": "[encoded data removed]",
      "text/plain": [
       "<Figure size 432x288 with 1 Axes>"
      ]
     },
     "metadata": {
      "needs_background": "light"
     },
     "output_type": "display_data"
    }
   ],
   "source": [
    "print('The plot below represents the average balance of the Non Exited customers against different age band :-')\n",
    "\n",
    "df_actual[df_actual['Exited']==0].pivot_table(values='Balance', index=['Age band'], aggfunc='mean').plot.bar(ylabel='mean balance')"
   ]
  },
  {
   "cell_type": "code",
   "execution_count": 29,
   "id": "79e52d12",
   "metadata": {},
   "outputs": [
    {
     "name": "stdout",
     "output_type": "stream",
     "text": [
      "The plot below represents the number of Exited customers across purchase of number of products per service against different age band :-\n"
     ]
    },
    {
     "data": {
      "text/plain": [
       "<AxesSubplot:xlabel='Age band', ylabel='No Of Cust'>"
      ]
     },
     "execution_count": 29,
     "metadata": {},
     "output_type": "execute_result"
    },
    {
     "data": {
      "image/png": "[encoded data removed]",
      "text/plain": [
       "<Figure size 432x288 with 1 Axes>"
      ]
     },
     "metadata": {
      "needs_background": "light"
     },
     "output_type": "display_data"
    }
   ],
   "source": [
    "print('The plot below represents the number of Exited customers across purchase of number of products per service against different age band :-')\n",
    "\n",
    "df_actual[df_actual['Exited']==1].pivot_table(values='CustomerId', index=['Age band'],columns = ['NumOfProducts'], aggfunc='count').plot.bar(xlabel='Age band',ylabel='No Of Cust')"
   ]
  },
  {
   "cell_type": "code",
   "execution_count": 30,
   "id": "49303f6a",
   "metadata": {},
   "outputs": [
    {
     "name": "stdout",
     "output_type": "stream",
     "text": [
      "The plot below represents the number of Non Exited customers across purchase of number of products per service against different age band :-\n"
     ]
    },
    {
     "data": {
      "text/plain": [
       "<AxesSubplot:xlabel='Age band', ylabel='No Of Cust'>"
      ]
     },
     "execution_count": 30,
     "metadata": {},
     "output_type": "execute_result"
    },
    {
     "data": {
      "image/png": "[encoded data removed]",
      "text/plain": [
       "<Figure size 432x288 with 1 Axes>"
      ]
     },
     "metadata": {
      "needs_background": "light"
     },
     "output_type": "display_data"
    }
   ],
   "source": [
    "print('The plot below represents the number of Non Exited customers across purchase of number of products per service against different age band :-')\n",
    "\n",
    "df_actual[df_actual['Exited']==0].pivot_table(values='CustomerId', index=['Age band'],columns = ['NumOfProducts'], aggfunc='count').plot.bar(xlabel='Age band',ylabel='No Of Cust')"
   ]
  },
  {
   "cell_type": "code",
   "execution_count": 31,
   "id": "9d26da29",
   "metadata": {},
   "outputs": [
    {
     "name": "stdout",
     "output_type": "stream",
     "text": [
      "The plot below represents the number of Exited customers with respect to being Active or Not Active in digital channels against different age band :-\n"
     ]
    },
    {
     "data": {
      "text/plain": [
       "<AxesSubplot:xlabel='Age band', ylabel='No Of Cust'>"
      ]
     },
     "execution_count": 31,
     "metadata": {},
     "output_type": "execute_result"
    },
    {
     "data": {
      "image/png": "[encoded data removed]",
      "text/plain": [
       "<Figure size 432x288 with 1 Axes>"
      ]
     },
     "metadata": {
      "needs_background": "light"
     },
     "output_type": "display_data"
    }
   ],
   "source": [
    "print('The plot below represents the number of Exited customers with respect to being Active or Not Active in digital channels against different age band :-')\n",
    "\n",
    "df_actual[df_actual['Exited']==1].pivot_table(values='CustomerId', index=['Age band'],columns = ['IsActiveMember'], aggfunc='count').plot.bar(xlabel='Age band',ylabel='No Of Cust')"
   ]
  },
  {
   "cell_type": "code",
   "execution_count": 32,
   "id": "7811638b",
   "metadata": {},
   "outputs": [
    {
     "name": "stdout",
     "output_type": "stream",
     "text": [
      "The plot below represents the number of Non Exited customers with respect to being Active or Not Active in digital channels against different age band :-\n"
     ]
    },
    {
     "data": {
      "text/plain": [
       "<AxesSubplot:xlabel='Age band', ylabel='No Of Cust'>"
      ]
     },
     "execution_count": 32,
     "metadata": {},
     "output_type": "execute_result"
    },
    {
     "data": {
      "image/png": "[encoded data removed]",
      "text/plain": [
       "<Figure size 432x288 with 1 Axes>"
      ]
     },
     "metadata": {
      "needs_background": "light"
     },
     "output_type": "display_data"
    }
   ],
   "source": [
    "print('The plot below represents the number of Non Exited customers with respect to being Active or Not Active in digital channels against different age band :-')\n",
    "\n",
    "df_actual[df_actual['Exited']==0].pivot_table(values='CustomerId', index=['Age band'],columns = ['IsActiveMember'], aggfunc='count').plot.bar(xlabel='Age band',ylabel='No Of Cust')"
   ]
  },
  {
   "cell_type": "code",
   "execution_count": 33,
   "id": "011a8742",
   "metadata": {},
   "outputs": [
    {
     "name": "stdout",
     "output_type": "stream",
     "text": [
      "The plot below represents the number of Exited customers across Tenure band against different age band :-\n"
     ]
    },
    {
     "data": {
      "text/plain": [
       "<AxesSubplot:xlabel='Age band', ylabel='No Of Cust'>"
      ]
     },
     "execution_count": 33,
     "metadata": {},
     "output_type": "execute_result"
    },
    {
     "data": {
      "image/png": "[encoded data removed]",
      "text/plain": [
       "<Figure size 432x288 with 1 Axes>"
      ]
     },
     "metadata": {
      "needs_background": "light"
     },
     "output_type": "display_data"
    }
   ],
   "source": [
    "print('The plot below represents the number of Exited customers across Tenure band against different age band :-')\n",
    "\n",
    "df_actual[df_actual['Exited']==1].pivot_table(values='CustomerId', index=['Age band'],columns = ['Tenure band'], aggfunc='count').plot.bar(xlabel='Age band',ylabel='No Of Cust')"
   ]
  },
  {
   "cell_type": "code",
   "execution_count": 34,
   "id": "11643ac8",
   "metadata": {},
   "outputs": [
    {
     "name": "stdout",
     "output_type": "stream",
     "text": [
      "The plot below represents the number of Non Exited customers across Tenure band against different age band :-\n"
     ]
    },
    {
     "data": {
      "text/plain": [
       "<AxesSubplot:xlabel='Age band', ylabel='No Of Cust'>"
      ]
     },
     "execution_count": 34,
     "metadata": {},
     "output_type": "execute_result"
    },
    {
     "data": {
      "image/png": "[encoded data removed]",
      "text/plain": [
       "<Figure size 432x288 with 1 Axes>"
      ]
     },
     "metadata": {
      "needs_background": "light"
     },
     "output_type": "display_data"
    }
   ],
   "source": [
    "print('The plot below represents the number of Non Exited customers across Tenure band against different age band :-')\n",
    "\n",
    "df_actual[df_actual['Exited']==0].pivot_table(values='CustomerId', index=['Age band'],columns = ['Tenure band'], aggfunc='count').plot.bar(xlabel='Age band',ylabel='No Of Cust')"
   ]
  },
  {
   "cell_type": "code",
   "execution_count": 35,
   "id": "93ea1ab4",
   "metadata": {},
   "outputs": [
    {
     "name": "stdout",
     "output_type": "stream",
     "text": [
      "The plot below represents the number of Exited customers across Geography against different age band :-\n"
     ]
    },
    {
     "data": {
      "text/plain": [
       "<AxesSubplot:xlabel='Age band', ylabel='No Of Cust'>"
      ]
     },
     "execution_count": 35,
     "metadata": {},
     "output_type": "execute_result"
    },
    {
     "data": {
      "image/png": "[encoded data removed]",
      "text/plain": [
       "<Figure size 432x288 with 1 Axes>"
      ]
     },
     "metadata": {
      "needs_background": "light"
     },
     "output_type": "display_data"
    }
   ],
   "source": [
    "print('The plot below represents the number of Exited customers across Geography against different age band :-')\n",
    "\n",
    "df_actual[df_actual['Exited']==1].pivot_table(values='CustomerId', index=['Age band'],columns = ['Geography'], aggfunc='count').plot.bar(xlabel='Age band',ylabel='No Of Cust')"
   ]
  },
  {
   "cell_type": "code",
   "execution_count": 36,
   "id": "39357c3f",
   "metadata": {},
   "outputs": [
    {
     "name": "stdout",
     "output_type": "stream",
     "text": [
      "The plot below represents the number of Non Exited customers across Geography against different age band :-\n"
     ]
    },
    {
     "data": {
      "text/plain": [
       "<AxesSubplot:xlabel='Age band', ylabel='No Of Cust'>"
      ]
     },
     "execution_count": 36,
     "metadata": {},
     "output_type": "execute_result"
    },
    {
     "data": {
      "image/png": "[encoded data removed]",
      "text/plain": [
       "<Figure size 432x288 with 1 Axes>"
      ]
     },
     "metadata": {
      "needs_background": "light"
     },
     "output_type": "display_data"
    }
   ],
   "source": [
    "print('The plot below represents the number of Non Exited customers across Geography against different age band :-')\n",
    "\n",
    "df_actual[df_actual['Exited']==0].pivot_table(values='CustomerId', index=['Age band'],columns = ['Geography'], aggfunc='count').plot.bar(xlabel='Age band',ylabel='No Of Cust')"
   ]
  },
  {
   "cell_type": "markdown",
   "id": "87233e9c",
   "metadata": {},
   "source": [
    " "
   ]
  },
  {
   "cell_type": "markdown",
   "id": "f611928b",
   "metadata": {},
   "source": [
    "### 2.3 Univariate Analysis for Categorical Variables"
   ]
  },
  {
   "cell_type": "markdown",
   "id": "f39b7d3a",
   "metadata": {},
   "source": [
    " "
   ]
  },
  {
   "cell_type": "code",
   "execution_count": 37,
   "id": "efe948e5",
   "metadata": {},
   "outputs": [
    {
     "name": "stdout",
     "output_type": "stream",
     "text": [
      "The frequency distribution of total customers by Activity across digital channels :-\n"
     ]
    },
    {
     "data": {
      "text/plain": [
       "1    5151\n",
       "0    4849\n",
       "Name: IsActiveMember, dtype: int64"
      ]
     },
     "execution_count": 37,
     "metadata": {},
     "output_type": "execute_result"
    }
   ],
   "source": [
    "print('The frequency distribution of total customers by Activity across digital channels :-')\n",
    "\n",
    "df_actual.IsActiveMember.value_counts()"
   ]
  },
  {
   "cell_type": "code",
   "execution_count": 38,
   "id": "848fe465",
   "metadata": {},
   "outputs": [
    {
     "name": "stdout",
     "output_type": "stream",
     "text": [
      "The frequency distribution of total customers by Activity across digital channels :-\n"
     ]
    },
    {
     "data": {
      "text/plain": [
       "1    7055\n",
       "0    2945\n",
       "Name: HasChckng, dtype: int64"
      ]
     },
     "execution_count": 38,
     "metadata": {},
     "output_type": "execute_result"
    }
   ],
   "source": [
    "print('The frequency distribution of total customers by Activity across digital channels :-')\n",
    "\n",
    "df_actual.HasChckng.value_counts()"
   ]
  },
  {
   "cell_type": "code",
   "execution_count": 39,
   "id": "63f43d0e",
   "metadata": {},
   "outputs": [
    {
     "name": "stdout",
     "output_type": "stream",
     "text": [
      "The frequency distribution of total customers by Activity across Geography :-\n"
     ]
    },
    {
     "data": {
      "text/plain": [
       "West       5014\n",
       "East       2509\n",
       "Central    2477\n",
       "Name: Geography, dtype: int64"
      ]
     },
     "execution_count": 39,
     "metadata": {},
     "output_type": "execute_result"
    }
   ],
   "source": [
    "print('The frequency distribution of total customers by Activity across Geography :-')\n",
    "\n",
    "df_actual.Geography.value_counts()"
   ]
  },
  {
   "cell_type": "code",
   "execution_count": 40,
   "id": "86091949",
   "metadata": {},
   "outputs": [
    {
     "name": "stdout",
     "output_type": "stream",
     "text": [
      "The frequency distribution of total customers by Activity across Gender :-\n"
     ]
    },
    {
     "data": {
      "text/plain": [
       "Male       5453\n",
       "Female     4539\n",
       "Neutral       8\n",
       "Name: Gender, dtype: int64"
      ]
     },
     "execution_count": 40,
     "metadata": {},
     "output_type": "execute_result"
    }
   ],
   "source": [
    "print('The frequency distribution of total customers by Activity across Gender :-')\n",
    "\n",
    "df_actual.Gender.value_counts()"
   ]
  },
  {
   "cell_type": "code",
   "execution_count": 41,
   "id": "933cfd45",
   "metadata": {},
   "outputs": [
    {
     "name": "stdout",
     "output_type": "stream",
     "text": [
      "The relative frequency distribution of total customers across Exited and Non Exited customer against Activity across digital channels :-\n"
     ]
    },
    {
     "data": {
      "text/html": [
       "<div>\n",
       "<style scoped>\n",
       "    .dataframe tbody tr th:only-of-type {\n",
       "        vertical-align: middle;\n",
       "    }\n",
       "\n",
       "    .dataframe tbody tr th {\n",
       "        vertical-align: top;\n",
       "    }\n",
       "\n",
       "    .dataframe thead th {\n",
       "        text-align: right;\n",
       "    }\n",
       "</style>\n",
       "<table border=\"1\" class=\"dataframe\">\n",
       "  <thead>\n",
       "    <tr style=\"text-align: right;\">\n",
       "      <th>Exited</th>\n",
       "      <th>0</th>\n",
       "      <th>1</th>\n",
       "    </tr>\n",
       "    <tr>\n",
       "      <th>IsActiveMember</th>\n",
       "      <th></th>\n",
       "      <th></th>\n",
       "    </tr>\n",
       "  </thead>\n",
       "  <tbody>\n",
       "    <tr>\n",
       "      <th>0</th>\n",
       "      <td>0.731491</td>\n",
       "      <td>0.268509</td>\n",
       "    </tr>\n",
       "    <tr>\n",
       "      <th>1</th>\n",
       "      <td>0.857309</td>\n",
       "      <td>0.142691</td>\n",
       "    </tr>\n",
       "  </tbody>\n",
       "</table>\n",
       "</div>"
      ],
      "text/plain": [
       "Exited                 0         1\n",
       "IsActiveMember                    \n",
       "0               0.731491  0.268509\n",
       "1               0.857309  0.142691"
      ]
     },
     "execution_count": 41,
     "metadata": {},
     "output_type": "execute_result"
    }
   ],
   "source": [
    "print('The relative frequency distribution of total customers across Exited and Non Exited customer against Activity across digital channels :-')\n",
    "\n",
    "pd.crosstab(df_actual.IsActiveMember,df_actual.Exited,normalize='index')"
   ]
  },
  {
   "cell_type": "code",
   "execution_count": 42,
   "id": "9095714b",
   "metadata": {},
   "outputs": [
    {
     "name": "stdout",
     "output_type": "stream",
     "text": [
      "The relative frequency distribution of total customers across Exited and Non Exited customer against having a Checking Account or not :-\n"
     ]
    },
    {
     "data": {
      "text/html": [
       "<div>\n",
       "<style scoped>\n",
       "    .dataframe tbody tr th:only-of-type {\n",
       "        vertical-align: middle;\n",
       "    }\n",
       "\n",
       "    .dataframe tbody tr th {\n",
       "        vertical-align: top;\n",
       "    }\n",
       "\n",
       "    .dataframe thead th {\n",
       "        text-align: right;\n",
       "    }\n",
       "</style>\n",
       "<table border=\"1\" class=\"dataframe\">\n",
       "  <thead>\n",
       "    <tr style=\"text-align: right;\">\n",
       "      <th>Exited</th>\n",
       "      <th>0</th>\n",
       "      <th>1</th>\n",
       "    </tr>\n",
       "    <tr>\n",
       "      <th>HasChckng</th>\n",
       "      <th></th>\n",
       "      <th></th>\n",
       "    </tr>\n",
       "  </thead>\n",
       "  <tbody>\n",
       "    <tr>\n",
       "      <th>0</th>\n",
       "      <td>0.791851</td>\n",
       "      <td>0.208149</td>\n",
       "    </tr>\n",
       "    <tr>\n",
       "      <th>1</th>\n",
       "      <td>0.798157</td>\n",
       "      <td>0.201843</td>\n",
       "    </tr>\n",
       "  </tbody>\n",
       "</table>\n",
       "</div>"
      ],
      "text/plain": [
       "Exited            0         1\n",
       "HasChckng                    \n",
       "0          0.791851  0.208149\n",
       "1          0.798157  0.201843"
      ]
     },
     "execution_count": 42,
     "metadata": {},
     "output_type": "execute_result"
    }
   ],
   "source": [
    "print('The relative frequency distribution of total customers across Exited and Non Exited customer against having a Checking Account or not :-')\n",
    "\n",
    "pd.crosstab(df_actual.HasChckng,df_actual.Exited,normalize='index')"
   ]
  },
  {
   "cell_type": "code",
   "execution_count": 43,
   "id": "51ea3b51",
   "metadata": {},
   "outputs": [
    {
     "name": "stdout",
     "output_type": "stream",
     "text": [
      "The relative frequency distribution of total customers across Exited and Non Exited customer against different Geography :-\n"
     ]
    },
    {
     "data": {
      "text/html": [
       "<div>\n",
       "<style scoped>\n",
       "    .dataframe tbody tr th:only-of-type {\n",
       "        vertical-align: middle;\n",
       "    }\n",
       "\n",
       "    .dataframe tbody tr th {\n",
       "        vertical-align: top;\n",
       "    }\n",
       "\n",
       "    .dataframe thead th {\n",
       "        text-align: right;\n",
       "    }\n",
       "</style>\n",
       "<table border=\"1\" class=\"dataframe\">\n",
       "  <thead>\n",
       "    <tr style=\"text-align: right;\">\n",
       "      <th>Exited</th>\n",
       "      <th>0</th>\n",
       "      <th>1</th>\n",
       "    </tr>\n",
       "    <tr>\n",
       "      <th>Geography</th>\n",
       "      <th></th>\n",
       "      <th></th>\n",
       "    </tr>\n",
       "  </thead>\n",
       "  <tbody>\n",
       "    <tr>\n",
       "      <th>Central</th>\n",
       "      <td>0.833266</td>\n",
       "      <td>0.166734</td>\n",
       "    </tr>\n",
       "    <tr>\n",
       "      <th>East</th>\n",
       "      <td>0.675568</td>\n",
       "      <td>0.324432</td>\n",
       "    </tr>\n",
       "    <tr>\n",
       "      <th>West</th>\n",
       "      <td>0.838452</td>\n",
       "      <td>0.161548</td>\n",
       "    </tr>\n",
       "  </tbody>\n",
       "</table>\n",
       "</div>"
      ],
      "text/plain": [
       "Exited            0         1\n",
       "Geography                    \n",
       "Central    0.833266  0.166734\n",
       "East       0.675568  0.324432\n",
       "West       0.838452  0.161548"
      ]
     },
     "execution_count": 43,
     "metadata": {},
     "output_type": "execute_result"
    }
   ],
   "source": [
    "print('The relative frequency distribution of total customers across Exited and Non Exited customer against different Geography :-')\n",
    "\n",
    "pd.crosstab(df_actual.Geography,df_actual.Exited,normalize='index')"
   ]
  },
  {
   "cell_type": "code",
   "execution_count": 44,
   "id": "d1b7e1e3",
   "metadata": {},
   "outputs": [
    {
     "name": "stdout",
     "output_type": "stream",
     "text": [
      "The relative frequency distribution of total customers across Exited and Non Exited customer against different Genders :-\n"
     ]
    },
    {
     "data": {
      "text/html": [
       "<div>\n",
       "<style scoped>\n",
       "    .dataframe tbody tr th:only-of-type {\n",
       "        vertical-align: middle;\n",
       "    }\n",
       "\n",
       "    .dataframe tbody tr th {\n",
       "        vertical-align: top;\n",
       "    }\n",
       "\n",
       "    .dataframe thead th {\n",
       "        text-align: right;\n",
       "    }\n",
       "</style>\n",
       "<table border=\"1\" class=\"dataframe\">\n",
       "  <thead>\n",
       "    <tr style=\"text-align: right;\">\n",
       "      <th>Exited</th>\n",
       "      <th>0</th>\n",
       "      <th>1</th>\n",
       "    </tr>\n",
       "    <tr>\n",
       "      <th>Gender</th>\n",
       "      <th></th>\n",
       "      <th></th>\n",
       "    </tr>\n",
       "  </thead>\n",
       "  <tbody>\n",
       "    <tr>\n",
       "      <th>Female</th>\n",
       "      <td>0.749504</td>\n",
       "      <td>0.250496</td>\n",
       "    </tr>\n",
       "    <tr>\n",
       "      <th>Male</th>\n",
       "      <td>0.835687</td>\n",
       "      <td>0.164313</td>\n",
       "    </tr>\n",
       "    <tr>\n",
       "      <th>Neutral</th>\n",
       "      <td>0.500000</td>\n",
       "      <td>0.500000</td>\n",
       "    </tr>\n",
       "  </tbody>\n",
       "</table>\n",
       "</div>"
      ],
      "text/plain": [
       "Exited          0         1\n",
       "Gender                     \n",
       "Female   0.749504  0.250496\n",
       "Male     0.835687  0.164313\n",
       "Neutral  0.500000  0.500000"
      ]
     },
     "execution_count": 44,
     "metadata": {},
     "output_type": "execute_result"
    }
   ],
   "source": [
    "print('The relative frequency distribution of total customers across Exited and Non Exited customer against different Genders :-')\n",
    "\n",
    "pd.crosstab(df_actual.Gender,df_actual.Exited,normalize='index')"
   ]
  },
  {
   "cell_type": "markdown",
   "id": "7656741f",
   "metadata": {},
   "source": [
    " "
   ]
  },
  {
   "cell_type": "markdown",
   "id": "11d538ab",
   "metadata": {},
   "source": [
    "### 2.4  Univariate Analysis for Numerical Variables ,Outlier Detection and Missing Value Treatment"
   ]
  },
  {
   "cell_type": "markdown",
   "id": "bd9379ab",
   "metadata": {},
   "source": [
    " "
   ]
  },
  {
   "cell_type": "code",
   "execution_count": 45,
   "id": "a5eec553",
   "metadata": {},
   "outputs": [],
   "source": [
    "num_list = ['Age','Tenure','CreditScore', 'Balance', 'EstimatedSalary','NumOfProducts']\n",
    "\n",
    "def outlier_detection(df,num_list,exited):\n",
    "    df_percentiles = pd.DataFrame()\n",
    "    for i in num_list:\n",
    "        df_percentiles = pd.concat([df[df.Exited==exited][i].describe([0.01,0.05,.1, .2, .3, .4, .5, .6,.7,.8,.9,.95,.99,1]).reset_index().T[0:] for i in num_list])\n",
    "        df_percentiles = df_percentiles.reset_index().drop_duplicates()\n",
    "        df_percentiles.columns = df_percentiles.iloc[0]\n",
    "        df_percentiles = df_percentiles.iloc[1:]\n",
    "        return df_percentiles"
   ]
  },
  {
   "cell_type": "code",
   "execution_count": 46,
   "id": "fa66df65",
   "metadata": {},
   "outputs": [],
   "source": [
    "def outlier_detection_all(df,num_list):\n",
    "    df_percentiles = pd.DataFrame()\n",
    "    for i in num_list:\n",
    "        df_percentiles = pd.concat([df[i].describe([0.01,0.05,.1, .2, .3, .4, .5, .6,.7,.8,.9,.95,.99,1]).reset_index().T[0:] for i in num_list])\n",
    "        df_percentiles = df_percentiles.reset_index().drop_duplicates()\n",
    "        df_percentiles.columns = df_percentiles.iloc[0]\n",
    "        df_percentiles = df_percentiles.iloc[1:]\n",
    "        return df_percentiles"
   ]
  },
  {
   "cell_type": "code",
   "execution_count": 47,
   "id": "32e0ccdc",
   "metadata": {},
   "outputs": [
    {
     "name": "stdout",
     "output_type": "stream",
     "text": [
      "Considering all customers, for numerical variables, the data distribution across percentiles look like this :\n",
      "\n"
     ]
    },
    {
     "data": {
      "text/html": [
       "<div>\n",
       "<style scoped>\n",
       "    .dataframe tbody tr th:only-of-type {\n",
       "        vertical-align: middle;\n",
       "    }\n",
       "\n",
       "    .dataframe tbody tr th {\n",
       "        vertical-align: top;\n",
       "    }\n",
       "\n",
       "    .dataframe thead th {\n",
       "        text-align: right;\n",
       "    }\n",
       "</style>\n",
       "<table border=\"1\" class=\"dataframe\">\n",
       "  <thead>\n",
       "    <tr style=\"text-align: right;\">\n",
       "      <th></th>\n",
       "      <th>index</th>\n",
       "      <th>count</th>\n",
       "      <th>mean</th>\n",
       "      <th>std</th>\n",
       "      <th>min</th>\n",
       "      <th>1%</th>\n",
       "      <th>5%</th>\n",
       "      <th>10%</th>\n",
       "      <th>20%</th>\n",
       "      <th>30%</th>\n",
       "      <th>40%</th>\n",
       "      <th>50%</th>\n",
       "      <th>60%</th>\n",
       "      <th>70%</th>\n",
       "      <th>80%</th>\n",
       "      <th>90%</th>\n",
       "      <th>95%</th>\n",
       "      <th>99%</th>\n",
       "      <th>100%</th>\n",
       "      <th>max</th>\n",
       "    </tr>\n",
       "  </thead>\n",
       "  <tbody>\n",
       "    <tr>\n",
       "      <th>1</th>\n",
       "      <td>Age</td>\n",
       "      <td>10000.0</td>\n",
       "      <td>38.9435</td>\n",
       "      <td>10.613726</td>\n",
       "      <td>18.0</td>\n",
       "      <td>21.0</td>\n",
       "      <td>25.0</td>\n",
       "      <td>27.0</td>\n",
       "      <td>31.0</td>\n",
       "      <td>33.0</td>\n",
       "      <td>35.0</td>\n",
       "      <td>37.0</td>\n",
       "      <td>40.0</td>\n",
       "      <td>42.0</td>\n",
       "      <td>46.0</td>\n",
       "      <td>53.0</td>\n",
       "      <td>60.0</td>\n",
       "      <td>72.0</td>\n",
       "      <td>190.0</td>\n",
       "      <td>190.0</td>\n",
       "    </tr>\n",
       "    <tr>\n",
       "      <th>3</th>\n",
       "      <td>Tenure</td>\n",
       "      <td>10000.0</td>\n",
       "      <td>5.0154</td>\n",
       "      <td>2.902931</td>\n",
       "      <td>0.0</td>\n",
       "      <td>0.0</td>\n",
       "      <td>1.0</td>\n",
       "      <td>1.0</td>\n",
       "      <td>2.0</td>\n",
       "      <td>3.0</td>\n",
       "      <td>4.0</td>\n",
       "      <td>5.0</td>\n",
       "      <td>6.0</td>\n",
       "      <td>7.0</td>\n",
       "      <td>8.0</td>\n",
       "      <td>9.0</td>\n",
       "      <td>9.0</td>\n",
       "      <td>10.0</td>\n",
       "      <td>30.0</td>\n",
       "      <td>30.0</td>\n",
       "    </tr>\n",
       "    <tr>\n",
       "      <th>5</th>\n",
       "      <td>CreditScore</td>\n",
       "      <td>9997.0</td>\n",
       "      <td>650.496849</td>\n",
       "      <td>96.7086</td>\n",
       "      <td>305.0</td>\n",
       "      <td>431.96</td>\n",
       "      <td>489.0</td>\n",
       "      <td>521.0</td>\n",
       "      <td>566.0</td>\n",
       "      <td>598.0</td>\n",
       "      <td>627.0</td>\n",
       "      <td>652.0</td>\n",
       "      <td>678.0</td>\n",
       "      <td>704.0</td>\n",
       "      <td>735.0</td>\n",
       "      <td>778.0</td>\n",
       "      <td>812.0</td>\n",
       "      <td>850.0</td>\n",
       "      <td>865.0</td>\n",
       "      <td>865.0</td>\n",
       "    </tr>\n",
       "    <tr>\n",
       "      <th>7</th>\n",
       "      <td>Balance</td>\n",
       "      <td>10000.0</td>\n",
       "      <td>76485.889288</td>\n",
       "      <td>62397.405202</td>\n",
       "      <td>0.0</td>\n",
       "      <td>0.0</td>\n",
       "      <td>0.0</td>\n",
       "      <td>0.0</td>\n",
       "      <td>0.0</td>\n",
       "      <td>0.0</td>\n",
       "      <td>73080.908</td>\n",
       "      <td>97198.54</td>\n",
       "      <td>110138.926</td>\n",
       "      <td>122029.87</td>\n",
       "      <td>133710.358</td>\n",
       "      <td>149244.792</td>\n",
       "      <td>162711.669</td>\n",
       "      <td>185967.9854</td>\n",
       "      <td>250898.09</td>\n",
       "      <td>250898.09</td>\n",
       "    </tr>\n",
       "    <tr>\n",
       "      <th>9</th>\n",
       "      <td>EstimatedSalary</td>\n",
       "      <td>10000.0</td>\n",
       "      <td>100090.239881</td>\n",
       "      <td>57510.492818</td>\n",
       "      <td>11.58</td>\n",
       "      <td>1842.8253</td>\n",
       "      <td>9851.8185</td>\n",
       "      <td>20273.58</td>\n",
       "      <td>41050.736</td>\n",
       "      <td>60736.079</td>\n",
       "      <td>80238.34</td>\n",
       "      <td>100193.915</td>\n",
       "      <td>119710.038</td>\n",
       "      <td>139432.236</td>\n",
       "      <td>159836.726</td>\n",
       "      <td>179674.704</td>\n",
       "      <td>190155.3755</td>\n",
       "      <td>198069.7345</td>\n",
       "      <td>199992.48</td>\n",
       "      <td>199992.48</td>\n",
       "    </tr>\n",
       "    <tr>\n",
       "      <th>11</th>\n",
       "      <td>NumOfProducts</td>\n",
       "      <td>10000.0</td>\n",
       "      <td>1.5302</td>\n",
       "      <td>0.581654</td>\n",
       "      <td>1.0</td>\n",
       "      <td>1.0</td>\n",
       "      <td>1.0</td>\n",
       "      <td>1.0</td>\n",
       "      <td>1.0</td>\n",
       "      <td>1.0</td>\n",
       "      <td>1.0</td>\n",
       "      <td>1.0</td>\n",
       "      <td>2.0</td>\n",
       "      <td>2.0</td>\n",
       "      <td>2.0</td>\n",
       "      <td>2.0</td>\n",
       "      <td>2.0</td>\n",
       "      <td>3.0</td>\n",
       "      <td>4.0</td>\n",
       "      <td>4.0</td>\n",
       "    </tr>\n",
       "  </tbody>\n",
       "</table>\n",
       "</div>"
      ],
      "text/plain": [
       "0             index    count           mean           std    min         1%  \\\n",
       "1               Age  10000.0        38.9435     10.613726   18.0       21.0   \n",
       "3            Tenure  10000.0         5.0154      2.902931    0.0        0.0   \n",
       "5       CreditScore   9997.0     650.496849       96.7086  305.0     431.96   \n",
       "7           Balance  10000.0   76485.889288  62397.405202    0.0        0.0   \n",
       "9   EstimatedSalary  10000.0  100090.239881  57510.492818  11.58  1842.8253   \n",
       "11    NumOfProducts  10000.0         1.5302      0.581654    1.0        1.0   \n",
       "\n",
       "0          5%       10%        20%        30%        40%         50%  \\\n",
       "1        25.0      27.0       31.0       33.0       35.0        37.0   \n",
       "3         1.0       1.0        2.0        3.0        4.0         5.0   \n",
       "5       489.0     521.0      566.0      598.0      627.0       652.0   \n",
       "7         0.0       0.0        0.0        0.0  73080.908    97198.54   \n",
       "9   9851.8185  20273.58  41050.736  60736.079   80238.34  100193.915   \n",
       "11        1.0       1.0        1.0        1.0        1.0         1.0   \n",
       "\n",
       "0          60%         70%         80%         90%          95%          99%  \\\n",
       "1         40.0        42.0        46.0        53.0         60.0         72.0   \n",
       "3          6.0         7.0         8.0         9.0          9.0         10.0   \n",
       "5        678.0       704.0       735.0       778.0        812.0        850.0   \n",
       "7   110138.926   122029.87  133710.358  149244.792   162711.669  185967.9854   \n",
       "9   119710.038  139432.236  159836.726  179674.704  190155.3755  198069.7345   \n",
       "11         2.0         2.0         2.0         2.0          2.0          3.0   \n",
       "\n",
       "0        100%        max  \n",
       "1       190.0      190.0  \n",
       "3        30.0       30.0  \n",
       "5       865.0      865.0  \n",
       "7   250898.09  250898.09  \n",
       "9   199992.48  199992.48  \n",
       "11        4.0        4.0  "
      ]
     },
     "execution_count": 47,
     "metadata": {},
     "output_type": "execute_result"
    }
   ],
   "source": [
    "print('Considering all customers, for numerical variables, the data distribution across percentiles look like this :\\n')\n",
    "\n",
    "outlier_detection_all  = outlier_detection_all(df_actual,num_list)\n",
    "outlier_detection_all\n",
    "#outlier_detection_all.to_excel(os.path.join(dir_up(path_m,1),'Model','summary_all.xlsx'))"
   ]
  },
  {
   "cell_type": "code",
   "execution_count": 48,
   "id": "d39ba2d4",
   "metadata": {},
   "outputs": [
    {
     "name": "stdout",
     "output_type": "stream",
     "text": [
      "Considering exited customers, for numerical variables, the data distribution across percentiles look like this :\n",
      "\n"
     ]
    },
    {
     "data": {
      "text/html": [
       "<div>\n",
       "<style scoped>\n",
       "    .dataframe tbody tr th:only-of-type {\n",
       "        vertical-align: middle;\n",
       "    }\n",
       "\n",
       "    .dataframe tbody tr th {\n",
       "        vertical-align: top;\n",
       "    }\n",
       "\n",
       "    .dataframe thead th {\n",
       "        text-align: right;\n",
       "    }\n",
       "</style>\n",
       "<table border=\"1\" class=\"dataframe\">\n",
       "  <thead>\n",
       "    <tr style=\"text-align: right;\">\n",
       "      <th></th>\n",
       "      <th>index</th>\n",
       "      <th>count</th>\n",
       "      <th>mean</th>\n",
       "      <th>std</th>\n",
       "      <th>min</th>\n",
       "      <th>1%</th>\n",
       "      <th>5%</th>\n",
       "      <th>10%</th>\n",
       "      <th>20%</th>\n",
       "      <th>30%</th>\n",
       "      <th>40%</th>\n",
       "      <th>50%</th>\n",
       "      <th>60%</th>\n",
       "      <th>70%</th>\n",
       "      <th>80%</th>\n",
       "      <th>90%</th>\n",
       "      <th>95%</th>\n",
       "      <th>99%</th>\n",
       "      <th>100%</th>\n",
       "      <th>max</th>\n",
       "    </tr>\n",
       "  </thead>\n",
       "  <tbody>\n",
       "    <tr>\n",
       "      <th>1</th>\n",
       "      <td>Age</td>\n",
       "      <td>2037.0</td>\n",
       "      <td>44.837997</td>\n",
       "      <td>9.761562</td>\n",
       "      <td>18.0</td>\n",
       "      <td>23.0</td>\n",
       "      <td>29.0</td>\n",
       "      <td>32.0</td>\n",
       "      <td>37.0</td>\n",
       "      <td>40.0</td>\n",
       "      <td>42.0</td>\n",
       "      <td>45.0</td>\n",
       "      <td>47.0</td>\n",
       "      <td>50.0</td>\n",
       "      <td>53.0</td>\n",
       "      <td>58.0</td>\n",
       "      <td>61.0</td>\n",
       "      <td>68.0</td>\n",
       "      <td>84.0</td>\n",
       "      <td>84.0</td>\n",
       "    </tr>\n",
       "    <tr>\n",
       "      <th>3</th>\n",
       "      <td>Tenure</td>\n",
       "      <td>2037.0</td>\n",
       "      <td>4.945508</td>\n",
       "      <td>2.988103</td>\n",
       "      <td>0.0</td>\n",
       "      <td>0.0</td>\n",
       "      <td>1.0</td>\n",
       "      <td>1.0</td>\n",
       "      <td>2.0</td>\n",
       "      <td>3.0</td>\n",
       "      <td>4.0</td>\n",
       "      <td>5.0</td>\n",
       "      <td>6.0</td>\n",
       "      <td>7.0</td>\n",
       "      <td>8.0</td>\n",
       "      <td>9.0</td>\n",
       "      <td>9.2</td>\n",
       "      <td>10.0</td>\n",
       "      <td>30.0</td>\n",
       "      <td>30.0</td>\n",
       "    </tr>\n",
       "    <tr>\n",
       "      <th>5</th>\n",
       "      <td>CreditScore</td>\n",
       "      <td>2037.0</td>\n",
       "      <td>645.183603</td>\n",
       "      <td>100.604522</td>\n",
       "      <td>305.0</td>\n",
       "      <td>402.08</td>\n",
       "      <td>478.8</td>\n",
       "      <td>517.0</td>\n",
       "      <td>557.0</td>\n",
       "      <td>593.0</td>\n",
       "      <td>620.0</td>\n",
       "      <td>646.0</td>\n",
       "      <td>672.0</td>\n",
       "      <td>703.0</td>\n",
       "      <td>735.0</td>\n",
       "      <td>776.4</td>\n",
       "      <td>812.2</td>\n",
       "      <td>850.0</td>\n",
       "      <td>850.0</td>\n",
       "      <td>850.0</td>\n",
       "    </tr>\n",
       "    <tr>\n",
       "      <th>7</th>\n",
       "      <td>Balance</td>\n",
       "      <td>2037.0</td>\n",
       "      <td>91108.539337</td>\n",
       "      <td>58360.794816</td>\n",
       "      <td>0.0</td>\n",
       "      <td>0.0</td>\n",
       "      <td>0.0</td>\n",
       "      <td>0.0</td>\n",
       "      <td>0.0</td>\n",
       "      <td>76717.528</td>\n",
       "      <td>99339.732</td>\n",
       "      <td>109349.29</td>\n",
       "      <td>118094.244</td>\n",
       "      <td>127093.772</td>\n",
       "      <td>136896.154</td>\n",
       "      <td>152080.618</td>\n",
       "      <td>167698.24</td>\n",
       "      <td>197355.2884</td>\n",
       "      <td>250898.09</td>\n",
       "      <td>250898.09</td>\n",
       "    </tr>\n",
       "    <tr>\n",
       "      <th>9</th>\n",
       "      <td>EstimatedSalary</td>\n",
       "      <td>2037.0</td>\n",
       "      <td>101465.677531</td>\n",
       "      <td>57912.418071</td>\n",
       "      <td>11.58</td>\n",
       "      <td>2165.8736</td>\n",
       "      <td>10030.76</td>\n",
       "      <td>20539.95</td>\n",
       "      <td>41793.644</td>\n",
       "      <td>61814.88</td>\n",
       "      <td>82279.322</td>\n",
       "      <td>102460.84</td>\n",
       "      <td>121519.426</td>\n",
       "      <td>141983.924</td>\n",
       "      <td>162688.39</td>\n",
       "      <td>180169.39</td>\n",
       "      <td>190328.982</td>\n",
       "      <td>197717.2976</td>\n",
       "      <td>199808.1</td>\n",
       "      <td>199808.1</td>\n",
       "    </tr>\n",
       "    <tr>\n",
       "      <th>11</th>\n",
       "      <td>NumOfProducts</td>\n",
       "      <td>2037.0</td>\n",
       "      <td>1.475209</td>\n",
       "      <td>0.801521</td>\n",
       "      <td>1.0</td>\n",
       "      <td>1.0</td>\n",
       "      <td>1.0</td>\n",
       "      <td>1.0</td>\n",
       "      <td>1.0</td>\n",
       "      <td>1.0</td>\n",
       "      <td>1.0</td>\n",
       "      <td>1.0</td>\n",
       "      <td>1.0</td>\n",
       "      <td>2.0</td>\n",
       "      <td>2.0</td>\n",
       "      <td>3.0</td>\n",
       "      <td>3.0</td>\n",
       "      <td>4.0</td>\n",
       "      <td>4.0</td>\n",
       "      <td>4.0</td>\n",
       "    </tr>\n",
       "  </tbody>\n",
       "</table>\n",
       "</div>"
      ],
      "text/plain": [
       "0             index   count           mean           std    min         1%  \\\n",
       "1               Age  2037.0      44.837997      9.761562   18.0       23.0   \n",
       "3            Tenure  2037.0       4.945508      2.988103    0.0        0.0   \n",
       "5       CreditScore  2037.0     645.183603    100.604522  305.0     402.08   \n",
       "7           Balance  2037.0   91108.539337  58360.794816    0.0        0.0   \n",
       "9   EstimatedSalary  2037.0  101465.677531  57912.418071  11.58  2165.8736   \n",
       "11    NumOfProducts  2037.0       1.475209      0.801521    1.0        1.0   \n",
       "\n",
       "0         5%       10%        20%        30%        40%        50%  \\\n",
       "1       29.0      32.0       37.0       40.0       42.0       45.0   \n",
       "3        1.0       1.0        2.0        3.0        4.0        5.0   \n",
       "5      478.8     517.0      557.0      593.0      620.0      646.0   \n",
       "7        0.0       0.0        0.0  76717.528  99339.732  109349.29   \n",
       "9   10030.76  20539.95  41793.644   61814.88  82279.322  102460.84   \n",
       "11       1.0       1.0        1.0        1.0        1.0        1.0   \n",
       "\n",
       "0          60%         70%         80%         90%         95%          99%  \\\n",
       "1         47.0        50.0        53.0        58.0        61.0         68.0   \n",
       "3          6.0         7.0         8.0         9.0         9.2         10.0   \n",
       "5        672.0       703.0       735.0       776.4       812.2        850.0   \n",
       "7   118094.244  127093.772  136896.154  152080.618   167698.24  197355.2884   \n",
       "9   121519.426  141983.924   162688.39   180169.39  190328.982  197717.2976   \n",
       "11         1.0         2.0         2.0         3.0         3.0          4.0   \n",
       "\n",
       "0        100%        max  \n",
       "1        84.0       84.0  \n",
       "3        30.0       30.0  \n",
       "5       850.0      850.0  \n",
       "7   250898.09  250898.09  \n",
       "9    199808.1   199808.1  \n",
       "11        4.0        4.0  "
      ]
     },
     "execution_count": 48,
     "metadata": {},
     "output_type": "execute_result"
    }
   ],
   "source": [
    "print('Considering exited customers, for numerical variables, the data distribution across percentiles look like this :\\n')\n",
    "\n",
    "outlier_detection_exited  = outlier_detection(df_actual,num_list,1)\n",
    "outlier_detection_exited\n",
    "#outlier_detection_exited.to_excel(os.path.join(dir_up(path_m,1),'Model','summary_exited.xlsx'))"
   ]
  },
  {
   "cell_type": "code",
   "execution_count": 49,
   "id": "1850f15e",
   "metadata": {},
   "outputs": [
    {
     "name": "stdout",
     "output_type": "stream",
     "text": [
      "Considering non-exited customers, for numerical variables, the data distribution across percentiles look like this :\n",
      "\n"
     ]
    },
    {
     "data": {
      "text/html": [
       "<div>\n",
       "<style scoped>\n",
       "    .dataframe tbody tr th:only-of-type {\n",
       "        vertical-align: middle;\n",
       "    }\n",
       "\n",
       "    .dataframe tbody tr th {\n",
       "        vertical-align: top;\n",
       "    }\n",
       "\n",
       "    .dataframe thead th {\n",
       "        text-align: right;\n",
       "    }\n",
       "</style>\n",
       "<table border=\"1\" class=\"dataframe\">\n",
       "  <thead>\n",
       "    <tr style=\"text-align: right;\">\n",
       "      <th></th>\n",
       "      <th>index</th>\n",
       "      <th>count</th>\n",
       "      <th>mean</th>\n",
       "      <th>std</th>\n",
       "      <th>min</th>\n",
       "      <th>1%</th>\n",
       "      <th>5%</th>\n",
       "      <th>10%</th>\n",
       "      <th>20%</th>\n",
       "      <th>30%</th>\n",
       "      <th>40%</th>\n",
       "      <th>50%</th>\n",
       "      <th>60%</th>\n",
       "      <th>70%</th>\n",
       "      <th>80%</th>\n",
       "      <th>90%</th>\n",
       "      <th>95%</th>\n",
       "      <th>99%</th>\n",
       "      <th>100%</th>\n",
       "      <th>max</th>\n",
       "    </tr>\n",
       "  </thead>\n",
       "  <tbody>\n",
       "    <tr>\n",
       "      <th>1</th>\n",
       "      <td>Age</td>\n",
       "      <td>7963.0</td>\n",
       "      <td>37.43564</td>\n",
       "      <td>10.292823</td>\n",
       "      <td>18.0</td>\n",
       "      <td>20.0</td>\n",
       "      <td>24.0</td>\n",
       "      <td>27.0</td>\n",
       "      <td>30.0</td>\n",
       "      <td>32.0</td>\n",
       "      <td>34.0</td>\n",
       "      <td>36.0</td>\n",
       "      <td>38.0</td>\n",
       "      <td>40.0</td>\n",
       "      <td>43.0</td>\n",
       "      <td>49.0</td>\n",
       "      <td>59.0</td>\n",
       "      <td>73.0</td>\n",
       "      <td>190.0</td>\n",
       "      <td>190.0</td>\n",
       "    </tr>\n",
       "    <tr>\n",
       "      <th>3</th>\n",
       "      <td>Tenure</td>\n",
       "      <td>7963.0</td>\n",
       "      <td>5.033279</td>\n",
       "      <td>2.880658</td>\n",
       "      <td>0.0</td>\n",
       "      <td>0.0</td>\n",
       "      <td>1.0</td>\n",
       "      <td>1.0</td>\n",
       "      <td>2.0</td>\n",
       "      <td>3.0</td>\n",
       "      <td>4.0</td>\n",
       "      <td>5.0</td>\n",
       "      <td>6.0</td>\n",
       "      <td>7.0</td>\n",
       "      <td>8.0</td>\n",
       "      <td>9.0</td>\n",
       "      <td>9.0</td>\n",
       "      <td>10.0</td>\n",
       "      <td>10.0</td>\n",
       "      <td>10.0</td>\n",
       "    </tr>\n",
       "    <tr>\n",
       "      <th>5</th>\n",
       "      <td>CreditScore</td>\n",
       "      <td>7960.0</td>\n",
       "      <td>651.856533</td>\n",
       "      <td>95.64522</td>\n",
       "      <td>405.0</td>\n",
       "      <td>438.0</td>\n",
       "      <td>492.0</td>\n",
       "      <td>523.0</td>\n",
       "      <td>568.0</td>\n",
       "      <td>600.0</td>\n",
       "      <td>628.0</td>\n",
       "      <td>653.0</td>\n",
       "      <td>679.0</td>\n",
       "      <td>704.0</td>\n",
       "      <td>734.2</td>\n",
       "      <td>778.0</td>\n",
       "      <td>812.0</td>\n",
       "      <td>850.0</td>\n",
       "      <td>865.0</td>\n",
       "      <td>865.0</td>\n",
       "    </tr>\n",
       "    <tr>\n",
       "      <th>7</th>\n",
       "      <td>Balance</td>\n",
       "      <td>7963.0</td>\n",
       "      <td>72745.296779</td>\n",
       "      <td>62848.040701</td>\n",
       "      <td>0.0</td>\n",
       "      <td>0.0</td>\n",
       "      <td>0.0</td>\n",
       "      <td>0.0</td>\n",
       "      <td>0.0</td>\n",
       "      <td>0.0</td>\n",
       "      <td>54422.476</td>\n",
       "      <td>92072.68</td>\n",
       "      <td>106959.26</td>\n",
       "      <td>120537.794</td>\n",
       "      <td>132852.782</td>\n",
       "      <td>148730.298</td>\n",
       "      <td>161592.595</td>\n",
       "      <td>183753.9062</td>\n",
       "      <td>221532.8</td>\n",
       "      <td>221532.8</td>\n",
       "    </tr>\n",
       "    <tr>\n",
       "      <th>9</th>\n",
       "      <td>EstimatedSalary</td>\n",
       "      <td>7963.0</td>\n",
       "      <td>99738.391772</td>\n",
       "      <td>57405.586966</td>\n",
       "      <td>90.07</td>\n",
       "      <td>1799.5508</td>\n",
       "      <td>9773.542</td>\n",
       "      <td>20140.15</td>\n",
       "      <td>40701.002</td>\n",
       "      <td>60413.228</td>\n",
       "      <td>79918.36</td>\n",
       "      <td>99645.04</td>\n",
       "      <td>119248.612</td>\n",
       "      <td>138530.972</td>\n",
       "      <td>159411.42</td>\n",
       "      <td>179453.212</td>\n",
       "      <td>190107.557</td>\n",
       "      <td>198131.4652</td>\n",
       "      <td>199992.48</td>\n",
       "      <td>199992.48</td>\n",
       "    </tr>\n",
       "    <tr>\n",
       "      <th>11</th>\n",
       "      <td>NumOfProducts</td>\n",
       "      <td>7963.0</td>\n",
       "      <td>1.544267</td>\n",
       "      <td>0.509536</td>\n",
       "      <td>1.0</td>\n",
       "      <td>1.0</td>\n",
       "      <td>1.0</td>\n",
       "      <td>1.0</td>\n",
       "      <td>1.0</td>\n",
       "      <td>1.0</td>\n",
       "      <td>1.0</td>\n",
       "      <td>2.0</td>\n",
       "      <td>2.0</td>\n",
       "      <td>2.0</td>\n",
       "      <td>2.0</td>\n",
       "      <td>2.0</td>\n",
       "      <td>2.0</td>\n",
       "      <td>2.0</td>\n",
       "      <td>3.0</td>\n",
       "      <td>3.0</td>\n",
       "    </tr>\n",
       "  </tbody>\n",
       "</table>\n",
       "</div>"
      ],
      "text/plain": [
       "0             index   count          mean           std    min         1%  \\\n",
       "1               Age  7963.0      37.43564     10.292823   18.0       20.0   \n",
       "3            Tenure  7963.0      5.033279      2.880658    0.0        0.0   \n",
       "5       CreditScore  7960.0    651.856533      95.64522  405.0      438.0   \n",
       "7           Balance  7963.0  72745.296779  62848.040701    0.0        0.0   \n",
       "9   EstimatedSalary  7963.0  99738.391772  57405.586966  90.07  1799.5508   \n",
       "11    NumOfProducts  7963.0      1.544267      0.509536    1.0        1.0   \n",
       "\n",
       "0         5%       10%        20%        30%        40%       50%         60%  \\\n",
       "1       24.0      27.0       30.0       32.0       34.0      36.0        38.0   \n",
       "3        1.0       1.0        2.0        3.0        4.0       5.0         6.0   \n",
       "5      492.0     523.0      568.0      600.0      628.0     653.0       679.0   \n",
       "7        0.0       0.0        0.0        0.0  54422.476  92072.68   106959.26   \n",
       "9   9773.542  20140.15  40701.002  60413.228   79918.36  99645.04  119248.612   \n",
       "11       1.0       1.0        1.0        1.0        1.0       2.0         2.0   \n",
       "\n",
       "0          70%         80%         90%         95%          99%       100%  \\\n",
       "1         40.0        43.0        49.0        59.0         73.0      190.0   \n",
       "3          7.0         8.0         9.0         9.0         10.0       10.0   \n",
       "5        704.0       734.2       778.0       812.0        850.0      865.0   \n",
       "7   120537.794  132852.782  148730.298  161592.595  183753.9062   221532.8   \n",
       "9   138530.972   159411.42  179453.212  190107.557  198131.4652  199992.48   \n",
       "11         2.0         2.0         2.0         2.0          2.0        3.0   \n",
       "\n",
       "0         max  \n",
       "1       190.0  \n",
       "3        10.0  \n",
       "5       865.0  \n",
       "7    221532.8  \n",
       "9   199992.48  \n",
       "11        3.0  "
      ]
     },
     "execution_count": 49,
     "metadata": {},
     "output_type": "execute_result"
    }
   ],
   "source": [
    "print('Considering non-exited customers, for numerical variables, the data distribution across percentiles look like this :\\n')\n",
    "\n",
    "outlier_detection_nonexited = outlier_detection(df_actual,num_list,0)\n",
    "outlier_detection_nonexited\n",
    "#outlier_detection_nonexited.to_excel(os.path.join(dir_up(path_m,1),'Model','summary_nonexited.xlsx'))"
   ]
  },
  {
   "cell_type": "code",
   "execution_count": 50,
   "id": "05d9b1e4",
   "metadata": {},
   "outputs": [
    {
     "name": "stdout",
     "output_type": "stream",
     "text": [
      "In overall data the percentage of customers who exited the business are : 20.369999999999997\n",
      "In overall data the percentage of customers who stayed in the business are : 79.63\n",
      "Therefore the data is imbalanced\n"
     ]
    }
   ],
   "source": [
    "print('In overall data the percentage of customers who exited the business are :', len(df_2[df_2['Exited']==1])/len(df_2)*100)\n",
    "print('In overall data the percentage of customers who stayed in the business are :', len(df_2[df_2['Exited']==0])/len(df_2)*100)\n",
    "print('Therefore the data is imbalanced')"
   ]
  },
  {
   "cell_type": "markdown",
   "id": "b2e72c46",
   "metadata": {},
   "source": [
    " \n"
   ]
  },
  {
   "cell_type": "markdown",
   "id": "dded22ed",
   "metadata": {},
   "source": [
    "## 3.  Feature Engineering"
   ]
  },
  {
   "cell_type": "code",
   "execution_count": 51,
   "id": "3671d98a",
   "metadata": {},
   "outputs": [
    {
     "name": "stdout",
     "output_type": "stream",
     "text": [
      "The number of missing values across columns in the data initially is:\n",
      "\n"
     ]
    },
    {
     "data": {
      "text/plain": [
       "CreditScore        3\n",
       "Geography          0\n",
       "Gender             0\n",
       "Age                0\n",
       "Tenure             0\n",
       "Balance            0\n",
       "NumOfProducts      0\n",
       "HasChckng          0\n",
       "IsActiveMember     0\n",
       "EstimatedSalary    0\n",
       "Exited             0\n",
       "dtype: int64"
      ]
     },
     "execution_count": 51,
     "metadata": {},
     "output_type": "execute_result"
    }
   ],
   "source": [
    "print('The number of missing values across columns in the data initially is:\\n')\n",
    "\n",
    "df_2.isna().sum()"
   ]
  },
  {
   "cell_type": "markdown",
   "id": "35c16168",
   "metadata": {},
   "source": [
    " "
   ]
  },
  {
   "cell_type": "markdown",
   "id": "81d50ac7",
   "metadata": {},
   "source": [
    "Replacing the three missing **credit scores** by the mean of the distribution .\n",
    "Replacing the **Age of a customer** by the 99th percentile value, who by records is of age 190 which looks as an outlier"
   ]
  },
  {
   "cell_type": "code",
   "execution_count": 52,
   "id": "3c9517b3",
   "metadata": {},
   "outputs": [],
   "source": [
    "mean_credit_sc=df_2['CreditScore'].mean()\n",
    "\n",
    "df_2['CreditScore'].fillna(value=mean_credit_sc, inplace=True) "
   ]
  },
  {
   "cell_type": "code",
   "execution_count": 53,
   "id": "13167a22",
   "metadata": {},
   "outputs": [],
   "source": [
    "df_2.loc[(df_2.Age==190),'Age'] = df_2.Age.quantile(0.99)"
   ]
  },
  {
   "cell_type": "code",
   "execution_count": 54,
   "id": "ea6634fd",
   "metadata": {},
   "outputs": [
    {
     "name": "stdout",
     "output_type": "stream",
     "text": [
      "The number of missing values across columns in the data now:\n",
      "\n"
     ]
    },
    {
     "data": {
      "text/plain": [
       "CreditScore        0\n",
       "Geography          0\n",
       "Gender             0\n",
       "Age                0\n",
       "Tenure             0\n",
       "Balance            0\n",
       "NumOfProducts      0\n",
       "HasChckng          0\n",
       "IsActiveMember     0\n",
       "EstimatedSalary    0\n",
       "Exited             0\n",
       "dtype: int64"
      ]
     },
     "execution_count": 54,
     "metadata": {},
     "output_type": "execute_result"
    }
   ],
   "source": [
    "print('The number of missing values across columns in the data now:\\n')\n",
    "\n",
    "df_2.isna().sum()"
   ]
  },
  {
   "cell_type": "markdown",
   "id": "3146c36e",
   "metadata": {},
   "source": [
    "#### Therefore, the data is free from any missing values and outliers."
   ]
  },
  {
   "cell_type": "markdown",
   "id": "7856a630",
   "metadata": {},
   "source": [
    "We need to group certain variables such as **Credit Score** , **Age** and **Estimated Salary** due since they have **high degree of variation**. Also,the variable **Balance** consists of large number of 0's due to which the modelling distribution might become biased towards one side. "
   ]
  },
  {
   "cell_type": "markdown",
   "id": "cc56f748",
   "metadata": {},
   "source": [
    " "
   ]
  },
  {
   "cell_type": "markdown",
   "id": "78965ad8",
   "metadata": {},
   "source": [
    "### 3.1  Variable Creation Step"
   ]
  },
  {
   "cell_type": "markdown",
   "id": "a19dbc66",
   "metadata": {},
   "source": [
    " "
   ]
  },
  {
   "cell_type": "code",
   "execution_count": 55,
   "id": "5755fe1d",
   "metadata": {},
   "outputs": [],
   "source": [
    "## Defining the function to get the classes for respective feature\n",
    "\n",
    "def cutoff(df,col):\n",
    "    return pd.qcut(df[col],6).value_counts()"
   ]
  },
  {
   "cell_type": "code",
   "execution_count": 56,
   "id": "7f88cbd5",
   "metadata": {},
   "outputs": [
    {
     "name": "stdout",
     "output_type": "stream",
     "text": [
      "The class frequency distribution table for the variable CreditScore is as follows:\n",
      "\n"
     ]
    },
    {
     "data": {
      "text/plain": [
       "(304.999, 553.0]    1683\n",
       "(553.0, 608.0]      1680\n",
       "(608.0, 652.0]      1673\n",
       "(652.0, 695.0]      1662\n",
       "(748.0, 865.0]      1652\n",
       "(695.0, 748.0]      1650\n",
       "Name: CreditScore, dtype: int64"
      ]
     },
     "execution_count": 56,
     "metadata": {},
     "output_type": "execute_result"
    }
   ],
   "source": [
    "print('The class frequency distribution table for the variable CreditScore is as follows:\\n')\n",
    "\n",
    "cutoff(df_2,'CreditScore')"
   ]
  },
  {
   "cell_type": "code",
   "execution_count": 57,
   "id": "f3e149ef",
   "metadata": {},
   "outputs": [
    {
     "name": "stdout",
     "output_type": "stream",
     "text": [
      "The class frequency distribution table for the variable Age is as follows:\n",
      "\n"
     ]
    },
    {
     "data": {
      "text/plain": [
       "(17.999, 30.0]    1967\n",
       "(30.0, 34.0]      1711\n",
       "(37.0, 41.0]      1698\n",
       "(41.0, 48.0]      1672\n",
       "(48.0, 101.0]     1544\n",
       "(34.0, 37.0]      1408\n",
       "Name: Age, dtype: int64"
      ]
     },
     "execution_count": 57,
     "metadata": {},
     "output_type": "execute_result"
    }
   ],
   "source": [
    "print('The class frequency distribution table for the variable Age is as follows:\\n')\n",
    "\n",
    "cutoff(df_2,'Age')"
   ]
  },
  {
   "cell_type": "code",
   "execution_count": 58,
   "id": "405f792c",
   "metadata": {},
   "outputs": [
    {
     "name": "stdout",
     "output_type": "stream",
     "text": [
      "The class frequency distribution table for the variable EstimatedSalary is as follows:\n",
      "\n"
     ]
    },
    {
     "data": {
      "text/plain": [
       "(11.579, 34025.025]        1667\n",
       "(34025.025, 67057.27]      1667\n",
       "(100193.915, 132801.57]    1667\n",
       "(166912.72, 199992.48]     1667\n",
       "(67057.27, 100193.915]     1666\n",
       "(132801.57, 166912.72]     1666\n",
       "Name: EstimatedSalary, dtype: int64"
      ]
     },
     "execution_count": 58,
     "metadata": {},
     "output_type": "execute_result"
    }
   ],
   "source": [
    "print('The class frequency distribution table for the variable EstimatedSalary is as follows:\\n')\n",
    "\n",
    "cutoff(df_2,'EstimatedSalary')"
   ]
  },
  {
   "cell_type": "code",
   "execution_count": 59,
   "id": "91b97f38",
   "metadata": {},
   "outputs": [
    {
     "name": "stdout",
     "output_type": "stream",
     "text": [
      "The class frequency distribution table for the variable Balance is as follows:\n",
      "\n"
     ]
    },
    {
     "data": {
      "text/plain": [
       "(-0.001, 97198.54]        5000\n",
       "(97198.54, 118100.59]     1667\n",
       "(138294.79, 250898.09]    1667\n",
       "(118100.59, 138294.79]    1666\n",
       "Name: Balance, dtype: int64"
      ]
     },
     "execution_count": 59,
     "metadata": {},
     "output_type": "execute_result"
    }
   ],
   "source": [
    "print('The class frequency distribution table for the variable Balance is as follows:\\n')\n",
    "\n",
    "pd.qcut(df_2['Balance'],6,duplicates ='drop').value_counts()"
   ]
  },
  {
   "cell_type": "code",
   "execution_count": 60,
   "id": "7ac1a240",
   "metadata": {},
   "outputs": [],
   "source": [
    "#pd.qcut(df_2['Tenure'],6,duplicates ='drop').value_counts()"
   ]
  },
  {
   "cell_type": "code",
   "execution_count": 61,
   "id": "256985cd",
   "metadata": {},
   "outputs": [],
   "source": [
    "df_2['Credit_sc_band'] = pd.qcut(df_2['CreditScore'],6,labels=['crsc_553', 'crsc_553_608', 'crsc_608_652', 'crsc_652_695', 'crsc_695_to_748', 'crsc_748_to_865'])\n",
    "df_2['Age_band'] = pd.qcut(df_2['Age'],6,labels=['age_30', 'age_30_34', 'age_34_37', 'age_37_41', 'age_41_48', 'age_greater_48'])\n",
    "df_2['Est_salary_band'] = pd.qcut(df_2['EstimatedSalary'],6,labels=['esal_34025', 'esal_34025_67057', 'esal_67057_100194', 'esal_100194_132801', 'esal_132801_166913', 'esal_greater_166913'])\n",
    "df_2['Balance_band'] = pd.qcut(df_2['Balance'],6,labels=['bal_97198', 'bal_97198_118100', 'bal_118100_138294', 'bal_greater_138294'],duplicates='drop')\n",
    "#df_2['Tenure_band'] = pd.qcut(df_2['Tenure'],6,labels=['ten_2', 'ten_2_3', 'ten_3_5', 'ten_5_7', 'ten_7_8', 'ten_greater_8'],duplicates='drop')"
   ]
  },
  {
   "cell_type": "code",
   "execution_count": 62,
   "id": "4d3559a6",
   "metadata": {},
   "outputs": [],
   "source": [
    "df_2.drop(['CreditScore', 'Age', 'Balance', 'EstimatedSalary'], axis=1, inplace=True)"
   ]
  },
  {
   "cell_type": "markdown",
   "id": "8734d063",
   "metadata": {},
   "source": [
    "Created a list of categorical features from the variables **CreditScore, Age, EstimatedSalary** and **Balance** and now the new data looks like this :-"
   ]
  },
  {
   "cell_type": "code",
   "execution_count": 63,
   "id": "f0356fb7",
   "metadata": {},
   "outputs": [
    {
     "data": {
      "text/html": [
       "<div>\n",
       "<style scoped>\n",
       "    .dataframe tbody tr th:only-of-type {\n",
       "        vertical-align: middle;\n",
       "    }\n",
       "\n",
       "    .dataframe tbody tr th {\n",
       "        vertical-align: top;\n",
       "    }\n",
       "\n",
       "    .dataframe thead th {\n",
       "        text-align: right;\n",
       "    }\n",
       "</style>\n",
       "<table border=\"1\" class=\"dataframe\">\n",
       "  <thead>\n",
       "    <tr style=\"text-align: right;\">\n",
       "      <th></th>\n",
       "      <th>Geography</th>\n",
       "      <th>Gender</th>\n",
       "      <th>Tenure</th>\n",
       "      <th>NumOfProducts</th>\n",
       "      <th>HasChckng</th>\n",
       "      <th>IsActiveMember</th>\n",
       "      <th>Exited</th>\n",
       "      <th>Credit_sc_band</th>\n",
       "      <th>Age_band</th>\n",
       "      <th>Est_salary_band</th>\n",
       "      <th>Balance_band</th>\n",
       "    </tr>\n",
       "    <tr>\n",
       "      <th>CustomerId</th>\n",
       "      <th></th>\n",
       "      <th></th>\n",
       "      <th></th>\n",
       "      <th></th>\n",
       "      <th></th>\n",
       "      <th></th>\n",
       "      <th></th>\n",
       "      <th></th>\n",
       "      <th></th>\n",
       "      <th></th>\n",
       "      <th></th>\n",
       "    </tr>\n",
       "  </thead>\n",
       "  <tbody>\n",
       "    <tr>\n",
       "      <th>15634602</th>\n",
       "      <td>West</td>\n",
       "      <td>Female</td>\n",
       "      <td>2</td>\n",
       "      <td>1</td>\n",
       "      <td>1</td>\n",
       "      <td>1</td>\n",
       "      <td>1</td>\n",
       "      <td>crsc_608_652</td>\n",
       "      <td>age_41_48</td>\n",
       "      <td>esal_100194_132801</td>\n",
       "      <td>bal_97198</td>\n",
       "    </tr>\n",
       "    <tr>\n",
       "      <th>15647311</th>\n",
       "      <td>Central</td>\n",
       "      <td>Female</td>\n",
       "      <td>1</td>\n",
       "      <td>1</td>\n",
       "      <td>0</td>\n",
       "      <td>1</td>\n",
       "      <td>0</td>\n",
       "      <td>crsc_553_608</td>\n",
       "      <td>age_37_41</td>\n",
       "      <td>esal_100194_132801</td>\n",
       "      <td>bal_97198</td>\n",
       "    </tr>\n",
       "    <tr>\n",
       "      <th>15619304</th>\n",
       "      <td>West</td>\n",
       "      <td>Female</td>\n",
       "      <td>8</td>\n",
       "      <td>3</td>\n",
       "      <td>1</td>\n",
       "      <td>0</td>\n",
       "      <td>1</td>\n",
       "      <td>crsc_553</td>\n",
       "      <td>age_41_48</td>\n",
       "      <td>esal_100194_132801</td>\n",
       "      <td>bal_greater_138294</td>\n",
       "    </tr>\n",
       "    <tr>\n",
       "      <th>15701354</th>\n",
       "      <td>West</td>\n",
       "      <td>Female</td>\n",
       "      <td>1</td>\n",
       "      <td>2</td>\n",
       "      <td>0</td>\n",
       "      <td>0</td>\n",
       "      <td>0</td>\n",
       "      <td>crsc_695_to_748</td>\n",
       "      <td>age_37_41</td>\n",
       "      <td>esal_67057_100194</td>\n",
       "      <td>bal_97198</td>\n",
       "    </tr>\n",
       "    <tr>\n",
       "      <th>15737888</th>\n",
       "      <td>Central</td>\n",
       "      <td>Female</td>\n",
       "      <td>2</td>\n",
       "      <td>1</td>\n",
       "      <td>1</td>\n",
       "      <td>1</td>\n",
       "      <td>0</td>\n",
       "      <td>crsc_748_to_865</td>\n",
       "      <td>age_41_48</td>\n",
       "      <td>esal_67057_100194</td>\n",
       "      <td>bal_118100_138294</td>\n",
       "    </tr>\n",
       "  </tbody>\n",
       "</table>\n",
       "</div>"
      ],
      "text/plain": [
       "           Geography  Gender  Tenure  NumOfProducts  HasChckng  \\\n",
       "CustomerId                                                       \n",
       "15634602        West  Female       2              1          1   \n",
       "15647311     Central  Female       1              1          0   \n",
       "15619304        West  Female       8              3          1   \n",
       "15701354        West  Female       1              2          0   \n",
       "15737888     Central  Female       2              1          1   \n",
       "\n",
       "            IsActiveMember  Exited   Credit_sc_band   Age_band  \\\n",
       "CustomerId                                                       \n",
       "15634602                 1       1     crsc_608_652  age_41_48   \n",
       "15647311                 1       0     crsc_553_608  age_37_41   \n",
       "15619304                 0       1         crsc_553  age_41_48   \n",
       "15701354                 0       0  crsc_695_to_748  age_37_41   \n",
       "15737888                 1       0  crsc_748_to_865  age_41_48   \n",
       "\n",
       "               Est_salary_band        Balance_band  \n",
       "CustomerId                                          \n",
       "15634602    esal_100194_132801           bal_97198  \n",
       "15647311    esal_100194_132801           bal_97198  \n",
       "15619304    esal_100194_132801  bal_greater_138294  \n",
       "15701354     esal_67057_100194           bal_97198  \n",
       "15737888     esal_67057_100194   bal_118100_138294  "
      ]
     },
     "execution_count": 63,
     "metadata": {},
     "output_type": "execute_result"
    }
   ],
   "source": [
    "df_2.head()"
   ]
  },
  {
   "cell_type": "markdown",
   "id": "3d9e9e86",
   "metadata": {},
   "source": [
    " "
   ]
  },
  {
   "cell_type": "markdown",
   "id": "7b5053b5",
   "metadata": {},
   "source": [
    "### 3.2  WOE and IV value calculation"
   ]
  },
  {
   "cell_type": "markdown",
   "id": "b6916ca6",
   "metadata": {},
   "source": [
    "Below we can see the WOE and IV values calculated against the different classes for each of the variables : **Geography, Gender, Tenure, NumOfProducts, HasChckng, IsActiveMember, Credit_sc_band, Age_band, Est_salary_band** and **Balance_band**"
   ]
  },
  {
   "cell_type": "markdown",
   "id": "4b826ee6",
   "metadata": {},
   "source": [
    " "
   ]
  },
  {
   "cell_type": "code",
   "execution_count": 64,
   "id": "d3987c7c",
   "metadata": {},
   "outputs": [],
   "source": [
    "def calculate_woe_iv(df, pred, target):\n",
    "    lst = []\n",
    "    for i in range(df[pred].nunique()):\n",
    "        v = list(df[pred].unique())[i]\n",
    "        lst.append({\n",
    "            'Value': v,\n",
    "            'All': df[df[pred] == v].count()[pred],\n",
    "            'Good': df[(df[pred] == v) & (df[target] == 0)].count()[pred],\n",
    "            'Bad': df[(df[pred] == v) & (df[target] == 1)].count()[pred]\n",
    "        })\n",
    "        \n",
    "    dfn = pd.DataFrame(lst)\n",
    "    dfn['Distr_Good'] = dfn['Good'] / dfn['Good'].sum()\n",
    "    dfn['Distr_Bad'] = dfn['Bad'] / dfn['Bad'].sum()\n",
    "    dfn['WoE'] = np.log(dfn['Distr_Good'] / dfn['Distr_Bad'])\n",
    "    dfn = dfn.replace({'WoE': {np.inf: 0, -np.inf: 0}})\n",
    "    dfn['IV'] = (dfn['Distr_Good'] - dfn['Distr_Bad']) * dfn['WoE']\n",
    "    iv = dfn['IV'].sum()\n",
    "    \n",
    "    dfn = dfn.sort_values(by='WoE')\n",
    "    \n",
    "    return dfn, iv"
   ]
  },
  {
   "cell_type": "code",
   "execution_count": 65,
   "id": "18393cd6",
   "metadata": {},
   "outputs": [
    {
     "name": "stdout",
     "output_type": "stream",
     "text": [
      "WoE and IV for column: Geography\n",
      "     Value   All  Good  Bad  Distr_Good  Distr_Bad       WoE        IV\n",
      "2     East  2509  1695  814    0.212859   0.399607 -0.629850  0.117623\n",
      "1  Central  2477  2064  413    0.259199   0.202749  0.245626  0.013865\n",
      "0     West  5014  4204  810    0.527942   0.397644  0.283430  0.036930\n",
      "IV score: 0.17\n",
      "\n",
      "\n",
      "WoE and IV for column: Gender\n",
      "     Value   All  Good   Bad  Distr_Good  Distr_Bad       WoE        IV\n",
      "2  Neutral     8     4     4    0.000502   0.001964 -1.363328  0.001992\n",
      "0   Female  4539  3402  1137    0.427226   0.558174 -0.267357  0.035010\n",
      "1     Male  5453  4557   896    0.572272   0.439863  0.263152  0.034844\n",
      "IV score: 0.07\n",
      "\n",
      "\n",
      "WoE and IV for column: Tenure\n",
      "    Value   All  Good  Bad  Distr_Good  Distr_Bad       WoE        IV\n",
      "11      0   413   318   95    0.039935   0.046637 -0.155153  0.001040\n",
      "1       1  1035   803  232    0.100841   0.113893 -0.121710  0.001589\n",
      "10      9   984   771  213    0.096823   0.104566 -0.076931  0.000596\n",
      "7       3  1009   796  213    0.099962   0.104566 -0.045021  0.000207\n",
      "9       5  1012   803  209    0.100841   0.102602 -0.017307  0.000030\n",
      "8      10   490   389  101    0.048851   0.049583 -0.014869  0.000011\n",
      "5       4   988   786  202    0.098707   0.099165 -0.004639  0.000002\n",
      "4      30     1     0    1    0.000000   0.000491  0.000000 -0.000000\n",
      "6       6   967   771  196    0.096823   0.096220  0.006246  0.000004\n",
      "2       8  1025   828  197    0.103981   0.096711  0.072482  0.000527\n",
      "0       2  1048   847  201    0.106367   0.098675  0.075068  0.000577\n",
      "3       7  1028   851  177    0.106869   0.086892  0.206935  0.004134\n",
      "IV score: 0.01\n",
      "\n",
      "\n",
      "WoE and IV for column: NumOfProducts\n",
      "   Value   All  Good   Bad  Distr_Good  Distr_Bad       WoE        IV\n",
      "1      3   266    46   220    0.005777   0.108002 -2.928314  0.299348\n",
      "0      1  5084  3675  1409    0.461509   0.691703 -0.404655  0.093149\n",
      "3      4    60     0    60    0.000000   0.029455  0.000000 -0.000000\n",
      "2      2  4590  4242   348    0.532714   0.170839  1.137260  0.411545\n",
      "IV score: 0.80\n",
      "\n",
      "\n",
      "WoE and IV for column: HasChckng\n",
      "   Value   All  Good   Bad  Distr_Good  Distr_Bad       WoE        IV\n",
      "1      0  2945  2332   613    0.292854   0.300933 -0.027211  0.000220\n",
      "0      1  7055  5631  1424    0.707146   0.699067  0.011490  0.000093\n",
      "IV score: 0.00\n",
      "\n",
      "\n",
      "WoE and IV for column: IsActiveMember\n",
      "   Value   All  Good   Bad  Distr_Good  Distr_Bad       WoE        IV\n",
      "1      0  4849  3547  1302    0.445435   0.639175 -0.361127  0.069965\n",
      "0      1  5151  4416   735    0.554565   0.360825  0.429791  0.083268\n",
      "IV score: 0.15\n",
      "\n",
      "\n",
      "WoE and IV for column: Credit_sc_band\n",
      "             Value   All  Good  Bad  Distr_Good  Distr_Bad       WoE        IV\n",
      "2         crsc_553  1683  1299  384    0.163129   0.188513 -0.144620  0.003671\n",
      "0     crsc_608_652  1673  1316  357    0.165264   0.175258 -0.058711  0.000587\n",
      "1     crsc_553_608  1680  1339  341    0.168153   0.167403  0.004468  0.000003\n",
      "4  crsc_748_to_865  1652  1323  329    0.166143   0.161512  0.028272  0.000131\n",
      "3  crsc_695_to_748  1650  1325  325    0.166395   0.159548  0.042015  0.000288\n",
      "5     crsc_652_695  1662  1361  301    0.170915   0.147766  0.145537  0.003369\n",
      "IV score: 0.01\n",
      "\n",
      "\n",
      "WoE and IV for column: Age_band\n",
      "            Value   All  Good  Bad  Distr_Good  Distr_Bad       WoE        IV\n",
      "2  age_greater_48  1544   835  709    0.104860   0.348061 -1.199751  0.291781\n",
      "0       age_41_48  1672  1099  573    0.138013   0.281296 -0.712057  0.102026\n",
      "1       age_37_41  1698  1405  293    0.176441   0.143839  0.204292  0.006660\n",
      "5       age_34_37  1408  1236  172    0.155218   0.084438  0.608813  0.043092\n",
      "4       age_30_34  1711  1569  142    0.197036   0.069710  1.039039  0.132297\n",
      "3          age_30  1967  1819  148    0.228431   0.072656  1.145502  0.178441\n",
      "IV score: 0.75\n",
      "\n",
      "\n",
      "WoE and IV for column: Est_salary_band\n",
      "                 Value   All  Good  Bad  Distr_Good  Distr_Bad       WoE  \\\n",
      "4  esal_greater_166913  1667  1308  359    0.164260   0.176240 -0.070396   \n",
      "2   esal_132801_166913  1666  1318  348    0.165516   0.170839 -0.031659   \n",
      "3           esal_34025  1667  1320  347    0.165767   0.170349 -0.027265   \n",
      "0   esal_100194_132801  1667  1332  335    0.167274   0.164458  0.016979   \n",
      "1    esal_67057_100194  1666  1342  324    0.168529   0.159057  0.057845   \n",
      "5     esal_34025_67057  1667  1343  324    0.168655   0.159057  0.058590   \n",
      "\n",
      "         IV  \n",
      "4  0.000843  \n",
      "2  0.000169  \n",
      "3  0.000125  \n",
      "0  0.000048  \n",
      "1  0.000548  \n",
      "5  0.000562  \n",
      "IV score: 0.00\n",
      "\n",
      "\n",
      "WoE and IV for column: Balance_band\n",
      "                Value   All  Good  Bad  Distr_Good  Distr_Bad       WoE  \\\n",
      "3    bal_97198_118100  1667  1232  435    0.154716   0.213549 -0.322280   \n",
      "2   bal_118100_138294  1666  1232  434    0.154716   0.213058 -0.319978   \n",
      "1  bal_greater_138294  1667  1287  380    0.161623   0.186549 -0.143430   \n",
      "0           bal_97198  5000  4212  788    0.528946   0.386843  0.312867   \n",
      "\n",
      "         IV  \n",
      "3  0.018961  \n",
      "2  0.018668  \n",
      "1  0.003575  \n",
      "0  0.044459  \n",
      "IV score: 0.09\n",
      "\n",
      "\n"
     ]
    }
   ],
   "source": [
    "for col in df_2.columns:\n",
    "    if col == 'Exited': continue\n",
    "    else:\n",
    "        print('WoE and IV for column: {}'.format(col))\n",
    "        df_woe_iv, iv = calculate_woe_iv(df_2, col, 'Exited')\n",
    "        print(df_woe_iv)\n",
    "        print('IV score: {:.2f}'.format(iv))\n",
    "        print('\\n')"
   ]
  },
  {
   "cell_type": "markdown",
   "id": "95feba83",
   "metadata": {},
   "source": [
    "As we can see from above , that, the variable 'NumOfProducts' has the highest IV of **0.8** , followed by 'Age_band' which is **0.75**, followed by 'Geography' which is **0.17**, followed by 'IsActiveMember' which is **0.15** , followed by 'Balance_band' which is **0.09**, followed by 'Gender' which is **0.07** , followed by 'Tenure' which is **0.01** , followed by 'Credit_sc_band' which is **0.01** and finally followed by 'Est_Salary_band' which is **0.00** and 'HasChckng' which is **0.00**"
   ]
  },
  {
   "cell_type": "markdown",
   "id": "20aafa8e",
   "metadata": {},
   "source": [
    "| Variables | Information Value | Predictive Power |\n",
    "| :- | -: | :-: |\n",
    "| NumOfProducts | 0.8 | Suspicious or too good to be true (>0.5)\n",
    "| Age_band | 0.75 | Suspicious or too good to be true (>0.5)\n",
    "| Geography | 0.17 | Medium Predictor (0.1 to 0.3)\n",
    "| IsActiveMember | 0.15 | Medium Predictor (0.1 to 0.3)\n",
    "| Balance_band | 0.09 | Weak Predictor (0.02 to 0.1)\n",
    "| Gender | 0.07 | Weak Predictor (0.02 to 0.1)\n",
    "| Tenure | 0.01 | Useless for Prediction (<0.02)\n",
    "| Credit_sc_band | 0.01 | Useless for Prediction (<0.02)\n",
    "| Est_Salary_band | 0.00 | Useless for Prediction (<0.02)\n",
    "| HasChckng | 0.00 | Useless for Prediction (<0.02)"
   ]
  },
  {
   "cell_type": "markdown",
   "id": "a4947b39",
   "metadata": {},
   "source": [
    "As we can see below, that the variable **\"Geography\"** is a medium predictor. Two of it's classes Central(**0.245626**) and West(**0.283430**) have very close value of WOE. Therefore, we need to apply **coarsing** on this variable."
   ]
  },
  {
   "cell_type": "code",
   "execution_count": 66,
   "id": "e15958b7",
   "metadata": {},
   "outputs": [
    {
     "data": {
      "text/html": [
       "<div>\n",
       "<style scoped>\n",
       "    .dataframe tbody tr th:only-of-type {\n",
       "        vertical-align: middle;\n",
       "    }\n",
       "\n",
       "    .dataframe tbody tr th {\n",
       "        vertical-align: top;\n",
       "    }\n",
       "\n",
       "    .dataframe thead th {\n",
       "        text-align: right;\n",
       "    }\n",
       "</style>\n",
       "<table border=\"1\" class=\"dataframe\">\n",
       "  <thead>\n",
       "    <tr style=\"text-align: right;\">\n",
       "      <th></th>\n",
       "      <th>Value</th>\n",
       "      <th>All</th>\n",
       "      <th>Good</th>\n",
       "      <th>Bad</th>\n",
       "      <th>Distr_Good</th>\n",
       "      <th>Distr_Bad</th>\n",
       "      <th>WoE</th>\n",
       "      <th>IV</th>\n",
       "    </tr>\n",
       "  </thead>\n",
       "  <tbody>\n",
       "    <tr>\n",
       "      <th>2</th>\n",
       "      <td>East</td>\n",
       "      <td>2509</td>\n",
       "      <td>1695</td>\n",
       "      <td>814</td>\n",
       "      <td>0.212859</td>\n",
       "      <td>0.399607</td>\n",
       "      <td>-0.629850</td>\n",
       "      <td>0.117623</td>\n",
       "    </tr>\n",
       "    <tr>\n",
       "      <th>1</th>\n",
       "      <td>Central</td>\n",
       "      <td>2477</td>\n",
       "      <td>2064</td>\n",
       "      <td>413</td>\n",
       "      <td>0.259199</td>\n",
       "      <td>0.202749</td>\n",
       "      <td>0.245626</td>\n",
       "      <td>0.013865</td>\n",
       "    </tr>\n",
       "    <tr>\n",
       "      <th>0</th>\n",
       "      <td>West</td>\n",
       "      <td>5014</td>\n",
       "      <td>4204</td>\n",
       "      <td>810</td>\n",
       "      <td>0.527942</td>\n",
       "      <td>0.397644</td>\n",
       "      <td>0.283430</td>\n",
       "      <td>0.036930</td>\n",
       "    </tr>\n",
       "  </tbody>\n",
       "</table>\n",
       "</div>"
      ],
      "text/plain": [
       "     Value   All  Good  Bad  Distr_Good  Distr_Bad       WoE        IV\n",
       "2     East  2509  1695  814    0.212859   0.399607 -0.629850  0.117623\n",
       "1  Central  2477  2064  413    0.259199   0.202749  0.245626  0.013865\n",
       "0     West  5014  4204  810    0.527942   0.397644  0.283430  0.036930"
      ]
     },
     "execution_count": 66,
     "metadata": {},
     "output_type": "execute_result"
    }
   ],
   "source": [
    "df_geography, iv_geography = calculate_woe_iv(df_2,'Geography','Exited')\n",
    "df_geography"
   ]
  },
  {
   "cell_type": "code",
   "execution_count": 67,
   "id": "8303985f",
   "metadata": {},
   "outputs": [],
   "source": [
    "def coarsing(df, i1, i2):\n",
    "    mean_col = pd.DataFrame(np.mean(pd.DataFrame([df.iloc[i1], df.iloc[i2]]))).T\n",
    "    actual = df.drop([i1, i2])\n",
    "    \n",
    "    coarse_df = pd.concat([actual, mean_col])\n",
    "    coarse_df = coarse_df.sort_values(by='WoE', ascending=False).reset_index(drop=True)\n",
    "    \n",
    "    return coarse_df"
   ]
  },
  {
   "cell_type": "markdown",
   "id": "b0a2d409",
   "metadata": {},
   "source": [
    "Therefore, post coarsing the **WOE and IV** table for the variable **Geography** is as follows:-"
   ]
  },
  {
   "cell_type": "code",
   "execution_count": 68,
   "id": "61267661",
   "metadata": {},
   "outputs": [
    {
     "data": {
      "text/html": [
       "<div>\n",
       "<style scoped>\n",
       "    .dataframe tbody tr th:only-of-type {\n",
       "        vertical-align: middle;\n",
       "    }\n",
       "\n",
       "    .dataframe tbody tr th {\n",
       "        vertical-align: top;\n",
       "    }\n",
       "\n",
       "    .dataframe thead th {\n",
       "        text-align: right;\n",
       "    }\n",
       "</style>\n",
       "<table border=\"1\" class=\"dataframe\">\n",
       "  <thead>\n",
       "    <tr style=\"text-align: right;\">\n",
       "      <th></th>\n",
       "      <th>Value</th>\n",
       "      <th>All</th>\n",
       "      <th>Good</th>\n",
       "      <th>Bad</th>\n",
       "      <th>Distr_Good</th>\n",
       "      <th>Distr_Bad</th>\n",
       "      <th>WoE</th>\n",
       "      <th>IV</th>\n",
       "    </tr>\n",
       "  </thead>\n",
       "  <tbody>\n",
       "    <tr>\n",
       "      <th>0</th>\n",
       "      <td>NaN</td>\n",
       "      <td>2493.0</td>\n",
       "      <td>1879.5</td>\n",
       "      <td>613.5</td>\n",
       "      <td>0.236029</td>\n",
       "      <td>0.301178</td>\n",
       "      <td>-0.192112</td>\n",
       "      <td>0.065744</td>\n",
       "    </tr>\n",
       "    <tr>\n",
       "      <th>1</th>\n",
       "      <td>East</td>\n",
       "      <td>2509.0</td>\n",
       "      <td>1695.0</td>\n",
       "      <td>814.0</td>\n",
       "      <td>0.212859</td>\n",
       "      <td>0.399607</td>\n",
       "      <td>-0.629850</td>\n",
       "      <td>0.117623</td>\n",
       "    </tr>\n",
       "  </tbody>\n",
       "</table>\n",
       "</div>"
      ],
      "text/plain": [
       "  Value     All    Good    Bad  Distr_Good  Distr_Bad       WoE        IV\n",
       "0   NaN  2493.0  1879.5  613.5    0.236029   0.301178 -0.192112  0.065744\n",
       "1  East  2509.0  1695.0  814.0    0.212859   0.399607 -0.629850  0.117623"
      ]
     },
     "execution_count": 68,
     "metadata": {},
     "output_type": "execute_result"
    }
   ],
   "source": [
    "df_geography = coarsing(df_geography, 1,0)\n",
    "df_geography"
   ]
  },
  {
   "cell_type": "code",
   "execution_count": 69,
   "id": "d3b36ca4",
   "metadata": {},
   "outputs": [],
   "source": [
    "df_2['Geography'].replace({ 'West': 'West_and_Central', 'Central': 'West_and_Central' }, inplace=True)"
   ]
  },
  {
   "cell_type": "markdown",
   "id": "9595974e",
   "metadata": {},
   "source": [
    "Post Coarsing the final **WOE and IV** values for the variables are as follows:-"
   ]
  },
  {
   "cell_type": "code",
   "execution_count": 70,
   "id": "9d5a3bee",
   "metadata": {},
   "outputs": [
    {
     "name": "stdout",
     "output_type": "stream",
     "text": [
      "WoE and IV for column: Geography\n",
      "              Value   All  Good   Bad  Distr_Good  Distr_Bad       WoE  \\\n",
      "1              East  2509  1695   814    0.212859   0.399607 -0.629850   \n",
      "0  West_and_Central  7491  6268  1223    0.787141   0.600393  0.270823   \n",
      "\n",
      "         IV  \n",
      "1  0.117623  \n",
      "0  0.050576  \n",
      "IV score: 0.17\n",
      "\n",
      "\n",
      "WoE and IV for column: Gender\n",
      "     Value   All  Good   Bad  Distr_Good  Distr_Bad       WoE        IV\n",
      "2  Neutral     8     4     4    0.000502   0.001964 -1.363328  0.001992\n",
      "0   Female  4539  3402  1137    0.427226   0.558174 -0.267357  0.035010\n",
      "1     Male  5453  4557   896    0.572272   0.439863  0.263152  0.034844\n",
      "IV score: 0.07\n",
      "\n",
      "\n",
      "WoE and IV for column: Tenure\n",
      "    Value   All  Good  Bad  Distr_Good  Distr_Bad       WoE        IV\n",
      "11      0   413   318   95    0.039935   0.046637 -0.155153  0.001040\n",
      "1       1  1035   803  232    0.100841   0.113893 -0.121710  0.001589\n",
      "10      9   984   771  213    0.096823   0.104566 -0.076931  0.000596\n",
      "7       3  1009   796  213    0.099962   0.104566 -0.045021  0.000207\n",
      "9       5  1012   803  209    0.100841   0.102602 -0.017307  0.000030\n",
      "8      10   490   389  101    0.048851   0.049583 -0.014869  0.000011\n",
      "5       4   988   786  202    0.098707   0.099165 -0.004639  0.000002\n",
      "4      30     1     0    1    0.000000   0.000491  0.000000 -0.000000\n",
      "6       6   967   771  196    0.096823   0.096220  0.006246  0.000004\n",
      "2       8  1025   828  197    0.103981   0.096711  0.072482  0.000527\n",
      "0       2  1048   847  201    0.106367   0.098675  0.075068  0.000577\n",
      "3       7  1028   851  177    0.106869   0.086892  0.206935  0.004134\n",
      "IV score: 0.01\n",
      "\n",
      "\n",
      "WoE and IV for column: NumOfProducts\n",
      "   Value   All  Good   Bad  Distr_Good  Distr_Bad       WoE        IV\n",
      "1      3   266    46   220    0.005777   0.108002 -2.928314  0.299348\n",
      "0      1  5084  3675  1409    0.461509   0.691703 -0.404655  0.093149\n",
      "3      4    60     0    60    0.000000   0.029455  0.000000 -0.000000\n",
      "2      2  4590  4242   348    0.532714   0.170839  1.137260  0.411545\n",
      "IV score: 0.80\n",
      "\n",
      "\n",
      "WoE and IV for column: HasChckng\n",
      "   Value   All  Good   Bad  Distr_Good  Distr_Bad       WoE        IV\n",
      "1      0  2945  2332   613    0.292854   0.300933 -0.027211  0.000220\n",
      "0      1  7055  5631  1424    0.707146   0.699067  0.011490  0.000093\n",
      "IV score: 0.00\n",
      "\n",
      "\n",
      "WoE and IV for column: IsActiveMember\n",
      "   Value   All  Good   Bad  Distr_Good  Distr_Bad       WoE        IV\n",
      "1      0  4849  3547  1302    0.445435   0.639175 -0.361127  0.069965\n",
      "0      1  5151  4416   735    0.554565   0.360825  0.429791  0.083268\n",
      "IV score: 0.15\n",
      "\n",
      "\n",
      "WoE and IV for column: Credit_sc_band\n",
      "             Value   All  Good  Bad  Distr_Good  Distr_Bad       WoE        IV\n",
      "2         crsc_553  1683  1299  384    0.163129   0.188513 -0.144620  0.003671\n",
      "0     crsc_608_652  1673  1316  357    0.165264   0.175258 -0.058711  0.000587\n",
      "1     crsc_553_608  1680  1339  341    0.168153   0.167403  0.004468  0.000003\n",
      "4  crsc_748_to_865  1652  1323  329    0.166143   0.161512  0.028272  0.000131\n",
      "3  crsc_695_to_748  1650  1325  325    0.166395   0.159548  0.042015  0.000288\n",
      "5     crsc_652_695  1662  1361  301    0.170915   0.147766  0.145537  0.003369\n",
      "IV score: 0.01\n",
      "\n",
      "\n",
      "WoE and IV for column: Age_band\n",
      "            Value   All  Good  Bad  Distr_Good  Distr_Bad       WoE        IV\n",
      "2  age_greater_48  1544   835  709    0.104860   0.348061 -1.199751  0.291781\n",
      "0       age_41_48  1672  1099  573    0.138013   0.281296 -0.712057  0.102026\n",
      "1       age_37_41  1698  1405  293    0.176441   0.143839  0.204292  0.006660\n",
      "5       age_34_37  1408  1236  172    0.155218   0.084438  0.608813  0.043092\n",
      "4       age_30_34  1711  1569  142    0.197036   0.069710  1.039039  0.132297\n",
      "3          age_30  1967  1819  148    0.228431   0.072656  1.145502  0.178441\n",
      "IV score: 0.75\n",
      "\n",
      "\n",
      "WoE and IV for column: Est_salary_band\n",
      "                 Value   All  Good  Bad  Distr_Good  Distr_Bad       WoE  \\\n",
      "4  esal_greater_166913  1667  1308  359    0.164260   0.176240 -0.070396   \n",
      "2   esal_132801_166913  1666  1318  348    0.165516   0.170839 -0.031659   \n",
      "3           esal_34025  1667  1320  347    0.165767   0.170349 -0.027265   \n",
      "0   esal_100194_132801  1667  1332  335    0.167274   0.164458  0.016979   \n",
      "1    esal_67057_100194  1666  1342  324    0.168529   0.159057  0.057845   \n",
      "5     esal_34025_67057  1667  1343  324    0.168655   0.159057  0.058590   \n",
      "\n",
      "         IV  \n",
      "4  0.000843  \n",
      "2  0.000169  \n",
      "3  0.000125  \n",
      "0  0.000048  \n",
      "1  0.000548  \n",
      "5  0.000562  \n",
      "IV score: 0.00\n",
      "\n",
      "\n",
      "WoE and IV for column: Balance_band\n",
      "                Value   All  Good  Bad  Distr_Good  Distr_Bad       WoE  \\\n",
      "3    bal_97198_118100  1667  1232  435    0.154716   0.213549 -0.322280   \n",
      "2   bal_118100_138294  1666  1232  434    0.154716   0.213058 -0.319978   \n",
      "1  bal_greater_138294  1667  1287  380    0.161623   0.186549 -0.143430   \n",
      "0           bal_97198  5000  4212  788    0.528946   0.386843  0.312867   \n",
      "\n",
      "         IV  \n",
      "3  0.018961  \n",
      "2  0.018668  \n",
      "1  0.003575  \n",
      "0  0.044459  \n",
      "IV score: 0.09\n",
      "\n",
      "\n"
     ]
    }
   ],
   "source": [
    "for col in df_2.columns:\n",
    "    if col == 'Exited': continue\n",
    "    else:\n",
    "        print('WoE and IV for column: {}'.format(col))\n",
    "        df_woe_iv, iv = calculate_woe_iv(df_2, col, 'Exited')\n",
    "        print(df_woe_iv)\n",
    "        print('IV score: {:.2f}'.format(iv))\n",
    "        print('\\n')"
   ]
  },
  {
   "cell_type": "markdown",
   "id": "10bfda26",
   "metadata": {},
   "source": [
    "With respect to IV values , the significant variables are **NumberOfProducts**, **Age_band**, **Geography** and **IsActiveMember** in descending order of IV values"
   ]
  },
  {
   "cell_type": "markdown",
   "id": "e39d4816",
   "metadata": {},
   "source": [
    "As we can see **IsActiveMember** is already a binary variable , whereas NumberOfProducts, Age_band, Geography and IsActiveMember are not. Therefore, dummy variables need to be created for the same."
   ]
  },
  {
   "cell_type": "markdown",
   "id": "4e92da46",
   "metadata": {},
   "source": [
    " "
   ]
  },
  {
   "cell_type": "markdown",
   "id": "874fe227",
   "metadata": {},
   "source": [
    "### 3.3  Creating dummy variables"
   ]
  },
  {
   "cell_type": "markdown",
   "id": "32586072",
   "metadata": {},
   "source": [
    " "
   ]
  },
  {
   "cell_type": "code",
   "execution_count": 71,
   "id": "70a78c9b",
   "metadata": {},
   "outputs": [
    {
     "name": "stdout",
     "output_type": "stream",
     "text": [
      "The dummy variables are created for the variables Geography, NumOfProducts and Age_band\n"
     ]
    }
   ],
   "source": [
    "geography_dummy = pd.get_dummies(df_2['Geography'], drop_first=False, prefix='Geography')\n",
    "num_of_products_dummy = pd.get_dummies(df_2['NumOfProducts'], drop_first=False, prefix='Num_Prods')\n",
    "age_dummy = pd.get_dummies(df_2['Age_band'], drop_first=False)\n",
    "\n",
    "print('The dummy variables are created for the variables Geography, NumOfProducts and Age_band')"
   ]
  },
  {
   "cell_type": "markdown",
   "id": "eb91b855",
   "metadata": {},
   "source": [
    " "
   ]
  },
  {
   "cell_type": "markdown",
   "id": "a39fe090",
   "metadata": {},
   "source": [
    "### 3.4  Creating the dataframe for Model Development"
   ]
  },
  {
   "cell_type": "markdown",
   "id": "51789cbb",
   "metadata": {},
   "source": [
    " "
   ]
  },
  {
   "cell_type": "code",
   "execution_count": 72,
   "id": "8c4af8bd",
   "metadata": {},
   "outputs": [
    {
     "name": "stdout",
     "output_type": "stream",
     "text": [
      "The dataframe along with dummy variables look like:\n",
      "\n"
     ]
    },
    {
     "data": {
      "text/html": [
       "<div>\n",
       "<style scoped>\n",
       "    .dataframe tbody tr th:only-of-type {\n",
       "        vertical-align: middle;\n",
       "    }\n",
       "\n",
       "    .dataframe tbody tr th {\n",
       "        vertical-align: top;\n",
       "    }\n",
       "\n",
       "    .dataframe thead th {\n",
       "        text-align: right;\n",
       "    }\n",
       "</style>\n",
       "<table border=\"1\" class=\"dataframe\">\n",
       "  <thead>\n",
       "    <tr style=\"text-align: right;\">\n",
       "      <th></th>\n",
       "      <th>Geography_East</th>\n",
       "      <th>Geography_West_and_Central</th>\n",
       "      <th>Num_Prods_1</th>\n",
       "      <th>Num_Prods_2</th>\n",
       "      <th>Num_Prods_3</th>\n",
       "      <th>Num_Prods_4</th>\n",
       "      <th>age_30</th>\n",
       "      <th>age_30_34</th>\n",
       "      <th>age_34_37</th>\n",
       "      <th>age_37_41</th>\n",
       "      <th>age_41_48</th>\n",
       "      <th>age_greater_48</th>\n",
       "      <th>IsActiveMember</th>\n",
       "      <th>Exited</th>\n",
       "    </tr>\n",
       "    <tr>\n",
       "      <th>CustomerId</th>\n",
       "      <th></th>\n",
       "      <th></th>\n",
       "      <th></th>\n",
       "      <th></th>\n",
       "      <th></th>\n",
       "      <th></th>\n",
       "      <th></th>\n",
       "      <th></th>\n",
       "      <th></th>\n",
       "      <th></th>\n",
       "      <th></th>\n",
       "      <th></th>\n",
       "      <th></th>\n",
       "      <th></th>\n",
       "    </tr>\n",
       "  </thead>\n",
       "  <tbody>\n",
       "    <tr>\n",
       "      <th>15634602</th>\n",
       "      <td>0</td>\n",
       "      <td>1</td>\n",
       "      <td>1</td>\n",
       "      <td>0</td>\n",
       "      <td>0</td>\n",
       "      <td>0</td>\n",
       "      <td>0</td>\n",
       "      <td>0</td>\n",
       "      <td>0</td>\n",
       "      <td>0</td>\n",
       "      <td>1</td>\n",
       "      <td>0</td>\n",
       "      <td>1</td>\n",
       "      <td>1</td>\n",
       "    </tr>\n",
       "    <tr>\n",
       "      <th>15647311</th>\n",
       "      <td>0</td>\n",
       "      <td>1</td>\n",
       "      <td>1</td>\n",
       "      <td>0</td>\n",
       "      <td>0</td>\n",
       "      <td>0</td>\n",
       "      <td>0</td>\n",
       "      <td>0</td>\n",
       "      <td>0</td>\n",
       "      <td>1</td>\n",
       "      <td>0</td>\n",
       "      <td>0</td>\n",
       "      <td>1</td>\n",
       "      <td>0</td>\n",
       "    </tr>\n",
       "    <tr>\n",
       "      <th>15619304</th>\n",
       "      <td>0</td>\n",
       "      <td>1</td>\n",
       "      <td>0</td>\n",
       "      <td>0</td>\n",
       "      <td>1</td>\n",
       "      <td>0</td>\n",
       "      <td>0</td>\n",
       "      <td>0</td>\n",
       "      <td>0</td>\n",
       "      <td>0</td>\n",
       "      <td>1</td>\n",
       "      <td>0</td>\n",
       "      <td>0</td>\n",
       "      <td>1</td>\n",
       "    </tr>\n",
       "    <tr>\n",
       "      <th>15701354</th>\n",
       "      <td>0</td>\n",
       "      <td>1</td>\n",
       "      <td>0</td>\n",
       "      <td>1</td>\n",
       "      <td>0</td>\n",
       "      <td>0</td>\n",
       "      <td>0</td>\n",
       "      <td>0</td>\n",
       "      <td>0</td>\n",
       "      <td>1</td>\n",
       "      <td>0</td>\n",
       "      <td>0</td>\n",
       "      <td>0</td>\n",
       "      <td>0</td>\n",
       "    </tr>\n",
       "    <tr>\n",
       "      <th>15737888</th>\n",
       "      <td>0</td>\n",
       "      <td>1</td>\n",
       "      <td>1</td>\n",
       "      <td>0</td>\n",
       "      <td>0</td>\n",
       "      <td>0</td>\n",
       "      <td>0</td>\n",
       "      <td>0</td>\n",
       "      <td>0</td>\n",
       "      <td>0</td>\n",
       "      <td>1</td>\n",
       "      <td>0</td>\n",
       "      <td>1</td>\n",
       "      <td>0</td>\n",
       "    </tr>\n",
       "  </tbody>\n",
       "</table>\n",
       "</div>"
      ],
      "text/plain": [
       "            Geography_East  Geography_West_and_Central  Num_Prods_1  \\\n",
       "CustomerId                                                            \n",
       "15634602                 0                           1            1   \n",
       "15647311                 0                           1            1   \n",
       "15619304                 0                           1            0   \n",
       "15701354                 0                           1            0   \n",
       "15737888                 0                           1            1   \n",
       "\n",
       "            Num_Prods_2  Num_Prods_3  Num_Prods_4  age_30  age_30_34  \\\n",
       "CustomerId                                                             \n",
       "15634602              0            0            0       0          0   \n",
       "15647311              0            0            0       0          0   \n",
       "15619304              0            1            0       0          0   \n",
       "15701354              1            0            0       0          0   \n",
       "15737888              0            0            0       0          0   \n",
       "\n",
       "            age_34_37  age_37_41  age_41_48  age_greater_48  IsActiveMember  \\\n",
       "CustomerId                                                                    \n",
       "15634602            0          0          1               0               1   \n",
       "15647311            0          1          0               0               1   \n",
       "15619304            0          0          1               0               0   \n",
       "15701354            0          1          0               0               0   \n",
       "15737888            0          0          1               0               1   \n",
       "\n",
       "            Exited  \n",
       "CustomerId          \n",
       "15634602         1  \n",
       "15647311         0  \n",
       "15619304         1  \n",
       "15701354         0  \n",
       "15737888         0  "
      ]
     },
     "execution_count": 72,
     "metadata": {},
     "output_type": "execute_result"
    }
   ],
   "source": [
    "df_2 = pd.concat([geography_dummy, num_of_products_dummy, age_dummy, df_2[['IsActiveMember', 'Exited']]], axis=1)\n",
    "\n",
    "print('The dataframe along with dummy variables look like:\\n')\n",
    "df_2.head()"
   ]
  },
  {
   "cell_type": "markdown",
   "id": "c58c389a",
   "metadata": {},
   "source": [
    "In order to check the associations between the categorical variables, we need to find how each of them are connected to the other by means of **Cramer's V** formula. A high value towards +-1 indicates very strong relation and a value closer towards 0 represents the variables are independent of one another."
   ]
  },
  {
   "cell_type": "markdown",
   "id": "fd6039be",
   "metadata": {},
   "source": [
    " "
   ]
  },
  {
   "cell_type": "markdown",
   "id": "1103307d",
   "metadata": {},
   "source": [
    "### 3.5  Association Matrix by Cramer's V formula"
   ]
  },
  {
   "cell_type": "markdown",
   "id": "4c066de6",
   "metadata": {},
   "source": [
    " "
   ]
  },
  {
   "cell_type": "code",
   "execution_count": 73,
   "id": "4b6da00c",
   "metadata": {},
   "outputs": [],
   "source": [
    "from dython.nominal import associations"
   ]
  },
  {
   "cell_type": "code",
   "execution_count": 74,
   "id": "06a573a2",
   "metadata": {},
   "outputs": [],
   "source": [
    "X = df_2.iloc[:,:-1]"
   ]
  },
  {
   "cell_type": "code",
   "execution_count": 75,
   "id": "6d62fb75",
   "metadata": {},
   "outputs": [
    {
     "data": {
      "image/png": "[encoded data removed]",
      "text/plain": [
       "<Figure size 720x720 with 2 Axes>"
      ]
     },
     "metadata": {
      "needs_background": "light"
     },
     "output_type": "display_data"
    }
   ],
   "source": [
    "categorical_correlation= associations(X, filename= 'categorical_correlation.png', figsize=(10,10))"
   ]
  },
  {
   "cell_type": "markdown",
   "id": "fc44d62a",
   "metadata": {},
   "source": [
    "As, we can see from above correlation chart says(by Cramer's V values) that variables **Num_Prods_1** and **Num_Prods_2** are closely associated but we will proceed with **Num_Prods_2** only as it has more information value(**0.411545**)  than the former(**0.093149**).\n",
    "\n",
    "Therefore, for model development we are proceeding with the following set of features: *Geography_East, Num_Prods_1, Num_Prods_2, Num_Prods_3, Num_Prods_4, age_30, age_30_34, age_34_37, age_37_41, age_41_48, age_greater_48, IsActiveMember*."
   ]
  },
  {
   "cell_type": "code",
   "execution_count": 76,
   "id": "0b458fb0",
   "metadata": {},
   "outputs": [],
   "source": [
    "X = X.drop(columns = ['Num_Prods_1','Geography_West_and_Central'])"
   ]
  },
  {
   "cell_type": "code",
   "execution_count": 77,
   "id": "dc6090be",
   "metadata": {},
   "outputs": [],
   "source": [
    "Y = df_2.iloc[:,df_2.shape[1]-1:df_2.shape[1]]"
   ]
  },
  {
   "cell_type": "markdown",
   "id": "1de43a74",
   "metadata": {},
   "source": [
    " "
   ]
  },
  {
   "cell_type": "markdown",
   "id": "a9ef1012",
   "metadata": {},
   "source": [
    " "
   ]
  },
  {
   "cell_type": "markdown",
   "id": "bb34fd6f",
   "metadata": {},
   "source": [
    "  "
   ]
  },
  {
   "cell_type": "markdown",
   "id": "628359f6",
   "metadata": {},
   "source": [
    "## 4.  Model Development Module"
   ]
  },
  {
   "cell_type": "markdown",
   "id": "976fd727",
   "metadata": {},
   "source": [
    "### 4.1  Train Test Split"
   ]
  },
  {
   "cell_type": "code",
   "execution_count": 78,
   "id": "78f5e619",
   "metadata": {},
   "outputs": [
    {
     "name": "stdout",
     "output_type": "stream",
     "text": [
      "In training data, X variables contain (7000, 11) rows and columns respectively and Y variable contain (7000, 1) rows and columns respectively \n",
      "In test data, X variables contain (3000, 11) rows and columns respectively and Y variable contain (3000, 1) rows and columns respectively \n",
      "In training data the percentage of customers who exited the business are : 20.757142857142856\n",
      "In training data the percentage of customers who stayed in the business are : 79.24285714285715\n",
      "In test data the percentage of customers who exited the business are : 19.466666666666665\n",
      "In test data the percentage of customers who stayed in the business are : 80.53333333333333\n",
      "Therefore the training data is imbalanced\n"
     ]
    }
   ],
   "source": [
    "X_train, X_test, y_train, y_test = train_test_split(X, Y, test_size=0.3,random_state = 42)\n",
    "print ('In training data, X variables contain {} rows and columns respectively and Y variable contain {} rows and columns respectively '.format(X_train.shape, y_train.shape))\n",
    "print ('In test data, X variables contain {} rows and columns respectively and Y variable contain {} rows and columns respectively '.format(X_test.shape, y_test.shape))\n",
    "\n",
    "\n",
    "print('In training data the percentage of customers who exited the business are :', len(y_train[y_train['Exited']==1])/len(y_train)*100)\n",
    "print('In training data the percentage of customers who stayed in the business are :', len(y_train[y_train['Exited']==0])/len(y_train)*100)\n",
    "print('In test data the percentage of customers who exited the business are :', len(y_test[y_test['Exited']==1])/len(y_test)*100)\n",
    "print('In test data the percentage of customers who stayed in the business are :', len(y_test[y_test['Exited']==0])/len(y_test)*100)\n",
    "print('Therefore the training data is imbalanced')\n",
    "#print (X_test.shape, y_test.shape)"
   ]
  },
  {
   "cell_type": "markdown",
   "id": "cc6db1a9",
   "metadata": {},
   "source": [
    "The entire data set has been splitted into **train** and **test** set taking **70% as train data** and remaining **30% as test data**"
   ]
  },
  {
   "cell_type": "code",
   "execution_count": 79,
   "id": "de57581b",
   "metadata": {},
   "outputs": [
    {
     "name": "stdout",
     "output_type": "stream",
     "text": [
      "The number of rows in training data is:\n",
      "\n"
     ]
    },
    {
     "data": {
      "text/plain": [
       "7000"
      ]
     },
     "execution_count": 79,
     "metadata": {},
     "output_type": "execute_result"
    }
   ],
   "source": [
    "print('The number of rows in training data is:\\n')\n",
    "len(y_train)"
   ]
  },
  {
   "cell_type": "code",
   "execution_count": 80,
   "id": "fd1146db",
   "metadata": {},
   "outputs": [
    {
     "name": "stdout",
     "output_type": "stream",
     "text": [
      "The number of rows in test data is:\n",
      "\n"
     ]
    },
    {
     "data": {
      "text/plain": [
       "3000"
      ]
     },
     "execution_count": 80,
     "metadata": {},
     "output_type": "execute_result"
    }
   ],
   "source": [
    "print('The number of rows in test data is:\\n')\n",
    "len(y_test)"
   ]
  },
  {
   "cell_type": "markdown",
   "id": "fad02eda",
   "metadata": {},
   "source": [
    "### 4.2  LOGISTIC REGRESSION MODEL"
   ]
  },
  {
   "cell_type": "markdown",
   "id": "aa6b85e2",
   "metadata": {},
   "source": [
    "### 4.2.1  Let us first try to build a model with the unbalanced dataset first"
   ]
  },
  {
   "cell_type": "code",
   "execution_count": 81,
   "id": "b2be3ba7",
   "metadata": {},
   "outputs": [],
   "source": [
    "classifier = lor()"
   ]
  },
  {
   "cell_type": "code",
   "execution_count": 82,
   "id": "484bf6bb",
   "metadata": {},
   "outputs": [
    {
     "name": "stdout",
     "output_type": "stream",
     "text": [
      "Accuracy on train set containing unbalanced data : 84.96%\n"
     ]
    }
   ],
   "source": [
    "model = classifier.fit(X_train,y_train)\n",
    "print('Accuracy on train set containing unbalanced data : {:.2f}%'.format(classifier.score(X_train, y_train)*100))"
   ]
  },
  {
   "cell_type": "markdown",
   "id": "d2eac919",
   "metadata": {},
   "source": [
    " "
   ]
  },
  {
   "cell_type": "markdown",
   "id": "ca5b5fec",
   "metadata": {},
   "source": [
    "### 4.2.2  Model Performance on Test Set"
   ]
  },
  {
   "cell_type": "markdown",
   "id": "01af4ba5",
   "metadata": {},
   "source": [
    "  "
   ]
  },
  {
   "cell_type": "code",
   "execution_count": 83,
   "id": "33e0e309",
   "metadata": {},
   "outputs": [
    {
     "name": "stdout",
     "output_type": "stream",
     "text": [
      "Accuracy on test set : 86.10%\n"
     ]
    }
   ],
   "source": [
    "predictions = classifier.predict(X_test)\n",
    "# evaluate predictions\n",
    "accuracy = accuracy_score(y_test, predictions)\n",
    "print(\"Accuracy on test set : %.2f%%\" % (accuracy * 100.0))"
   ]
  },
  {
   "cell_type": "markdown",
   "id": "102875ff",
   "metadata": {},
   "source": [
    "  "
   ]
  },
  {
   "cell_type": "markdown",
   "id": "80c463b9",
   "metadata": {},
   "source": [
    "### 4.2.3  Confusion Matrix for Logistic Regression Model (with unbalanced data)"
   ]
  },
  {
   "cell_type": "markdown",
   "id": "c41c31d6",
   "metadata": {},
   "source": [
    " "
   ]
  },
  {
   "cell_type": "code",
   "execution_count": 84,
   "id": "bd4356fa",
   "metadata": {},
   "outputs": [
    {
     "name": "stdout",
     "output_type": "stream",
     "text": [
      "Confusion matrix : \n",
      " [[2358   58]\n",
      " [ 359  225]]\n",
      "\n",
      "TPR or Sensitivity or Recall is 0.39 \n",
      "Precision is 0.80 \n",
      "FNR is 0.61 \n",
      "FPR or (1-Specificity) is 0.02 \n",
      "TNR is 0.98\n",
      "\n",
      "Classification report : \n",
      "               precision    recall  f1-score   support\n",
      "\n",
      "           1       0.80      0.39      0.52       584\n",
      "           0       0.87      0.98      0.92      2416\n",
      "\n",
      "    accuracy                           0.86      3000\n",
      "   macro avg       0.83      0.68      0.72      3000\n",
      "weighted avg       0.85      0.86      0.84      3000\n",
      "\n"
     ]
    }
   ],
   "source": [
    "# confusion matrix in sklearn\n",
    "\n",
    "# actual values\n",
    "actual = y_test.values.tolist()\n",
    "# predicted values\n",
    "predicted = predictions.tolist()\n",
    "\n",
    "# confusion matrix\n",
    "con_matrix = confusion_matrix(actual,predicted, labels=[0,1])\n",
    "print('Confusion matrix : \\n',con_matrix)\n",
    "\n",
    "# outcome values order in sklearn\n",
    "tp, fn, fp, tn = confusion_matrix(actual,predicted,labels=[1,0]).reshape(-1)\n",
    "print(\"\\nTPR or Sensitivity or Recall is {:.2f}\".format(tp/(tp+fn)),\"\\nPrecision is {:.2f}\".format(tp/(tp+fp)), \"\\nFNR is {:.2f}\".format(fn/(fn+tp)),\"\\nFPR or (1-Specificity) is {:.2f}\".format(fp/(fp+tn)),\"\\nTNR is {:.2f}\".format(tn/(tn+fp),\"\\nPrecision is {:.2f}\".format(tp/(tp+fp))))\n",
    "\n",
    "\n",
    "# classification report for precision, recall f1-score and accuracy\n",
    "matrix = classification_report(actual,predicted,labels=[1,0])\n",
    "print('\\nClassification report : \\n',matrix)"
   ]
  },
  {
   "cell_type": "markdown",
   "id": "a3714eb1",
   "metadata": {},
   "source": [
    " "
   ]
  },
  {
   "cell_type": "markdown",
   "id": "e14c979c",
   "metadata": {},
   "source": [
    "### 4.2.4  Confusion Matrix Plot for Logistic Regression Model"
   ]
  },
  {
   "cell_type": "markdown",
   "id": "e9ad89a8",
   "metadata": {},
   "source": [
    " "
   ]
  },
  {
   "cell_type": "code",
   "execution_count": 85,
   "id": "8c1b1e92",
   "metadata": {},
   "outputs": [
    {
     "data": {
      "image/png": "[encoded data removed]",
      "text/plain": [
       "<Figure size 540x540 with 1 Axes>"
      ]
     },
     "metadata": {
      "needs_background": "light"
     },
     "output_type": "display_data"
    }
   ],
   "source": [
    "# Print the confusion matrix using Matplotlib\n",
    "import matplotlib.pyplot as plt\n",
    "\n",
    "fig, ax = plt.subplots(figsize=(7.5, 7.5))\n",
    "ax.matshow(con_matrix, cmap=plt.cm.Blues, alpha=0.3)\n",
    "for i in range(con_matrix.shape[0]):\n",
    "    for j in range(con_matrix.shape[1]):\n",
    "        ax.text(x=i, y=j,s=con_matrix[i, j], va='center', ha='center', size='xx-large')\n",
    " \n",
    "plt.xlabel('Predictions', fontsize=18)\n",
    "plt.ylabel('Actuals', fontsize=18)\n",
    "plt.title('Confusion Matrix for test set - Logistic Regression Model', fontsize=18)\n",
    "plt.show()"
   ]
  },
  {
   "cell_type": "markdown",
   "id": "0da74392",
   "metadata": {},
   "source": [
    " "
   ]
  },
  {
   "cell_type": "markdown",
   "id": "abc367a4",
   "metadata": {},
   "source": [
    "### 4.2.5  ROC AUC score on test data"
   ]
  },
  {
   "cell_type": "markdown",
   "id": "5c51bdc9",
   "metadata": {},
   "source": [
    " "
   ]
  },
  {
   "cell_type": "code",
   "execution_count": 86,
   "id": "69dfd522",
   "metadata": {},
   "outputs": [
    {
     "name": "stdout",
     "output_type": "stream",
     "text": [
      "The roc_auc score is: 0.6806336750430917\n"
     ]
    },
    {
     "data": {
      "image/png": "[encoded data removed]",
      "text/plain": [
       "<Figure size 432x288 with 1 Axes>"
      ]
     },
     "metadata": {
      "needs_background": "light"
     },
     "output_type": "display_data"
    }
   ],
   "source": [
    "from sklearn.metrics import roc_curve\n",
    "from sklearn.metrics import auc\n",
    "\n",
    "# Compute fpr, tpr, thresholds and roc auc\n",
    "fpr, tpr, thresholds = roc_curve(y_test, predicted)\n",
    "roc_auc = auc(fpr, tpr)\n",
    "gini_coefficient = (2*roc_auc)-1\n",
    "\n",
    "# Plot ROC curve\n",
    "plt.plot(fpr, tpr, label='ROC curve (area = %0.3f)' % roc_auc)\n",
    "plt.plot([0, 1], [0, 1], 'k--')  # random predictions curve\n",
    "plt.xlim([0.0, 1.0])\n",
    "plt.ylim([0.0, 1.0])\n",
    "plt.xlabel('False Positive Rate or (1 - Specifity)')\n",
    "plt.ylabel('True Positive Rate or (Sensitivity)')\n",
    "plt.title('Receiver Operating Characteristic')\n",
    "plt.legend(loc=\"lower right\")\n",
    "\n",
    "print('The roc_auc score is:', roc_auc)"
   ]
  },
  {
   "cell_type": "markdown",
   "id": "51c919e6",
   "metadata": {},
   "source": [
    "In the data above, the **training set accuracy** is **84.96%** and **test accuracy** is **86.10%**. If we look at the **Confusion Matrix**, **TPR** is **0.39** and **TNR** is **0.98**. The **roc_auc score** is **0.68**. Moreover, the training data is **highly imbalanced** and has more number of observations belonging to **\"non-exited\"** members as mentioned earlier. Therefore, we do oversampling using SMOTE package to over sample the minority class i.e. customers who has Exited in this case."
   ]
  },
  {
   "cell_type": "markdown",
   "id": "45d6ae22",
   "metadata": {},
   "source": [
    " "
   ]
  },
  {
   "cell_type": "markdown",
   "id": "c005ed14",
   "metadata": {},
   "source": [
    "### 4.3.0  CLASS BALANCING APPROACH using SMOTE package : Over Sampling the Exited Set of customers data "
   ]
  },
  {
   "cell_type": "markdown",
   "id": "cecd8358",
   "metadata": {},
   "source": [
    " "
   ]
  },
  {
   "cell_type": "code",
   "execution_count": 87,
   "id": "e35c189f",
   "metadata": {},
   "outputs": [],
   "source": [
    "sm = SMOTE(random_state = 2)\n",
    "X_train1,y_train1 = sm.fit_resample(X_train,y_train)"
   ]
  },
  {
   "cell_type": "code",
   "execution_count": 88,
   "id": "cace4ebc",
   "metadata": {},
   "outputs": [],
   "source": [
    "#len(y_train1)"
   ]
  },
  {
   "cell_type": "code",
   "execution_count": 89,
   "id": "e23084c2",
   "metadata": {},
   "outputs": [],
   "source": [
    "#len(y_train)"
   ]
  },
  {
   "cell_type": "markdown",
   "id": "85ee6d1e",
   "metadata": {},
   "source": [
    "Comparing the distribution of records in Target variable column between Exited and Non-exited individuals in **inbalanced Vs balanced** dataset"
   ]
  },
  {
   "cell_type": "code",
   "execution_count": 90,
   "id": "2bf34b0d",
   "metadata": {},
   "outputs": [
    {
     "name": "stdout",
     "output_type": "stream",
     "text": [
      "In imbalanced training data the distribution of non exited customers to exited customers is as follows:\n"
     ]
    },
    {
     "data": {
      "text/plain": [
       "0    5547\n",
       "1    1453\n",
       "Name: Exited, dtype: int64"
      ]
     },
     "execution_count": 90,
     "metadata": {},
     "output_type": "execute_result"
    }
   ],
   "source": [
    "print('In imbalanced training data the distribution of non exited customers to exited customers is as follows:')\n",
    "pd.Series(y_train['Exited']).value_counts()"
   ]
  },
  {
   "cell_type": "code",
   "execution_count": 91,
   "id": "bad91f6f",
   "metadata": {},
   "outputs": [
    {
     "name": "stdout",
     "output_type": "stream",
     "text": [
      "In balanced training data the distribution of non exited customers to exited customers is as follows:\n"
     ]
    },
    {
     "data": {
      "text/plain": [
       "1    5547\n",
       "0    5547\n",
       "Name: Exited, dtype: int64"
      ]
     },
     "execution_count": 91,
     "metadata": {},
     "output_type": "execute_result"
    }
   ],
   "source": [
    "print('In balanced training data the distribution of non exited customers to exited customers is as follows:')\n",
    "pd.Series(y_train1['Exited']).value_counts()"
   ]
  },
  {
   "cell_type": "markdown",
   "id": "b060c70a",
   "metadata": {},
   "source": [
    " "
   ]
  },
  {
   "cell_type": "markdown",
   "id": "fb5e18f2",
   "metadata": {},
   "source": [
    "### 4.3.1  Re development of Model after class balancing"
   ]
  },
  {
   "cell_type": "markdown",
   "id": "01fecf89",
   "metadata": {},
   "source": [
    " "
   ]
  },
  {
   "cell_type": "code",
   "execution_count": 92,
   "id": "f64a53e0",
   "metadata": {},
   "outputs": [],
   "source": [
    "classifier = lor()\n",
    "model = classifier.fit(X_train1,y_train1)"
   ]
  },
  {
   "cell_type": "markdown",
   "id": "cb5efd7a",
   "metadata": {},
   "source": [
    " "
   ]
  },
  {
   "cell_type": "markdown",
   "id": "2dc974b4",
   "metadata": {},
   "source": [
    "### 4.3.2  K- Fold Cross Validation Data Performance"
   ]
  },
  {
   "cell_type": "markdown",
   "id": "44c2c093",
   "metadata": {},
   "source": [
    " "
   ]
  },
  {
   "cell_type": "code",
   "execution_count": 93,
   "id": "2a9f2cc2",
   "metadata": {},
   "outputs": [
    {
     "name": "stdout",
     "output_type": "stream",
     "text": [
      "Average Cross Validation accuracy is :73.75%\n"
     ]
    }
   ],
   "source": [
    "from sklearn.model_selection import cross_val_score,KFold\n",
    "kf=KFold(n_splits=10)\n",
    "score=cross_val_score(model,X_train1,y_train1,scoring='accuracy',cv=kf)\n",
    "#print(\"Cross Validation Scores are {}\".format(score))\n",
    "\n",
    "#print('Accuracy on train set containing balanced data : {:.2f}%'.format(classifier.score(X_train1, y_train1)*100))\n",
    "print(\"Average Cross Validation accuracy is :{:.2f}%\".format(score.mean()*100))"
   ]
  },
  {
   "cell_type": "markdown",
   "id": "7f13bdc3",
   "metadata": {},
   "source": [
    " "
   ]
  },
  {
   "cell_type": "markdown",
   "id": "b8403565",
   "metadata": {},
   "source": [
    "### 4.3.3  Model Performance on Test Data using Logistic Regression"
   ]
  },
  {
   "cell_type": "markdown",
   "id": "c2e0011d",
   "metadata": {},
   "source": [
    " "
   ]
  },
  {
   "cell_type": "code",
   "execution_count": 94,
   "id": "b42f4e37",
   "metadata": {},
   "outputs": [
    {
     "name": "stdout",
     "output_type": "stream",
     "text": [
      "Accuracy on train set containing balanced data : 75.31%\n",
      "Accuracy on test set : 76.67%\n"
     ]
    }
   ],
   "source": [
    "predictions = classifier.predict(X_test)\n",
    "# evaluate predictions\n",
    "accuracy = accuracy_score(y_test, predictions)\n",
    "\n",
    "print('Accuracy on train set containing balanced data : {:.2f}%'.format(classifier.score(X_train1, y_train1)*100))\n",
    "print(\"Accuracy on test set : %.2f%%\" % (accuracy * 100.0))"
   ]
  },
  {
   "cell_type": "code",
   "execution_count": 95,
   "id": "1e315838",
   "metadata": {},
   "outputs": [
    {
     "name": "stdout",
     "output_type": "stream",
     "text": [
      "Confusion matrix : \n",
      " [[1848  568]\n",
      " [ 132  452]]\n",
      "\n",
      "TPR or Sensitivity or Recall is 0.77 \n",
      "Precision is 0.44 \n",
      "FNR is 0.23 \n",
      "FPR or (1-Specificity) is 0.24 \n",
      "TNR is 0.76\n",
      "\n",
      "Classification report : \n",
      "               precision    recall  f1-score   support\n",
      "\n",
      "           1       0.44      0.77      0.56       584\n",
      "           0       0.93      0.76      0.84      2416\n",
      "\n",
      "    accuracy                           0.77      3000\n",
      "   macro avg       0.69      0.77      0.70      3000\n",
      "weighted avg       0.84      0.77      0.79      3000\n",
      "\n"
     ]
    }
   ],
   "source": [
    "# actual values\n",
    "actual = y_test.values.tolist()\n",
    "# predicted values\n",
    "predicted = predictions.tolist()\n",
    "\n",
    "# confusion matrix\n",
    "con_matrix = confusion_matrix(actual,predicted, labels=[0,1])\n",
    "print('Confusion matrix : \\n',con_matrix)\n",
    "\n",
    "# outcome values order in sklearn\n",
    "tp, fn, fp, tn = confusion_matrix(actual,predicted,labels=[1,0]).reshape(-1)\n",
    "print(\"\\nTPR or Sensitivity or Recall is {:.2f}\".format(tp/(tp+fn)),\"\\nPrecision is {:.2f}\".format(tp/(tp+fp)), \"\\nFNR is {:.2f}\".format(fn/(fn+tp)),\"\\nFPR or (1-Specificity) is {:.2f}\".format(fp/(fp+tn)),\"\\nTNR is {:.2f}\".format(tn/(tn+fp),\"\\nPrecision is {:.2f}\".format(tp/(tp+fp))))\n",
    "\n",
    "\n",
    "# classification report for precision, recall f1-score and accuracy\n",
    "matrix = classification_report(actual,predicted,labels=[1,0])\n",
    "print('\\nClassification report : \\n',matrix)"
   ]
  },
  {
   "cell_type": "markdown",
   "id": "a887d301",
   "metadata": {},
   "source": [
    " "
   ]
  },
  {
   "cell_type": "markdown",
   "id": "921c1498",
   "metadata": {},
   "source": [
    "### 4.3.4  Confusion Matrix Plot for Logistic Regression Model"
   ]
  },
  {
   "cell_type": "markdown",
   "id": "8a5dafa0",
   "metadata": {},
   "source": [
    "  "
   ]
  },
  {
   "cell_type": "code",
   "execution_count": 96,
   "id": "74c637b0",
   "metadata": {},
   "outputs": [
    {
     "data": {
      "image/png": "[encoded data removed]",
      "text/plain": [
       "<Figure size 540x540 with 1 Axes>"
      ]
     },
     "metadata": {
      "needs_background": "light"
     },
     "output_type": "display_data"
    }
   ],
   "source": [
    "# Print the confusion matrix using Matplotlib\n",
    "\n",
    "fig, ax = plt.subplots(figsize=(7.5, 7.5))\n",
    "ax.matshow(con_matrix, cmap=plt.cm.Blues, alpha=0.3)\n",
    "for i in range(con_matrix.shape[0]):\n",
    "    for j in range(con_matrix.shape[1]):\n",
    "        ax.text(x=j, y=i,s=con_matrix[i, j], va='center', ha='center', size='xx-large')\n",
    " \n",
    "plt.xlabel('Predictions', fontsize=18)\n",
    "plt.ylabel('Actuals', fontsize=18)\n",
    "plt.title('Confusion Matrix for test set - Logistic Regression Model', fontsize=18)\n",
    "plt.show()"
   ]
  },
  {
   "cell_type": "markdown",
   "id": "0845a508",
   "metadata": {},
   "source": [
    " "
   ]
  },
  {
   "cell_type": "markdown",
   "id": "f11782fe",
   "metadata": {},
   "source": [
    "### 4.3.5  ROC AUC score on test data"
   ]
  },
  {
   "cell_type": "markdown",
   "id": "fbc9a6a4",
   "metadata": {},
   "source": [
    " "
   ]
  },
  {
   "cell_type": "code",
   "execution_count": 97,
   "id": "e8db83ab",
   "metadata": {},
   "outputs": [
    {
     "name": "stdout",
     "output_type": "stream",
     "text": [
      "The roc_auc score is: 0.7694366324956908\n"
     ]
    },
    {
     "data": {
      "image/png": "[encoded data removed]",
      "text/plain": [
       "<Figure size 432x288 with 1 Axes>"
      ]
     },
     "metadata": {
      "needs_background": "light"
     },
     "output_type": "display_data"
    }
   ],
   "source": [
    "# Compute fpr, tpr, thresholds and roc auc\n",
    "\n",
    "fpr, tpr, thresholds = roc_curve(y_test, predicted)\n",
    "roc_auc = auc(fpr, tpr)\n",
    "gini_coefficient = (2*roc_auc)-1\n",
    "\n",
    "# Plot ROC curve\n",
    "plt.plot(fpr, tpr, label='ROC curve (area = %0.3f)' % roc_auc)\n",
    "plt.plot([0, 1], [0, 1], 'k--')  # random predictions curve\n",
    "plt.xlim([0.0, 1.0])\n",
    "plt.ylim([0.0, 1.0])\n",
    "plt.xlabel('False Positive Rate or (1 - Specifity)')\n",
    "plt.ylabel('True Positive Rate or (Sensitivity)')\n",
    "plt.title('Receiver Operating Characteristic')\n",
    "plt.legend(loc=\"lower right\")\n",
    "\n",
    "\n",
    "print('The roc_auc score is:', roc_auc)"
   ]
  },
  {
   "cell_type": "code",
   "execution_count": 98,
   "id": "78eef2e5",
   "metadata": {},
   "outputs": [],
   "source": [
    "#Weight\tFeature\n",
    "#0.0556 ± 0.0143\tNum_Prods_2\n",
    "#0.0284 ± 0.0035\tage_greater_48\n",
    "#0.0269 ± 0.0038\tIsActiveMember\n",
    "#0.0146 ± 0.0040\tGeography_East\n",
    "#0.0144 ± 0.0042\tage_30_34\n",
    "#0.0119 ± 0.0011\tNum_Prods_3"
   ]
  },
  {
   "cell_type": "markdown",
   "id": "3f16b2b8",
   "metadata": {},
   "source": [
    "    \n",
    "   "
   ]
  },
  {
   "cell_type": "markdown",
   "id": "bd63a543",
   "metadata": {},
   "source": [
    "## 4.4 CATBOOST MODEL"
   ]
  },
  {
   "cell_type": "markdown",
   "id": "e8ccb4e2",
   "metadata": {},
   "source": [
    " "
   ]
  },
  {
   "cell_type": "markdown",
   "id": "3e84515b",
   "metadata": {},
   "source": [
    "### 4.4.1 Hyper Parameter Tuning using GridSearchCV"
   ]
  },
  {
   "cell_type": "markdown",
   "id": "8201a4ee",
   "metadata": {},
   "source": [
    " "
   ]
  },
  {
   "cell_type": "markdown",
   "id": "d388de14",
   "metadata": {},
   "source": [
    "#### Model development on TRAIN Data - Applying GRIDSEARCH CROSS VALIDATION Method to come up with optimal value of hyper parameters (combination for which Accuracy is maximum)"
   ]
  },
  {
   "cell_type": "code",
   "execution_count": 99,
   "id": "1f3b8559",
   "metadata": {},
   "outputs": [
    {
     "name": "stdout",
     "output_type": "stream",
     "text": [
      "0:\tlearn: 0.6860298\ttotal: 143ms\tremaining: 2m 22s\n",
      "1:\tlearn: 0.6786955\ttotal: 150ms\tremaining: 1m 15s\n",
      "2:\tlearn: 0.6725850\ttotal: 156ms\tremaining: 51.9s\n",
      "3:\tlearn: 0.6658832\ttotal: 164ms\tremaining: 40.8s\n",
      "4:\tlearn: 0.6590076\ttotal: 170ms\tremaining: 33.8s\n",
      "5:\tlearn: 0.6529151\ttotal: 177ms\tremaining: 29.3s\n",
      "6:\tlearn: 0.6466308\ttotal: 182ms\tremaining: 25.9s\n",
      "7:\tlearn: 0.6406496\ttotal: 189ms\tremaining: 23.4s\n",
      "8:\tlearn: 0.6353704\ttotal: 195ms\tremaining: 21.4s\n",
      "9:\tlearn: 0.6299225\ttotal: 201ms\tremaining: 19.9s\n",
      "10:\tlearn: 0.6247411\ttotal: 207ms\tremaining: 18.6s\n",
      "11:\tlearn: 0.6198132\ttotal: 213ms\tremaining: 17.6s\n",
      "12:\tlearn: 0.6151253\ttotal: 219ms\tremaining: 16.6s\n",
      "13:\tlearn: 0.6111339\ttotal: 225ms\tremaining: 15.9s\n",
      "14:\tlearn: 0.6068380\ttotal: 232ms\tremaining: 15.2s\n",
      "15:\tlearn: 0.6033200\ttotal: 237ms\tremaining: 14.5s\n",
      "16:\tlearn: 0.6001956\ttotal: 242ms\tremaining: 14s\n",
      "17:\tlearn: 0.5971376\ttotal: 248ms\tremaining: 13.5s\n",
      "18:\tlearn: 0.5938572\ttotal: 253ms\tremaining: 13.1s\n",
      "19:\tlearn: 0.5910882\ttotal: 260ms\tremaining: 12.7s\n",
      "20:\tlearn: 0.5875840\ttotal: 265ms\tremaining: 12.3s\n",
      "21:\tlearn: 0.5846036\ttotal: 271ms\tremaining: 12s\n",
      "22:\tlearn: 0.5818010\ttotal: 277ms\tremaining: 11.7s\n",
      "23:\tlearn: 0.5787202\ttotal: 283ms\tremaining: 11.5s\n",
      "24:\tlearn: 0.5761571\ttotal: 289ms\tremaining: 11.3s\n",
      "25:\tlearn: 0.5731220\ttotal: 295ms\tremaining: 11.1s\n",
      "26:\tlearn: 0.5705955\ttotal: 302ms\tremaining: 10.9s\n",
      "27:\tlearn: 0.5679972\ttotal: 308ms\tremaining: 10.7s\n",
      "28:\tlearn: 0.5658237\ttotal: 315ms\tremaining: 10.5s\n",
      "29:\tlearn: 0.5639219\ttotal: 321ms\tremaining: 10.4s\n",
      "30:\tlearn: 0.5617299\ttotal: 327ms\tremaining: 10.2s\n",
      "31:\tlearn: 0.5596469\ttotal: 334ms\tremaining: 10.1s\n",
      "32:\tlearn: 0.5576651\ttotal: 339ms\tremaining: 9.94s\n",
      "33:\tlearn: 0.5555445\ttotal: 345ms\tremaining: 9.81s\n",
      "34:\tlearn: 0.5539310\ttotal: 351ms\tremaining: 9.67s\n",
      "35:\tlearn: 0.5520682\ttotal: 356ms\tremaining: 9.52s\n",
      "36:\tlearn: 0.5501936\ttotal: 361ms\tremaining: 9.4s\n",
      "37:\tlearn: 0.5487340\ttotal: 365ms\tremaining: 9.24s\n",
      "38:\tlearn: 0.5473138\ttotal: 368ms\tremaining: 9.07s\n",
      "39:\tlearn: 0.5456157\ttotal: 374ms\tremaining: 8.96s\n",
      "40:\tlearn: 0.5441715\ttotal: 378ms\tremaining: 8.83s\n",
      "41:\tlearn: 0.5429540\ttotal: 382ms\tremaining: 8.72s\n",
      "42:\tlearn: 0.5414074\ttotal: 387ms\tremaining: 8.62s\n",
      "43:\tlearn: 0.5401702\ttotal: 392ms\tremaining: 8.52s\n",
      "44:\tlearn: 0.5385488\ttotal: 397ms\tremaining: 8.43s\n",
      "45:\tlearn: 0.5370686\ttotal: 402ms\tremaining: 8.33s\n",
      "46:\tlearn: 0.5359835\ttotal: 407ms\tremaining: 8.25s\n",
      "47:\tlearn: 0.5349347\ttotal: 411ms\tremaining: 8.16s\n",
      "48:\tlearn: 0.5337371\ttotal: 416ms\tremaining: 8.08s\n",
      "49:\tlearn: 0.5326486\ttotal: 423ms\tremaining: 8.03s\n",
      "50:\tlearn: 0.5315261\ttotal: 428ms\tremaining: 7.96s\n",
      "51:\tlearn: 0.5304548\ttotal: 433ms\tremaining: 7.89s\n",
      "52:\tlearn: 0.5294928\ttotal: 438ms\tremaining: 7.83s\n",
      "53:\tlearn: 0.5282872\ttotal: 442ms\tremaining: 7.75s\n",
      "54:\tlearn: 0.5271286\ttotal: 446ms\tremaining: 7.66s\n",
      "55:\tlearn: 0.5260996\ttotal: 450ms\tremaining: 7.58s\n",
      "56:\tlearn: 0.5252229\ttotal: 453ms\tremaining: 7.49s\n",
      "57:\tlearn: 0.5243663\ttotal: 456ms\tremaining: 7.41s\n",
      "58:\tlearn: 0.5233590\ttotal: 459ms\tremaining: 7.33s\n",
      "59:\tlearn: 0.5224559\ttotal: 463ms\tremaining: 7.26s\n",
      "60:\tlearn: 0.5215907\ttotal: 467ms\tremaining: 7.19s\n",
      "61:\tlearn: 0.5206633\ttotal: 470ms\tremaining: 7.11s\n",
      "62:\tlearn: 0.5198369\ttotal: 473ms\tremaining: 7.04s\n",
      "63:\tlearn: 0.5190703\ttotal: 477ms\tremaining: 6.97s\n",
      "64:\tlearn: 0.5183935\ttotal: 480ms\tremaining: 6.91s\n",
      "65:\tlearn: 0.5177505\ttotal: 483ms\tremaining: 6.83s\n",
      "66:\tlearn: 0.5170683\ttotal: 486ms\tremaining: 6.77s\n",
      "67:\tlearn: 0.5164682\ttotal: 489ms\tremaining: 6.7s\n",
      "68:\tlearn: 0.5157002\ttotal: 495ms\tremaining: 6.68s\n",
      "69:\tlearn: 0.5150998\ttotal: 505ms\tremaining: 6.7s\n",
      "70:\tlearn: 0.5145337\ttotal: 510ms\tremaining: 6.67s\n",
      "71:\tlearn: 0.5138683\ttotal: 513ms\tremaining: 6.62s\n",
      "72:\tlearn: 0.5133407\ttotal: 516ms\tremaining: 6.56s\n",
      "73:\tlearn: 0.5127996\ttotal: 519ms\tremaining: 6.5s\n",
      "74:\tlearn: 0.5120528\ttotal: 523ms\tremaining: 6.45s\n",
      "75:\tlearn: 0.5116608\ttotal: 525ms\tremaining: 6.38s\n",
      "76:\tlearn: 0.5110009\ttotal: 529ms\tremaining: 6.34s\n",
      "77:\tlearn: 0.5105195\ttotal: 532ms\tremaining: 6.29s\n",
      "78:\tlearn: 0.5100223\ttotal: 535ms\tremaining: 6.24s\n",
      "79:\tlearn: 0.5094726\ttotal: 538ms\tremaining: 6.19s\n",
      "80:\tlearn: 0.5089795\ttotal: 541ms\tremaining: 6.14s\n",
      "81:\tlearn: 0.5085501\ttotal: 543ms\tremaining: 6.08s\n",
      "82:\tlearn: 0.5081134\ttotal: 546ms\tremaining: 6.04s\n",
      "83:\tlearn: 0.5076548\ttotal: 549ms\tremaining: 5.99s\n",
      "84:\tlearn: 0.5072449\ttotal: 552ms\tremaining: 5.94s\n",
      "85:\tlearn: 0.5068029\ttotal: 555ms\tremaining: 5.9s\n",
      "86:\tlearn: 0.5062426\ttotal: 558ms\tremaining: 5.86s\n",
      "87:\tlearn: 0.5058042\ttotal: 561ms\tremaining: 5.82s\n",
      "88:\tlearn: 0.5053992\ttotal: 565ms\tremaining: 5.78s\n",
      "89:\tlearn: 0.5049217\ttotal: 568ms\tremaining: 5.74s\n",
      "90:\tlearn: 0.5045877\ttotal: 570ms\tremaining: 5.7s\n",
      "91:\tlearn: 0.5042663\ttotal: 573ms\tremaining: 5.66s\n",
      "92:\tlearn: 0.5039580\ttotal: 576ms\tremaining: 5.61s\n",
      "93:\tlearn: 0.5035568\ttotal: 579ms\tremaining: 5.58s\n",
      "94:\tlearn: 0.5031794\ttotal: 582ms\tremaining: 5.54s\n",
      "95:\tlearn: 0.5027309\ttotal: 585ms\tremaining: 5.51s\n",
      "96:\tlearn: 0.5024404\ttotal: 589ms\tremaining: 5.48s\n",
      "97:\tlearn: 0.5020642\ttotal: 593ms\tremaining: 5.45s\n",
      "98:\tlearn: 0.5017298\ttotal: 596ms\tremaining: 5.42s\n",
      "99:\tlearn: 0.5014577\ttotal: 599ms\tremaining: 5.39s\n",
      "100:\tlearn: 0.5011768\ttotal: 602ms\tremaining: 5.36s\n",
      "101:\tlearn: 0.5009057\ttotal: 606ms\tremaining: 5.33s\n",
      "102:\tlearn: 0.5004976\ttotal: 609ms\tremaining: 5.3s\n",
      "103:\tlearn: 0.5001765\ttotal: 612ms\tremaining: 5.28s\n",
      "104:\tlearn: 0.4999234\ttotal: 615ms\tremaining: 5.24s\n",
      "105:\tlearn: 0.4995950\ttotal: 619ms\tremaining: 5.22s\n",
      "106:\tlearn: 0.4992830\ttotal: 624ms\tremaining: 5.2s\n",
      "107:\tlearn: 0.4989910\ttotal: 626ms\tremaining: 5.17s\n",
      "108:\tlearn: 0.4987495\ttotal: 630ms\tremaining: 5.15s\n",
      "109:\tlearn: 0.4984908\ttotal: 633ms\tremaining: 5.12s\n",
      "110:\tlearn: 0.4982311\ttotal: 636ms\tremaining: 5.1s\n",
      "111:\tlearn: 0.4979877\ttotal: 640ms\tremaining: 5.07s\n",
      "112:\tlearn: 0.4977583\ttotal: 643ms\tremaining: 5.04s\n",
      "113:\tlearn: 0.4974372\ttotal: 646ms\tremaining: 5.02s\n",
      "114:\tlearn: 0.4973040\ttotal: 648ms\tremaining: 4.99s\n",
      "115:\tlearn: 0.4970638\ttotal: 651ms\tremaining: 4.96s\n",
      "116:\tlearn: 0.4967894\ttotal: 654ms\tremaining: 4.94s\n",
      "117:\tlearn: 0.4965985\ttotal: 657ms\tremaining: 4.91s\n",
      "118:\tlearn: 0.4963778\ttotal: 660ms\tremaining: 4.89s\n",
      "119:\tlearn: 0.4961239\ttotal: 663ms\tremaining: 4.86s\n",
      "120:\tlearn: 0.4959069\ttotal: 665ms\tremaining: 4.83s\n",
      "121:\tlearn: 0.4956991\ttotal: 669ms\tremaining: 4.81s\n",
      "122:\tlearn: 0.4954290\ttotal: 672ms\tremaining: 4.79s\n",
      "123:\tlearn: 0.4952583\ttotal: 675ms\tremaining: 4.77s\n",
      "124:\tlearn: 0.4950265\ttotal: 678ms\tremaining: 4.75s\n",
      "125:\tlearn: 0.4948852\ttotal: 681ms\tremaining: 4.72s\n",
      "126:\tlearn: 0.4946539\ttotal: 685ms\tremaining: 4.71s\n",
      "127:\tlearn: 0.4945020\ttotal: 688ms\tremaining: 4.69s\n",
      "128:\tlearn: 0.4943256\ttotal: 692ms\tremaining: 4.67s\n",
      "129:\tlearn: 0.4941789\ttotal: 695ms\tremaining: 4.65s\n",
      "130:\tlearn: 0.4939837\ttotal: 699ms\tremaining: 4.64s\n",
      "131:\tlearn: 0.4938006\ttotal: 702ms\tremaining: 4.62s\n",
      "132:\tlearn: 0.4937100\ttotal: 705ms\tremaining: 4.59s\n",
      "133:\tlearn: 0.4934957\ttotal: 708ms\tremaining: 4.58s\n",
      "134:\tlearn: 0.4933969\ttotal: 712ms\tremaining: 4.56s\n",
      "135:\tlearn: 0.4932453\ttotal: 715ms\tremaining: 4.54s\n",
      "136:\tlearn: 0.4930799\ttotal: 718ms\tremaining: 4.53s\n",
      "137:\tlearn: 0.4929162\ttotal: 721ms\tremaining: 4.51s\n",
      "138:\tlearn: 0.4927272\ttotal: 725ms\tremaining: 4.49s\n",
      "139:\tlearn: 0.4926474\ttotal: 728ms\tremaining: 4.47s\n",
      "140:\tlearn: 0.4925109\ttotal: 732ms\tremaining: 4.46s\n",
      "141:\tlearn: 0.4923325\ttotal: 736ms\tremaining: 4.44s\n",
      "142:\tlearn: 0.4922149\ttotal: 740ms\tremaining: 4.43s\n",
      "143:\tlearn: 0.4921386\ttotal: 742ms\tremaining: 4.41s\n",
      "144:\tlearn: 0.4919598\ttotal: 746ms\tremaining: 4.4s\n",
      "145:\tlearn: 0.4918441\ttotal: 750ms\tremaining: 4.39s\n",
      "146:\tlearn: 0.4917180\ttotal: 754ms\tremaining: 4.37s\n",
      "147:\tlearn: 0.4916083\ttotal: 757ms\tremaining: 4.36s\n",
      "148:\tlearn: 0.4914021\ttotal: 761ms\tremaining: 4.35s\n",
      "149:\tlearn: 0.4912829\ttotal: 764ms\tremaining: 4.33s\n",
      "150:\tlearn: 0.4911260\ttotal: 767ms\tremaining: 4.31s\n",
      "151:\tlearn: 0.4910171\ttotal: 771ms\tremaining: 4.3s\n",
      "152:\tlearn: 0.4909199\ttotal: 774ms\tremaining: 4.28s\n",
      "153:\tlearn: 0.4908100\ttotal: 777ms\tremaining: 4.27s\n",
      "154:\tlearn: 0.4907139\ttotal: 780ms\tremaining: 4.25s\n",
      "155:\tlearn: 0.4905774\ttotal: 783ms\tremaining: 4.23s\n",
      "156:\tlearn: 0.4904756\ttotal: 785ms\tremaining: 4.22s\n",
      "157:\tlearn: 0.4903576\ttotal: 789ms\tremaining: 4.21s\n",
      "158:\tlearn: 0.4902235\ttotal: 793ms\tremaining: 4.19s\n",
      "159:\tlearn: 0.4900668\ttotal: 796ms\tremaining: 4.18s\n",
      "160:\tlearn: 0.4899711\ttotal: 799ms\tremaining: 4.17s\n",
      "161:\tlearn: 0.4898840\ttotal: 804ms\tremaining: 4.16s\n",
      "162:\tlearn: 0.4897578\ttotal: 807ms\tremaining: 4.14s\n",
      "163:\tlearn: 0.4896865\ttotal: 810ms\tremaining: 4.13s\n",
      "164:\tlearn: 0.4895661\ttotal: 814ms\tremaining: 4.12s\n",
      "165:\tlearn: 0.4894680\ttotal: 817ms\tremaining: 4.1s\n",
      "166:\tlearn: 0.4893870\ttotal: 820ms\tremaining: 4.09s\n",
      "167:\tlearn: 0.4892926\ttotal: 824ms\tremaining: 4.08s\n",
      "168:\tlearn: 0.4891991\ttotal: 827ms\tremaining: 4.07s\n",
      "169:\tlearn: 0.4891375\ttotal: 830ms\tremaining: 4.05s\n",
      "170:\tlearn: 0.4890001\ttotal: 834ms\tremaining: 4.04s\n",
      "171:\tlearn: 0.4889071\ttotal: 838ms\tremaining: 4.04s\n",
      "172:\tlearn: 0.4888323\ttotal: 842ms\tremaining: 4.03s\n",
      "173:\tlearn: 0.4887685\ttotal: 846ms\tremaining: 4.01s\n",
      "174:\tlearn: 0.4886725\ttotal: 849ms\tremaining: 4s\n",
      "175:\tlearn: 0.4886039\ttotal: 852ms\tremaining: 3.99s\n",
      "176:\tlearn: 0.4885230\ttotal: 854ms\tremaining: 3.97s\n",
      "177:\tlearn: 0.4884425\ttotal: 858ms\tremaining: 3.96s\n",
      "178:\tlearn: 0.4883623\ttotal: 862ms\tremaining: 3.95s\n"
     ]
    },
    {
     "name": "stdout",
     "output_type": "stream",
     "text": [
      "179:\tlearn: 0.4882906\ttotal: 866ms\tremaining: 3.94s\n",
      "180:\tlearn: 0.4881631\ttotal: 870ms\tremaining: 3.94s\n",
      "181:\tlearn: 0.4880877\ttotal: 873ms\tremaining: 3.92s\n",
      "182:\tlearn: 0.4880226\ttotal: 876ms\tremaining: 3.91s\n",
      "183:\tlearn: 0.4879385\ttotal: 880ms\tremaining: 3.9s\n",
      "184:\tlearn: 0.4878663\ttotal: 884ms\tremaining: 3.89s\n",
      "185:\tlearn: 0.4878158\ttotal: 887ms\tremaining: 3.88s\n",
      "186:\tlearn: 0.4877572\ttotal: 891ms\tremaining: 3.87s\n",
      "187:\tlearn: 0.4876554\ttotal: 894ms\tremaining: 3.86s\n",
      "188:\tlearn: 0.4876347\ttotal: 897ms\tremaining: 3.85s\n",
      "189:\tlearn: 0.4875556\ttotal: 901ms\tremaining: 3.84s\n",
      "190:\tlearn: 0.4874806\ttotal: 903ms\tremaining: 3.83s\n",
      "191:\tlearn: 0.4873732\ttotal: 906ms\tremaining: 3.81s\n",
      "192:\tlearn: 0.4873170\ttotal: 909ms\tremaining: 3.8s\n",
      "193:\tlearn: 0.4872816\ttotal: 912ms\tremaining: 3.79s\n",
      "194:\tlearn: 0.4872226\ttotal: 915ms\tremaining: 3.78s\n",
      "195:\tlearn: 0.4871329\ttotal: 918ms\tremaining: 3.77s\n",
      "196:\tlearn: 0.4870988\ttotal: 922ms\tremaining: 3.76s\n",
      "197:\tlearn: 0.4870465\ttotal: 926ms\tremaining: 3.75s\n",
      "198:\tlearn: 0.4869702\ttotal: 930ms\tremaining: 3.74s\n",
      "199:\tlearn: 0.4869247\ttotal: 933ms\tremaining: 3.73s\n",
      "200:\tlearn: 0.4868074\ttotal: 936ms\tremaining: 3.72s\n",
      "201:\tlearn: 0.4867724\ttotal: 938ms\tremaining: 3.71s\n",
      "202:\tlearn: 0.4867548\ttotal: 941ms\tremaining: 3.69s\n",
      "203:\tlearn: 0.4867189\ttotal: 943ms\tremaining: 3.68s\n",
      "204:\tlearn: 0.4866769\ttotal: 946ms\tremaining: 3.67s\n",
      "205:\tlearn: 0.4866131\ttotal: 949ms\tremaining: 3.66s\n",
      "206:\tlearn: 0.4865879\ttotal: 951ms\tremaining: 3.64s\n",
      "207:\tlearn: 0.4865407\ttotal: 955ms\tremaining: 3.63s\n",
      "208:\tlearn: 0.4864976\ttotal: 958ms\tremaining: 3.62s\n",
      "209:\tlearn: 0.4864834\ttotal: 960ms\tremaining: 3.61s\n",
      "210:\tlearn: 0.4864310\ttotal: 964ms\tremaining: 3.6s\n",
      "211:\tlearn: 0.4864070\ttotal: 967ms\tremaining: 3.59s\n",
      "212:\tlearn: 0.4863617\ttotal: 970ms\tremaining: 3.58s\n",
      "213:\tlearn: 0.4863168\ttotal: 973ms\tremaining: 3.58s\n",
      "214:\tlearn: 0.4862989\ttotal: 976ms\tremaining: 3.56s\n",
      "215:\tlearn: 0.4862709\ttotal: 979ms\tremaining: 3.55s\n",
      "216:\tlearn: 0.4862185\ttotal: 981ms\tremaining: 3.54s\n",
      "217:\tlearn: 0.4861357\ttotal: 984ms\tremaining: 3.53s\n",
      "218:\tlearn: 0.4861078\ttotal: 987ms\tremaining: 3.52s\n",
      "219:\tlearn: 0.4860702\ttotal: 990ms\tremaining: 3.51s\n",
      "220:\tlearn: 0.4860135\ttotal: 992ms\tremaining: 3.5s\n",
      "221:\tlearn: 0.4859642\ttotal: 995ms\tremaining: 3.49s\n",
      "222:\tlearn: 0.4859381\ttotal: 998ms\tremaining: 3.48s\n",
      "223:\tlearn: 0.4858823\ttotal: 1s\tremaining: 3.47s\n",
      "224:\tlearn: 0.4858463\ttotal: 1s\tremaining: 3.46s\n",
      "225:\tlearn: 0.4858243\ttotal: 1.01s\tremaining: 3.45s\n",
      "226:\tlearn: 0.4857970\ttotal: 1.01s\tremaining: 3.44s\n",
      "227:\tlearn: 0.4857514\ttotal: 1.01s\tremaining: 3.43s\n",
      "228:\tlearn: 0.4857280\ttotal: 1.02s\tremaining: 3.42s\n",
      "229:\tlearn: 0.4856940\ttotal: 1.02s\tremaining: 3.41s\n",
      "230:\tlearn: 0.4856739\ttotal: 1.02s\tremaining: 3.4s\n",
      "231:\tlearn: 0.4856459\ttotal: 1.02s\tremaining: 3.39s\n",
      "232:\tlearn: 0.4856223\ttotal: 1.03s\tremaining: 3.38s\n",
      "233:\tlearn: 0.4855737\ttotal: 1.03s\tremaining: 3.37s\n",
      "234:\tlearn: 0.4855685\ttotal: 1.03s\tremaining: 3.36s\n",
      "235:\tlearn: 0.4855439\ttotal: 1.04s\tremaining: 3.35s\n",
      "236:\tlearn: 0.4855105\ttotal: 1.04s\tremaining: 3.35s\n",
      "237:\tlearn: 0.4854607\ttotal: 1.04s\tremaining: 3.34s\n",
      "238:\tlearn: 0.4854429\ttotal: 1.04s\tremaining: 3.33s\n",
      "239:\tlearn: 0.4854304\ttotal: 1.05s\tremaining: 3.32s\n",
      "240:\tlearn: 0.4853856\ttotal: 1.05s\tremaining: 3.31s\n",
      "241:\tlearn: 0.4853657\ttotal: 1.05s\tremaining: 3.3s\n",
      "242:\tlearn: 0.4853491\ttotal: 1.06s\tremaining: 3.29s\n",
      "243:\tlearn: 0.4853163\ttotal: 1.06s\tremaining: 3.28s\n",
      "244:\tlearn: 0.4853007\ttotal: 1.06s\tremaining: 3.27s\n",
      "245:\tlearn: 0.4852472\ttotal: 1.06s\tremaining: 3.27s\n",
      "246:\tlearn: 0.4852290\ttotal: 1.07s\tremaining: 3.25s\n",
      "247:\tlearn: 0.4851902\ttotal: 1.07s\tremaining: 3.25s\n",
      "248:\tlearn: 0.4851778\ttotal: 1.07s\tremaining: 3.24s\n",
      "249:\tlearn: 0.4851657\ttotal: 1.08s\tremaining: 3.23s\n",
      "250:\tlearn: 0.4851146\ttotal: 1.08s\tremaining: 3.22s\n",
      "251:\tlearn: 0.4850946\ttotal: 1.08s\tremaining: 3.21s\n",
      "252:\tlearn: 0.4850545\ttotal: 1.09s\tremaining: 3.21s\n",
      "253:\tlearn: 0.4850293\ttotal: 1.09s\tremaining: 3.2s\n",
      "254:\tlearn: 0.4849993\ttotal: 1.09s\tremaining: 3.19s\n",
      "255:\tlearn: 0.4849702\ttotal: 1.09s\tremaining: 3.18s\n",
      "256:\tlearn: 0.4848978\ttotal: 1.1s\tremaining: 3.17s\n",
      "257:\tlearn: 0.4848770\ttotal: 1.1s\tremaining: 3.17s\n",
      "258:\tlearn: 0.4848500\ttotal: 1.1s\tremaining: 3.16s\n",
      "259:\tlearn: 0.4848317\ttotal: 1.11s\tremaining: 3.16s\n",
      "260:\tlearn: 0.4848227\ttotal: 1.11s\tremaining: 3.15s\n",
      "261:\tlearn: 0.4848007\ttotal: 1.11s\tremaining: 3.14s\n",
      "262:\tlearn: 0.4847661\ttotal: 1.12s\tremaining: 3.13s\n",
      "263:\tlearn: 0.4847634\ttotal: 1.12s\tremaining: 3.12s\n",
      "264:\tlearn: 0.4847422\ttotal: 1.12s\tremaining: 3.11s\n",
      "265:\tlearn: 0.4846655\ttotal: 1.13s\tremaining: 3.1s\n",
      "266:\tlearn: 0.4846406\ttotal: 1.13s\tremaining: 3.1s\n",
      "267:\tlearn: 0.4846070\ttotal: 1.13s\tremaining: 3.09s\n",
      "268:\tlearn: 0.4845908\ttotal: 1.13s\tremaining: 3.08s\n",
      "269:\tlearn: 0.4845891\ttotal: 1.14s\tremaining: 3.07s\n",
      "270:\tlearn: 0.4845795\ttotal: 1.14s\tremaining: 3.06s\n",
      "271:\tlearn: 0.4845788\ttotal: 1.14s\tremaining: 3.05s\n",
      "272:\tlearn: 0.4845739\ttotal: 1.14s\tremaining: 3.04s\n",
      "273:\tlearn: 0.4845473\ttotal: 1.15s\tremaining: 3.04s\n",
      "274:\tlearn: 0.4845378\ttotal: 1.15s\tremaining: 3.03s\n",
      "275:\tlearn: 0.4845232\ttotal: 1.15s\tremaining: 3.02s\n",
      "276:\tlearn: 0.4845072\ttotal: 1.15s\tremaining: 3.01s\n",
      "277:\tlearn: 0.4844870\ttotal: 1.16s\tremaining: 3.01s\n",
      "278:\tlearn: 0.4844723\ttotal: 1.16s\tremaining: 3s\n",
      "279:\tlearn: 0.4844591\ttotal: 1.16s\tremaining: 2.99s\n",
      "280:\tlearn: 0.4844262\ttotal: 1.17s\tremaining: 2.98s\n",
      "281:\tlearn: 0.4844063\ttotal: 1.17s\tremaining: 2.98s\n",
      "282:\tlearn: 0.4843810\ttotal: 1.17s\tremaining: 2.97s\n",
      "283:\tlearn: 0.4843505\ttotal: 1.18s\tremaining: 2.96s\n",
      "284:\tlearn: 0.4843259\ttotal: 1.18s\tremaining: 2.96s\n",
      "285:\tlearn: 0.4843124\ttotal: 1.18s\tremaining: 2.95s\n",
      "286:\tlearn: 0.4842989\ttotal: 1.18s\tremaining: 2.94s\n",
      "287:\tlearn: 0.4842424\ttotal: 1.19s\tremaining: 2.93s\n",
      "288:\tlearn: 0.4842247\ttotal: 1.19s\tremaining: 2.93s\n",
      "289:\tlearn: 0.4842001\ttotal: 1.19s\tremaining: 2.92s\n",
      "290:\tlearn: 0.4841789\ttotal: 1.2s\tremaining: 2.92s\n",
      "291:\tlearn: 0.4841691\ttotal: 1.2s\tremaining: 2.91s\n",
      "292:\tlearn: 0.4841592\ttotal: 1.2s\tremaining: 2.9s\n",
      "293:\tlearn: 0.4841382\ttotal: 1.21s\tremaining: 2.9s\n",
      "294:\tlearn: 0.4840816\ttotal: 1.21s\tremaining: 2.89s\n",
      "295:\tlearn: 0.4840603\ttotal: 1.21s\tremaining: 2.89s\n",
      "296:\tlearn: 0.4840243\ttotal: 1.22s\tremaining: 2.88s\n",
      "297:\tlearn: 0.4839991\ttotal: 1.22s\tremaining: 2.88s\n",
      "298:\tlearn: 0.4839495\ttotal: 1.23s\tremaining: 2.87s\n",
      "299:\tlearn: 0.4839347\ttotal: 1.23s\tremaining: 2.87s\n",
      "300:\tlearn: 0.4839086\ttotal: 1.23s\tremaining: 2.86s\n",
      "301:\tlearn: 0.4838963\ttotal: 1.23s\tremaining: 2.85s\n",
      "302:\tlearn: 0.4838697\ttotal: 1.24s\tremaining: 2.84s\n",
      "303:\tlearn: 0.4838476\ttotal: 1.24s\tremaining: 2.84s\n",
      "304:\tlearn: 0.4838363\ttotal: 1.24s\tremaining: 2.83s\n",
      "305:\tlearn: 0.4837858\ttotal: 1.25s\tremaining: 2.83s\n",
      "306:\tlearn: 0.4837729\ttotal: 1.25s\tremaining: 2.82s\n",
      "307:\tlearn: 0.4837681\ttotal: 1.25s\tremaining: 2.81s\n",
      "308:\tlearn: 0.4837627\ttotal: 1.25s\tremaining: 2.81s\n",
      "309:\tlearn: 0.4837546\ttotal: 1.26s\tremaining: 2.8s\n",
      "310:\tlearn: 0.4837305\ttotal: 1.26s\tremaining: 2.79s\n",
      "311:\tlearn: 0.4836825\ttotal: 1.26s\tremaining: 2.79s\n",
      "312:\tlearn: 0.4836696\ttotal: 1.27s\tremaining: 2.78s\n",
      "313:\tlearn: 0.4836469\ttotal: 1.27s\tremaining: 2.77s\n",
      "314:\tlearn: 0.4836372\ttotal: 1.27s\tremaining: 2.77s\n",
      "315:\tlearn: 0.4836310\ttotal: 1.28s\tremaining: 2.77s\n",
      "316:\tlearn: 0.4836227\ttotal: 1.28s\tremaining: 2.76s\n",
      "317:\tlearn: 0.4836143\ttotal: 1.28s\tremaining: 2.75s\n",
      "318:\tlearn: 0.4835684\ttotal: 1.29s\tremaining: 2.75s\n",
      "319:\tlearn: 0.4835475\ttotal: 1.29s\tremaining: 2.74s\n",
      "320:\tlearn: 0.4835302\ttotal: 1.29s\tremaining: 2.74s\n",
      "321:\tlearn: 0.4834788\ttotal: 1.3s\tremaining: 2.73s\n",
      "322:\tlearn: 0.4834678\ttotal: 1.3s\tremaining: 2.73s\n",
      "323:\tlearn: 0.4834666\ttotal: 1.3s\tremaining: 2.72s\n",
      "324:\tlearn: 0.4834554\ttotal: 1.31s\tremaining: 2.71s\n",
      "325:\tlearn: 0.4834284\ttotal: 1.31s\tremaining: 2.71s\n",
      "326:\tlearn: 0.4834274\ttotal: 1.31s\tremaining: 2.7s\n",
      "327:\tlearn: 0.4834017\ttotal: 1.32s\tremaining: 2.7s\n",
      "328:\tlearn: 0.4833866\ttotal: 1.32s\tremaining: 2.69s\n",
      "329:\tlearn: 0.4833750\ttotal: 1.32s\tremaining: 2.69s\n",
      "330:\tlearn: 0.4833623\ttotal: 1.33s\tremaining: 2.68s\n",
      "331:\tlearn: 0.4833551\ttotal: 1.33s\tremaining: 2.68s\n",
      "332:\tlearn: 0.4833480\ttotal: 1.34s\tremaining: 2.68s\n",
      "333:\tlearn: 0.4833439\ttotal: 1.34s\tremaining: 2.67s\n",
      "334:\tlearn: 0.4833324\ttotal: 1.34s\tremaining: 2.67s\n",
      "335:\tlearn: 0.4833266\ttotal: 1.35s\tremaining: 2.66s\n",
      "336:\tlearn: 0.4833141\ttotal: 1.35s\tremaining: 2.66s\n",
      "337:\tlearn: 0.4833094\ttotal: 1.35s\tremaining: 2.65s\n",
      "338:\tlearn: 0.4832975\ttotal: 1.36s\tremaining: 2.64s\n",
      "339:\tlearn: 0.4832879\ttotal: 1.36s\tremaining: 2.64s\n",
      "340:\tlearn: 0.4832680\ttotal: 1.36s\tremaining: 2.63s\n",
      "341:\tlearn: 0.4832636\ttotal: 1.36s\tremaining: 2.62s\n",
      "342:\tlearn: 0.4832261\ttotal: 1.37s\tremaining: 2.62s\n",
      "343:\tlearn: 0.4832174\ttotal: 1.37s\tremaining: 2.61s\n",
      "344:\tlearn: 0.4832089\ttotal: 1.37s\tremaining: 2.6s\n",
      "345:\tlearn: 0.4831975\ttotal: 1.38s\tremaining: 2.6s\n",
      "346:\tlearn: 0.4831952\ttotal: 1.38s\tremaining: 2.59s\n",
      "347:\tlearn: 0.4831928\ttotal: 1.38s\tremaining: 2.58s\n",
      "348:\tlearn: 0.4831792\ttotal: 1.38s\tremaining: 2.58s\n",
      "349:\tlearn: 0.4831695\ttotal: 1.39s\tremaining: 2.58s\n"
     ]
    },
    {
     "name": "stdout",
     "output_type": "stream",
     "text": [
      "350:\tlearn: 0.4831687\ttotal: 1.39s\tremaining: 2.57s\n",
      "351:\tlearn: 0.4831667\ttotal: 1.39s\tremaining: 2.56s\n",
      "352:\tlearn: 0.4831611\ttotal: 1.39s\tremaining: 2.55s\n",
      "353:\tlearn: 0.4831547\ttotal: 1.4s\tremaining: 2.55s\n",
      "354:\tlearn: 0.4831360\ttotal: 1.4s\tremaining: 2.54s\n",
      "355:\tlearn: 0.4830964\ttotal: 1.4s\tremaining: 2.54s\n",
      "356:\tlearn: 0.4830915\ttotal: 1.41s\tremaining: 2.53s\n",
      "357:\tlearn: 0.4830855\ttotal: 1.41s\tremaining: 2.53s\n",
      "358:\tlearn: 0.4830619\ttotal: 1.41s\tremaining: 2.52s\n",
      "359:\tlearn: 0.4830540\ttotal: 1.41s\tremaining: 2.52s\n",
      "360:\tlearn: 0.4830484\ttotal: 1.42s\tremaining: 2.51s\n",
      "361:\tlearn: 0.4830464\ttotal: 1.42s\tremaining: 2.5s\n",
      "362:\tlearn: 0.4830289\ttotal: 1.42s\tremaining: 2.5s\n",
      "363:\tlearn: 0.4830067\ttotal: 1.43s\tremaining: 2.49s\n",
      "364:\tlearn: 0.4829809\ttotal: 1.43s\tremaining: 2.48s\n",
      "365:\tlearn: 0.4829782\ttotal: 1.43s\tremaining: 2.48s\n",
      "366:\tlearn: 0.4829742\ttotal: 1.43s\tremaining: 2.47s\n",
      "367:\tlearn: 0.4829663\ttotal: 1.44s\tremaining: 2.47s\n",
      "368:\tlearn: 0.4829528\ttotal: 1.44s\tremaining: 2.46s\n",
      "369:\tlearn: 0.4829395\ttotal: 1.44s\tremaining: 2.46s\n",
      "370:\tlearn: 0.4829316\ttotal: 1.45s\tremaining: 2.45s\n",
      "371:\tlearn: 0.4829217\ttotal: 1.45s\tremaining: 2.45s\n",
      "372:\tlearn: 0.4829165\ttotal: 1.45s\tremaining: 2.44s\n",
      "373:\tlearn: 0.4828972\ttotal: 1.46s\tremaining: 2.44s\n",
      "374:\tlearn: 0.4828767\ttotal: 1.46s\tremaining: 2.43s\n",
      "375:\tlearn: 0.4828758\ttotal: 1.46s\tremaining: 2.42s\n",
      "376:\tlearn: 0.4828743\ttotal: 1.46s\tremaining: 2.42s\n",
      "377:\tlearn: 0.4828694\ttotal: 1.47s\tremaining: 2.41s\n",
      "378:\tlearn: 0.4828586\ttotal: 1.47s\tremaining: 2.41s\n",
      "379:\tlearn: 0.4828554\ttotal: 1.47s\tremaining: 2.4s\n",
      "380:\tlearn: 0.4828449\ttotal: 1.48s\tremaining: 2.4s\n",
      "381:\tlearn: 0.4828440\ttotal: 1.48s\tremaining: 2.4s\n",
      "382:\tlearn: 0.4828423\ttotal: 1.49s\tremaining: 2.39s\n",
      "383:\tlearn: 0.4828385\ttotal: 1.49s\tremaining: 2.4s\n",
      "384:\tlearn: 0.4828056\ttotal: 1.5s\tremaining: 2.39s\n",
      "385:\tlearn: 0.4828039\ttotal: 1.5s\tremaining: 2.38s\n",
      "386:\tlearn: 0.4827965\ttotal: 1.5s\tremaining: 2.38s\n",
      "387:\tlearn: 0.4827924\ttotal: 1.51s\tremaining: 2.38s\n",
      "388:\tlearn: 0.4827856\ttotal: 1.51s\tremaining: 2.37s\n",
      "389:\tlearn: 0.4827828\ttotal: 1.51s\tremaining: 2.37s\n",
      "390:\tlearn: 0.4827816\ttotal: 1.51s\tremaining: 2.36s\n",
      "391:\tlearn: 0.4827612\ttotal: 1.52s\tremaining: 2.35s\n",
      "392:\tlearn: 0.4827571\ttotal: 1.52s\tremaining: 2.35s\n",
      "393:\tlearn: 0.4827509\ttotal: 1.52s\tremaining: 2.35s\n",
      "394:\tlearn: 0.4827445\ttotal: 1.53s\tremaining: 2.34s\n",
      "395:\tlearn: 0.4827434\ttotal: 1.53s\tremaining: 2.33s\n",
      "396:\tlearn: 0.4827238\ttotal: 1.53s\tremaining: 2.33s\n",
      "397:\tlearn: 0.4827176\ttotal: 1.54s\tremaining: 2.32s\n",
      "398:\tlearn: 0.4827098\ttotal: 1.54s\tremaining: 2.32s\n",
      "399:\tlearn: 0.4827017\ttotal: 1.54s\tremaining: 2.31s\n",
      "400:\tlearn: 0.4826829\ttotal: 1.54s\tremaining: 2.31s\n",
      "401:\tlearn: 0.4826805\ttotal: 1.55s\tremaining: 2.3s\n",
      "402:\tlearn: 0.4826755\ttotal: 1.55s\tremaining: 2.3s\n",
      "403:\tlearn: 0.4826733\ttotal: 1.55s\tremaining: 2.29s\n",
      "404:\tlearn: 0.4826670\ttotal: 1.56s\tremaining: 2.29s\n",
      "405:\tlearn: 0.4826607\ttotal: 1.56s\tremaining: 2.28s\n",
      "406:\tlearn: 0.4826597\ttotal: 1.56s\tremaining: 2.28s\n",
      "407:\tlearn: 0.4826594\ttotal: 1.56s\tremaining: 2.27s\n",
      "408:\tlearn: 0.4826424\ttotal: 1.57s\tremaining: 2.26s\n",
      "409:\tlearn: 0.4826327\ttotal: 1.57s\tremaining: 2.26s\n",
      "410:\tlearn: 0.4826302\ttotal: 1.57s\tremaining: 2.25s\n",
      "411:\tlearn: 0.4826278\ttotal: 1.58s\tremaining: 2.25s\n",
      "412:\tlearn: 0.4826096\ttotal: 1.58s\tremaining: 2.24s\n",
      "413:\tlearn: 0.4826036\ttotal: 1.58s\tremaining: 2.24s\n",
      "414:\tlearn: 0.4826027\ttotal: 1.58s\tremaining: 2.23s\n",
      "415:\tlearn: 0.4825706\ttotal: 1.59s\tremaining: 2.23s\n",
      "416:\tlearn: 0.4825662\ttotal: 1.59s\tremaining: 2.22s\n",
      "417:\tlearn: 0.4825625\ttotal: 1.59s\tremaining: 2.22s\n",
      "418:\tlearn: 0.4825596\ttotal: 1.6s\tremaining: 2.21s\n",
      "419:\tlearn: 0.4825520\ttotal: 1.6s\tremaining: 2.21s\n",
      "420:\tlearn: 0.4825210\ttotal: 1.6s\tremaining: 2.21s\n",
      "421:\tlearn: 0.4825176\ttotal: 1.61s\tremaining: 2.2s\n",
      "422:\tlearn: 0.4824957\ttotal: 1.61s\tremaining: 2.2s\n",
      "423:\tlearn: 0.4824789\ttotal: 1.61s\tremaining: 2.19s\n",
      "424:\tlearn: 0.4824768\ttotal: 1.62s\tremaining: 2.19s\n",
      "425:\tlearn: 0.4824749\ttotal: 1.62s\tremaining: 2.18s\n",
      "426:\tlearn: 0.4824661\ttotal: 1.62s\tremaining: 2.18s\n",
      "427:\tlearn: 0.4824341\ttotal: 1.63s\tremaining: 2.17s\n",
      "428:\tlearn: 0.4824347\ttotal: 1.63s\tremaining: 2.17s\n",
      "429:\tlearn: 0.4824337\ttotal: 1.63s\tremaining: 2.16s\n",
      "430:\tlearn: 0.4824290\ttotal: 1.64s\tremaining: 2.16s\n",
      "431:\tlearn: 0.4824181\ttotal: 1.64s\tremaining: 2.15s\n",
      "432:\tlearn: 0.4824105\ttotal: 1.64s\tremaining: 2.15s\n",
      "433:\tlearn: 0.4824065\ttotal: 1.65s\tremaining: 2.15s\n",
      "434:\tlearn: 0.4824037\ttotal: 1.65s\tremaining: 2.14s\n",
      "435:\tlearn: 0.4823765\ttotal: 1.65s\tremaining: 2.14s\n",
      "436:\tlearn: 0.4823733\ttotal: 1.66s\tremaining: 2.13s\n",
      "437:\tlearn: 0.4823446\ttotal: 1.66s\tremaining: 2.13s\n",
      "438:\tlearn: 0.4823412\ttotal: 1.66s\tremaining: 2.12s\n",
      "439:\tlearn: 0.4823388\ttotal: 1.67s\tremaining: 2.12s\n",
      "440:\tlearn: 0.4823291\ttotal: 1.67s\tremaining: 2.12s\n",
      "441:\tlearn: 0.4823027\ttotal: 1.67s\tremaining: 2.11s\n",
      "442:\tlearn: 0.4822938\ttotal: 1.68s\tremaining: 2.11s\n",
      "443:\tlearn: 0.4822714\ttotal: 1.68s\tremaining: 2.1s\n",
      "444:\tlearn: 0.4822454\ttotal: 1.68s\tremaining: 2.1s\n",
      "445:\tlearn: 0.4822371\ttotal: 1.69s\tremaining: 2.1s\n",
      "446:\tlearn: 0.4822328\ttotal: 1.69s\tremaining: 2.09s\n",
      "447:\tlearn: 0.4822311\ttotal: 1.69s\tremaining: 2.09s\n",
      "448:\tlearn: 0.4822270\ttotal: 1.7s\tremaining: 2.08s\n",
      "449:\tlearn: 0.4822046\ttotal: 1.7s\tremaining: 2.08s\n",
      "450:\tlearn: 0.4822020\ttotal: 1.7s\tremaining: 2.07s\n",
      "451:\tlearn: 0.4821961\ttotal: 1.71s\tremaining: 2.07s\n",
      "452:\tlearn: 0.4821923\ttotal: 1.71s\tremaining: 2.06s\n",
      "453:\tlearn: 0.4821901\ttotal: 1.71s\tremaining: 2.06s\n",
      "454:\tlearn: 0.4821824\ttotal: 1.71s\tremaining: 2.05s\n",
      "455:\tlearn: 0.4821756\ttotal: 1.72s\tremaining: 2.05s\n",
      "456:\tlearn: 0.4821564\ttotal: 1.72s\tremaining: 2.04s\n",
      "457:\tlearn: 0.4821544\ttotal: 1.72s\tremaining: 2.04s\n",
      "458:\tlearn: 0.4821505\ttotal: 1.73s\tremaining: 2.04s\n",
      "459:\tlearn: 0.4821452\ttotal: 1.73s\tremaining: 2.03s\n",
      "460:\tlearn: 0.4821235\ttotal: 1.73s\tremaining: 2.02s\n",
      "461:\tlearn: 0.4821225\ttotal: 1.73s\tremaining: 2.02s\n",
      "462:\tlearn: 0.4821229\ttotal: 1.74s\tremaining: 2.01s\n",
      "463:\tlearn: 0.4821203\ttotal: 1.74s\tremaining: 2.01s\n",
      "464:\tlearn: 0.4821130\ttotal: 1.74s\tremaining: 2s\n",
      "465:\tlearn: 0.4821140\ttotal: 1.74s\tremaining: 2s\n",
      "466:\tlearn: 0.4821060\ttotal: 1.75s\tremaining: 1.99s\n",
      "467:\tlearn: 0.4821020\ttotal: 1.75s\tremaining: 1.99s\n",
      "468:\tlearn: 0.4820947\ttotal: 1.75s\tremaining: 1.99s\n",
      "469:\tlearn: 0.4820807\ttotal: 1.76s\tremaining: 1.98s\n",
      "470:\tlearn: 0.4820807\ttotal: 1.76s\tremaining: 1.98s\n",
      "471:\tlearn: 0.4820663\ttotal: 1.76s\tremaining: 1.97s\n",
      "472:\tlearn: 0.4820606\ttotal: 1.77s\tremaining: 1.97s\n",
      "473:\tlearn: 0.4820463\ttotal: 1.77s\tremaining: 1.96s\n",
      "474:\tlearn: 0.4820440\ttotal: 1.77s\tremaining: 1.96s\n",
      "475:\tlearn: 0.4820238\ttotal: 1.77s\tremaining: 1.95s\n",
      "476:\tlearn: 0.4820044\ttotal: 1.78s\tremaining: 1.95s\n",
      "477:\tlearn: 0.4820016\ttotal: 1.78s\tremaining: 1.95s\n",
      "478:\tlearn: 0.4819830\ttotal: 1.78s\tremaining: 1.94s\n",
      "479:\tlearn: 0.4819798\ttotal: 1.79s\tremaining: 1.94s\n",
      "480:\tlearn: 0.4819791\ttotal: 1.79s\tremaining: 1.93s\n",
      "481:\tlearn: 0.4819781\ttotal: 1.79s\tremaining: 1.93s\n",
      "482:\tlearn: 0.4819748\ttotal: 1.8s\tremaining: 1.92s\n",
      "483:\tlearn: 0.4819717\ttotal: 1.8s\tremaining: 1.92s\n",
      "484:\tlearn: 0.4819710\ttotal: 1.8s\tremaining: 1.92s\n",
      "485:\tlearn: 0.4819677\ttotal: 1.81s\tremaining: 1.91s\n",
      "486:\tlearn: 0.4819666\ttotal: 1.81s\tremaining: 1.91s\n",
      "487:\tlearn: 0.4819480\ttotal: 1.81s\tremaining: 1.9s\n",
      "488:\tlearn: 0.4819482\ttotal: 1.81s\tremaining: 1.9s\n",
      "489:\tlearn: 0.4819337\ttotal: 1.82s\tremaining: 1.89s\n",
      "490:\tlearn: 0.4819278\ttotal: 1.82s\tremaining: 1.89s\n",
      "491:\tlearn: 0.4819220\ttotal: 1.82s\tremaining: 1.88s\n",
      "492:\tlearn: 0.4819040\ttotal: 1.83s\tremaining: 1.88s\n",
      "493:\tlearn: 0.4819017\ttotal: 1.83s\tremaining: 1.88s\n",
      "494:\tlearn: 0.4818981\ttotal: 1.83s\tremaining: 1.87s\n",
      "495:\tlearn: 0.4818886\ttotal: 1.84s\tremaining: 1.87s\n",
      "496:\tlearn: 0.4818847\ttotal: 1.84s\tremaining: 1.86s\n",
      "497:\tlearn: 0.4818682\ttotal: 1.84s\tremaining: 1.86s\n",
      "498:\tlearn: 0.4818637\ttotal: 1.85s\tremaining: 1.85s\n",
      "499:\tlearn: 0.4818510\ttotal: 1.85s\tremaining: 1.85s\n",
      "500:\tlearn: 0.4818495\ttotal: 1.85s\tremaining: 1.85s\n",
      "501:\tlearn: 0.4818482\ttotal: 1.86s\tremaining: 1.84s\n",
      "502:\tlearn: 0.4818450\ttotal: 1.86s\tremaining: 1.84s\n",
      "503:\tlearn: 0.4818355\ttotal: 1.86s\tremaining: 1.83s\n",
      "504:\tlearn: 0.4818309\ttotal: 1.86s\tremaining: 1.83s\n",
      "505:\tlearn: 0.4818283\ttotal: 1.87s\tremaining: 1.82s\n",
      "506:\tlearn: 0.4818237\ttotal: 1.87s\tremaining: 1.82s\n",
      "507:\tlearn: 0.4818059\ttotal: 1.87s\tremaining: 1.81s\n",
      "508:\tlearn: 0.4818039\ttotal: 1.88s\tremaining: 1.81s\n",
      "509:\tlearn: 0.4818011\ttotal: 1.88s\tremaining: 1.8s\n",
      "510:\tlearn: 0.4817983\ttotal: 1.88s\tremaining: 1.8s\n",
      "511:\tlearn: 0.4817943\ttotal: 1.88s\tremaining: 1.8s\n",
      "512:\tlearn: 0.4817880\ttotal: 1.89s\tremaining: 1.79s\n",
      "513:\tlearn: 0.4817855\ttotal: 1.89s\tremaining: 1.79s\n",
      "514:\tlearn: 0.4817828\ttotal: 1.89s\tremaining: 1.78s\n",
      "515:\tlearn: 0.4817797\ttotal: 1.9s\tremaining: 1.78s\n",
      "516:\tlearn: 0.4817739\ttotal: 1.9s\tremaining: 1.78s\n",
      "517:\tlearn: 0.4817718\ttotal: 1.91s\tremaining: 1.77s\n",
      "518:\tlearn: 0.4817705\ttotal: 1.91s\tremaining: 1.77s\n",
      "519:\tlearn: 0.4817682\ttotal: 1.91s\tremaining: 1.77s\n",
      "520:\tlearn: 0.4817658\ttotal: 1.92s\tremaining: 1.76s\n",
      "521:\tlearn: 0.4817612\ttotal: 1.92s\tremaining: 1.76s\n",
      "522:\tlearn: 0.4817573\ttotal: 1.92s\tremaining: 1.75s\n",
      "523:\tlearn: 0.4817547\ttotal: 1.93s\tremaining: 1.75s\n",
      "524:\tlearn: 0.4817518\ttotal: 1.93s\tremaining: 1.75s\n",
      "525:\tlearn: 0.4817407\ttotal: 1.93s\tremaining: 1.74s\n",
      "526:\tlearn: 0.4817391\ttotal: 1.94s\tremaining: 1.74s\n"
     ]
    },
    {
     "name": "stdout",
     "output_type": "stream",
     "text": [
      "527:\tlearn: 0.4817294\ttotal: 1.94s\tremaining: 1.73s\n",
      "528:\tlearn: 0.4817177\ttotal: 1.94s\tremaining: 1.73s\n",
      "529:\tlearn: 0.4817163\ttotal: 1.95s\tremaining: 1.73s\n",
      "530:\tlearn: 0.4817132\ttotal: 1.95s\tremaining: 1.72s\n",
      "531:\tlearn: 0.4817116\ttotal: 1.95s\tremaining: 1.72s\n",
      "532:\tlearn: 0.4817078\ttotal: 1.96s\tremaining: 1.71s\n",
      "533:\tlearn: 0.4817072\ttotal: 1.96s\tremaining: 1.71s\n",
      "534:\tlearn: 0.4816895\ttotal: 1.96s\tremaining: 1.71s\n",
      "535:\tlearn: 0.4816893\ttotal: 1.97s\tremaining: 1.7s\n",
      "536:\tlearn: 0.4816796\ttotal: 1.97s\tremaining: 1.7s\n",
      "537:\tlearn: 0.4816787\ttotal: 1.97s\tremaining: 1.69s\n",
      "538:\tlearn: 0.4816672\ttotal: 1.97s\tremaining: 1.69s\n",
      "539:\tlearn: 0.4816649\ttotal: 1.98s\tremaining: 1.68s\n",
      "540:\tlearn: 0.4816485\ttotal: 1.98s\tremaining: 1.68s\n",
      "541:\tlearn: 0.4816328\ttotal: 1.98s\tremaining: 1.68s\n",
      "542:\tlearn: 0.4816301\ttotal: 1.99s\tremaining: 1.67s\n",
      "543:\tlearn: 0.4816264\ttotal: 1.99s\tremaining: 1.67s\n",
      "544:\tlearn: 0.4816242\ttotal: 1.99s\tremaining: 1.66s\n",
      "545:\tlearn: 0.4816094\ttotal: 2s\tremaining: 1.66s\n",
      "546:\tlearn: 0.4816068\ttotal: 2s\tremaining: 1.66s\n",
      "547:\tlearn: 0.4816069\ttotal: 2s\tremaining: 1.65s\n",
      "548:\tlearn: 0.4816016\ttotal: 2s\tremaining: 1.65s\n",
      "549:\tlearn: 0.4815903\ttotal: 2.01s\tremaining: 1.64s\n",
      "550:\tlearn: 0.4815795\ttotal: 2.01s\tremaining: 1.64s\n",
      "551:\tlearn: 0.4815752\ttotal: 2.01s\tremaining: 1.63s\n",
      "552:\tlearn: 0.4815753\ttotal: 2.02s\tremaining: 1.63s\n",
      "553:\tlearn: 0.4815613\ttotal: 2.02s\tremaining: 1.63s\n",
      "554:\tlearn: 0.4815512\ttotal: 2.02s\tremaining: 1.62s\n",
      "555:\tlearn: 0.4815474\ttotal: 2.03s\tremaining: 1.62s\n",
      "556:\tlearn: 0.4815432\ttotal: 2.03s\tremaining: 1.61s\n",
      "557:\tlearn: 0.4815297\ttotal: 2.03s\tremaining: 1.61s\n",
      "558:\tlearn: 0.4815261\ttotal: 2.04s\tremaining: 1.61s\n",
      "559:\tlearn: 0.4815228\ttotal: 2.04s\tremaining: 1.6s\n",
      "560:\tlearn: 0.4815226\ttotal: 2.04s\tremaining: 1.6s\n",
      "561:\tlearn: 0.4815086\ttotal: 2.04s\tremaining: 1.59s\n",
      "562:\tlearn: 0.4815061\ttotal: 2.05s\tremaining: 1.59s\n",
      "563:\tlearn: 0.4814943\ttotal: 2.05s\tremaining: 1.59s\n",
      "564:\tlearn: 0.4814907\ttotal: 2.06s\tremaining: 1.58s\n",
      "565:\tlearn: 0.4814813\ttotal: 2.06s\tremaining: 1.58s\n",
      "566:\tlearn: 0.4814785\ttotal: 2.06s\tremaining: 1.57s\n",
      "567:\tlearn: 0.4814766\ttotal: 2.06s\tremaining: 1.57s\n",
      "568:\tlearn: 0.4814670\ttotal: 2.07s\tremaining: 1.57s\n",
      "569:\tlearn: 0.4814567\ttotal: 2.07s\tremaining: 1.56s\n",
      "570:\tlearn: 0.4814556\ttotal: 2.08s\tremaining: 1.56s\n",
      "571:\tlearn: 0.4814529\ttotal: 2.08s\tremaining: 1.56s\n",
      "572:\tlearn: 0.4814412\ttotal: 2.08s\tremaining: 1.55s\n",
      "573:\tlearn: 0.4814391\ttotal: 2.09s\tremaining: 1.55s\n",
      "574:\tlearn: 0.4814294\ttotal: 2.09s\tremaining: 1.54s\n",
      "575:\tlearn: 0.4814279\ttotal: 2.09s\tremaining: 1.54s\n",
      "576:\tlearn: 0.4814263\ttotal: 2.1s\tremaining: 1.54s\n",
      "577:\tlearn: 0.4814144\ttotal: 2.1s\tremaining: 1.53s\n",
      "578:\tlearn: 0.4814131\ttotal: 2.1s\tremaining: 1.53s\n",
      "579:\tlearn: 0.4814044\ttotal: 2.11s\tremaining: 1.52s\n",
      "580:\tlearn: 0.4814020\ttotal: 2.11s\tremaining: 1.52s\n",
      "581:\tlearn: 0.4814022\ttotal: 2.11s\tremaining: 1.52s\n",
      "582:\tlearn: 0.4814012\ttotal: 2.12s\tremaining: 1.51s\n",
      "583:\tlearn: 0.4813999\ttotal: 2.12s\tremaining: 1.51s\n",
      "584:\tlearn: 0.4813970\ttotal: 2.12s\tremaining: 1.5s\n",
      "585:\tlearn: 0.4813925\ttotal: 2.13s\tremaining: 1.5s\n",
      "586:\tlearn: 0.4813912\ttotal: 2.13s\tremaining: 1.5s\n",
      "587:\tlearn: 0.4813830\ttotal: 2.13s\tremaining: 1.49s\n",
      "588:\tlearn: 0.4813813\ttotal: 2.13s\tremaining: 1.49s\n",
      "589:\tlearn: 0.4813670\ttotal: 2.14s\tremaining: 1.49s\n",
      "590:\tlearn: 0.4813585\ttotal: 2.14s\tremaining: 1.48s\n",
      "591:\tlearn: 0.4813570\ttotal: 2.14s\tremaining: 1.48s\n",
      "592:\tlearn: 0.4813442\ttotal: 2.15s\tremaining: 1.47s\n",
      "593:\tlearn: 0.4813420\ttotal: 2.15s\tremaining: 1.47s\n",
      "594:\tlearn: 0.4813395\ttotal: 2.15s\tremaining: 1.46s\n",
      "595:\tlearn: 0.4813372\ttotal: 2.15s\tremaining: 1.46s\n",
      "596:\tlearn: 0.4813332\ttotal: 2.16s\tremaining: 1.46s\n",
      "597:\tlearn: 0.4813297\ttotal: 2.16s\tremaining: 1.45s\n",
      "598:\tlearn: 0.4813258\ttotal: 2.16s\tremaining: 1.45s\n",
      "599:\tlearn: 0.4813240\ttotal: 2.17s\tremaining: 1.44s\n",
      "600:\tlearn: 0.4813184\ttotal: 2.17s\tremaining: 1.44s\n",
      "601:\tlearn: 0.4813177\ttotal: 2.17s\tremaining: 1.44s\n",
      "602:\tlearn: 0.4813144\ttotal: 2.18s\tremaining: 1.43s\n",
      "603:\tlearn: 0.4813019\ttotal: 2.18s\tremaining: 1.43s\n",
      "604:\tlearn: 0.4812997\ttotal: 2.18s\tremaining: 1.43s\n",
      "605:\tlearn: 0.4812971\ttotal: 2.19s\tremaining: 1.42s\n",
      "606:\tlearn: 0.4812899\ttotal: 2.19s\tremaining: 1.42s\n",
      "607:\tlearn: 0.4812857\ttotal: 2.19s\tremaining: 1.41s\n",
      "608:\tlearn: 0.4812827\ttotal: 2.19s\tremaining: 1.41s\n",
      "609:\tlearn: 0.4812740\ttotal: 2.2s\tremaining: 1.4s\n",
      "610:\tlearn: 0.4812734\ttotal: 2.2s\tremaining: 1.4s\n",
      "611:\tlearn: 0.4812611\ttotal: 2.2s\tremaining: 1.4s\n",
      "612:\tlearn: 0.4812490\ttotal: 2.21s\tremaining: 1.39s\n",
      "613:\tlearn: 0.4812407\ttotal: 2.21s\tremaining: 1.39s\n",
      "614:\tlearn: 0.4812357\ttotal: 2.21s\tremaining: 1.38s\n",
      "615:\tlearn: 0.4812288\ttotal: 2.21s\tremaining: 1.38s\n",
      "616:\tlearn: 0.4812243\ttotal: 2.21s\tremaining: 1.38s\n",
      "617:\tlearn: 0.4812214\ttotal: 2.22s\tremaining: 1.37s\n",
      "618:\tlearn: 0.4812208\ttotal: 2.22s\tremaining: 1.37s\n",
      "619:\tlearn: 0.4812140\ttotal: 2.22s\tremaining: 1.36s\n",
      "620:\tlearn: 0.4812130\ttotal: 2.23s\tremaining: 1.36s\n",
      "621:\tlearn: 0.4812067\ttotal: 2.23s\tremaining: 1.35s\n",
      "622:\tlearn: 0.4811942\ttotal: 2.23s\tremaining: 1.35s\n",
      "623:\tlearn: 0.4811877\ttotal: 2.23s\tremaining: 1.35s\n",
      "624:\tlearn: 0.4811846\ttotal: 2.24s\tremaining: 1.34s\n",
      "625:\tlearn: 0.4811731\ttotal: 2.24s\tremaining: 1.34s\n",
      "626:\tlearn: 0.4811615\ttotal: 2.24s\tremaining: 1.33s\n",
      "627:\tlearn: 0.4811526\ttotal: 2.25s\tremaining: 1.33s\n",
      "628:\tlearn: 0.4811519\ttotal: 2.25s\tremaining: 1.33s\n",
      "629:\tlearn: 0.4811418\ttotal: 2.25s\tremaining: 1.32s\n",
      "630:\tlearn: 0.4811376\ttotal: 2.26s\tremaining: 1.32s\n",
      "631:\tlearn: 0.4811359\ttotal: 2.26s\tremaining: 1.32s\n",
      "632:\tlearn: 0.4811289\ttotal: 2.26s\tremaining: 1.31s\n",
      "633:\tlearn: 0.4811182\ttotal: 2.27s\tremaining: 1.31s\n",
      "634:\tlearn: 0.4811163\ttotal: 2.27s\tremaining: 1.3s\n",
      "635:\tlearn: 0.4811098\ttotal: 2.27s\tremaining: 1.3s\n",
      "636:\tlearn: 0.4811043\ttotal: 2.27s\tremaining: 1.3s\n",
      "637:\tlearn: 0.4810930\ttotal: 2.28s\tremaining: 1.29s\n",
      "638:\tlearn: 0.4810921\ttotal: 2.28s\tremaining: 1.29s\n",
      "639:\tlearn: 0.4810862\ttotal: 2.29s\tremaining: 1.28s\n",
      "640:\tlearn: 0.4810749\ttotal: 2.29s\tremaining: 1.28s\n",
      "641:\tlearn: 0.4810714\ttotal: 2.29s\tremaining: 1.28s\n",
      "642:\tlearn: 0.4810672\ttotal: 2.29s\tremaining: 1.27s\n",
      "643:\tlearn: 0.4810625\ttotal: 2.3s\tremaining: 1.27s\n",
      "644:\tlearn: 0.4810594\ttotal: 2.3s\tremaining: 1.26s\n",
      "645:\tlearn: 0.4810555\ttotal: 2.3s\tremaining: 1.26s\n",
      "646:\tlearn: 0.4810501\ttotal: 2.31s\tremaining: 1.26s\n",
      "647:\tlearn: 0.4810478\ttotal: 2.31s\tremaining: 1.25s\n",
      "648:\tlearn: 0.4810430\ttotal: 2.31s\tremaining: 1.25s\n",
      "649:\tlearn: 0.4810350\ttotal: 2.31s\tremaining: 1.25s\n",
      "650:\tlearn: 0.4810324\ttotal: 2.32s\tremaining: 1.24s\n",
      "651:\tlearn: 0.4810316\ttotal: 2.32s\tremaining: 1.24s\n",
      "652:\tlearn: 0.4810251\ttotal: 2.32s\tremaining: 1.24s\n",
      "653:\tlearn: 0.4810242\ttotal: 2.33s\tremaining: 1.23s\n",
      "654:\tlearn: 0.4810233\ttotal: 2.33s\tremaining: 1.23s\n",
      "655:\tlearn: 0.4810195\ttotal: 2.33s\tremaining: 1.22s\n",
      "656:\tlearn: 0.4810189\ttotal: 2.34s\tremaining: 1.22s\n",
      "657:\tlearn: 0.4810186\ttotal: 2.34s\tremaining: 1.22s\n",
      "658:\tlearn: 0.4810164\ttotal: 2.34s\tremaining: 1.21s\n",
      "659:\tlearn: 0.4810152\ttotal: 2.35s\tremaining: 1.21s\n",
      "660:\tlearn: 0.4810101\ttotal: 2.35s\tremaining: 1.2s\n",
      "661:\tlearn: 0.4810029\ttotal: 2.35s\tremaining: 1.2s\n",
      "662:\tlearn: 0.4809944\ttotal: 2.35s\tremaining: 1.2s\n",
      "663:\tlearn: 0.4809931\ttotal: 2.36s\tremaining: 1.19s\n",
      "664:\tlearn: 0.4809922\ttotal: 2.36s\tremaining: 1.19s\n",
      "665:\tlearn: 0.4809831\ttotal: 2.36s\tremaining: 1.19s\n",
      "666:\tlearn: 0.4809820\ttotal: 2.37s\tremaining: 1.18s\n",
      "667:\tlearn: 0.4809773\ttotal: 2.37s\tremaining: 1.18s\n",
      "668:\tlearn: 0.4809683\ttotal: 2.37s\tremaining: 1.17s\n",
      "669:\tlearn: 0.4809588\ttotal: 2.37s\tremaining: 1.17s\n",
      "670:\tlearn: 0.4809553\ttotal: 2.38s\tremaining: 1.17s\n",
      "671:\tlearn: 0.4809487\ttotal: 2.38s\tremaining: 1.16s\n",
      "672:\tlearn: 0.4809465\ttotal: 2.38s\tremaining: 1.16s\n",
      "673:\tlearn: 0.4809381\ttotal: 2.38s\tremaining: 1.15s\n",
      "674:\tlearn: 0.4809336\ttotal: 2.39s\tremaining: 1.15s\n",
      "675:\tlearn: 0.4809250\ttotal: 2.39s\tremaining: 1.15s\n",
      "676:\tlearn: 0.4809219\ttotal: 2.39s\tremaining: 1.14s\n",
      "677:\tlearn: 0.4809195\ttotal: 2.4s\tremaining: 1.14s\n",
      "678:\tlearn: 0.4809154\ttotal: 2.4s\tremaining: 1.13s\n",
      "679:\tlearn: 0.4809145\ttotal: 2.4s\tremaining: 1.13s\n",
      "680:\tlearn: 0.4809118\ttotal: 2.41s\tremaining: 1.13s\n",
      "681:\tlearn: 0.4809037\ttotal: 2.41s\tremaining: 1.12s\n",
      "682:\tlearn: 0.4809021\ttotal: 2.41s\tremaining: 1.12s\n",
      "683:\tlearn: 0.4808994\ttotal: 2.41s\tremaining: 1.11s\n",
      "684:\tlearn: 0.4808935\ttotal: 2.42s\tremaining: 1.11s\n",
      "685:\tlearn: 0.4808847\ttotal: 2.42s\tremaining: 1.11s\n",
      "686:\tlearn: 0.4808847\ttotal: 2.42s\tremaining: 1.1s\n",
      "687:\tlearn: 0.4808811\ttotal: 2.42s\tremaining: 1.1s\n",
      "688:\tlearn: 0.4808774\ttotal: 2.43s\tremaining: 1.09s\n",
      "689:\tlearn: 0.4808728\ttotal: 2.43s\tremaining: 1.09s\n",
      "690:\tlearn: 0.4808643\ttotal: 2.43s\tremaining: 1.09s\n",
      "691:\tlearn: 0.4808610\ttotal: 2.44s\tremaining: 1.08s\n",
      "692:\tlearn: 0.4808594\ttotal: 2.44s\tremaining: 1.08s\n",
      "693:\tlearn: 0.4808589\ttotal: 2.44s\tremaining: 1.08s\n",
      "694:\tlearn: 0.4808514\ttotal: 2.44s\tremaining: 1.07s\n",
      "695:\tlearn: 0.4808470\ttotal: 2.45s\tremaining: 1.07s\n",
      "696:\tlearn: 0.4808393\ttotal: 2.45s\tremaining: 1.07s\n",
      "697:\tlearn: 0.4808316\ttotal: 2.45s\tremaining: 1.06s\n",
      "698:\tlearn: 0.4808227\ttotal: 2.46s\tremaining: 1.06s\n",
      "699:\tlearn: 0.4808216\ttotal: 2.46s\tremaining: 1.05s\n",
      "700:\tlearn: 0.4808207\ttotal: 2.47s\tremaining: 1.05s\n",
      "701:\tlearn: 0.4808165\ttotal: 2.47s\tremaining: 1.05s\n"
     ]
    },
    {
     "name": "stdout",
     "output_type": "stream",
     "text": [
      "702:\tlearn: 0.4808142\ttotal: 2.48s\tremaining: 1.05s\n",
      "703:\tlearn: 0.4808063\ttotal: 2.48s\tremaining: 1.04s\n",
      "704:\tlearn: 0.4808003\ttotal: 2.48s\tremaining: 1.04s\n",
      "705:\tlearn: 0.4807997\ttotal: 2.48s\tremaining: 1.03s\n",
      "706:\tlearn: 0.4807959\ttotal: 2.49s\tremaining: 1.03s\n",
      "707:\tlearn: 0.4807941\ttotal: 2.49s\tremaining: 1.03s\n",
      "708:\tlearn: 0.4807873\ttotal: 2.49s\tremaining: 1.02s\n",
      "709:\tlearn: 0.4807840\ttotal: 2.49s\tremaining: 1.02s\n",
      "710:\tlearn: 0.4807836\ttotal: 2.5s\tremaining: 1.01s\n",
      "711:\tlearn: 0.4807801\ttotal: 2.5s\tremaining: 1.01s\n",
      "712:\tlearn: 0.4807746\ttotal: 2.5s\tremaining: 1.01s\n",
      "713:\tlearn: 0.4807716\ttotal: 2.5s\tremaining: 1s\n",
      "714:\tlearn: 0.4807682\ttotal: 2.51s\tremaining: 1s\n",
      "715:\tlearn: 0.4807675\ttotal: 2.51s\tremaining: 996ms\n",
      "716:\tlearn: 0.4807612\ttotal: 2.51s\tremaining: 992ms\n",
      "717:\tlearn: 0.4807591\ttotal: 2.52s\tremaining: 989ms\n",
      "718:\tlearn: 0.4807532\ttotal: 2.52s\tremaining: 985ms\n",
      "719:\tlearn: 0.4807524\ttotal: 2.52s\tremaining: 981ms\n",
      "720:\tlearn: 0.4807512\ttotal: 2.53s\tremaining: 978ms\n",
      "721:\tlearn: 0.4807481\ttotal: 2.53s\tremaining: 975ms\n",
      "722:\tlearn: 0.4807466\ttotal: 2.53s\tremaining: 971ms\n",
      "723:\tlearn: 0.4807444\ttotal: 2.54s\tremaining: 967ms\n",
      "724:\tlearn: 0.4807434\ttotal: 2.54s\tremaining: 964ms\n",
      "725:\tlearn: 0.4807413\ttotal: 2.54s\tremaining: 960ms\n",
      "726:\tlearn: 0.4807340\ttotal: 2.55s\tremaining: 956ms\n",
      "727:\tlearn: 0.4807333\ttotal: 2.55s\tremaining: 952ms\n",
      "728:\tlearn: 0.4807334\ttotal: 2.55s\tremaining: 949ms\n",
      "729:\tlearn: 0.4807305\ttotal: 2.55s\tremaining: 945ms\n",
      "730:\tlearn: 0.4807299\ttotal: 2.56s\tremaining: 941ms\n",
      "731:\tlearn: 0.4807304\ttotal: 2.56s\tremaining: 937ms\n",
      "732:\tlearn: 0.4807277\ttotal: 2.56s\tremaining: 934ms\n",
      "733:\tlearn: 0.4807249\ttotal: 2.57s\tremaining: 930ms\n",
      "734:\tlearn: 0.4807228\ttotal: 2.57s\tremaining: 926ms\n",
      "735:\tlearn: 0.4807224\ttotal: 2.57s\tremaining: 922ms\n",
      "736:\tlearn: 0.4807216\ttotal: 2.57s\tremaining: 919ms\n",
      "737:\tlearn: 0.4807201\ttotal: 2.58s\tremaining: 915ms\n",
      "738:\tlearn: 0.4807205\ttotal: 2.58s\tremaining: 912ms\n",
      "739:\tlearn: 0.4807197\ttotal: 2.58s\tremaining: 908ms\n",
      "740:\tlearn: 0.4807173\ttotal: 2.59s\tremaining: 904ms\n",
      "741:\tlearn: 0.4807112\ttotal: 2.59s\tremaining: 900ms\n",
      "742:\tlearn: 0.4807066\ttotal: 2.59s\tremaining: 896ms\n",
      "743:\tlearn: 0.4807042\ttotal: 2.59s\tremaining: 893ms\n",
      "744:\tlearn: 0.4807006\ttotal: 2.6s\tremaining: 889ms\n",
      "745:\tlearn: 0.4806950\ttotal: 2.6s\tremaining: 885ms\n",
      "746:\tlearn: 0.4806931\ttotal: 2.6s\tremaining: 881ms\n",
      "747:\tlearn: 0.4806883\ttotal: 2.6s\tremaining: 878ms\n",
      "748:\tlearn: 0.4806869\ttotal: 2.61s\tremaining: 874ms\n",
      "749:\tlearn: 0.4806827\ttotal: 2.61s\tremaining: 870ms\n",
      "750:\tlearn: 0.4806774\ttotal: 2.61s\tremaining: 866ms\n",
      "751:\tlearn: 0.4806766\ttotal: 2.62s\tremaining: 863ms\n",
      "752:\tlearn: 0.4806715\ttotal: 2.62s\tremaining: 859ms\n",
      "753:\tlearn: 0.4806656\ttotal: 2.62s\tremaining: 855ms\n",
      "754:\tlearn: 0.4806642\ttotal: 2.62s\tremaining: 851ms\n",
      "755:\tlearn: 0.4806617\ttotal: 2.63s\tremaining: 848ms\n",
      "756:\tlearn: 0.4806573\ttotal: 2.63s\tremaining: 844ms\n",
      "757:\tlearn: 0.4806550\ttotal: 2.63s\tremaining: 840ms\n",
      "758:\tlearn: 0.4806502\ttotal: 2.63s\tremaining: 837ms\n",
      "759:\tlearn: 0.4806471\ttotal: 2.64s\tremaining: 833ms\n",
      "760:\tlearn: 0.4806466\ttotal: 2.64s\tremaining: 829ms\n",
      "761:\tlearn: 0.4806428\ttotal: 2.64s\tremaining: 826ms\n",
      "762:\tlearn: 0.4806410\ttotal: 2.65s\tremaining: 822ms\n",
      "763:\tlearn: 0.4806395\ttotal: 2.65s\tremaining: 818ms\n",
      "764:\tlearn: 0.4806376\ttotal: 2.65s\tremaining: 815ms\n",
      "765:\tlearn: 0.4806311\ttotal: 2.65s\tremaining: 811ms\n",
      "766:\tlearn: 0.4806241\ttotal: 2.66s\tremaining: 807ms\n",
      "767:\tlearn: 0.4806173\ttotal: 2.66s\tremaining: 803ms\n",
      "768:\tlearn: 0.4806173\ttotal: 2.66s\tremaining: 800ms\n",
      "769:\tlearn: 0.4806181\ttotal: 2.67s\tremaining: 796ms\n",
      "770:\tlearn: 0.4806164\ttotal: 2.67s\tremaining: 792ms\n",
      "771:\tlearn: 0.4806147\ttotal: 2.67s\tremaining: 789ms\n",
      "772:\tlearn: 0.4806133\ttotal: 2.67s\tremaining: 785ms\n",
      "773:\tlearn: 0.4806135\ttotal: 2.68s\tremaining: 781ms\n",
      "774:\tlearn: 0.4806073\ttotal: 2.68s\tremaining: 778ms\n",
      "775:\tlearn: 0.4806037\ttotal: 2.68s\tremaining: 774ms\n",
      "776:\tlearn: 0.4806011\ttotal: 2.68s\tremaining: 770ms\n",
      "777:\tlearn: 0.4806002\ttotal: 2.69s\tremaining: 767ms\n",
      "778:\tlearn: 0.4805975\ttotal: 2.69s\tremaining: 763ms\n",
      "779:\tlearn: 0.4805907\ttotal: 2.69s\tremaining: 760ms\n",
      "780:\tlearn: 0.4805857\ttotal: 2.7s\tremaining: 756ms\n",
      "781:\tlearn: 0.4805840\ttotal: 2.7s\tremaining: 753ms\n",
      "782:\tlearn: 0.4805817\ttotal: 2.7s\tremaining: 749ms\n",
      "783:\tlearn: 0.4805799\ttotal: 2.71s\tremaining: 746ms\n",
      "784:\tlearn: 0.4805776\ttotal: 2.71s\tremaining: 742ms\n",
      "785:\tlearn: 0.4805711\ttotal: 2.71s\tremaining: 739ms\n",
      "786:\tlearn: 0.4805699\ttotal: 2.72s\tremaining: 735ms\n",
      "787:\tlearn: 0.4805658\ttotal: 2.72s\tremaining: 732ms\n",
      "788:\tlearn: 0.4805624\ttotal: 2.72s\tremaining: 728ms\n",
      "789:\tlearn: 0.4805611\ttotal: 2.72s\tremaining: 724ms\n",
      "790:\tlearn: 0.4805600\ttotal: 2.73s\tremaining: 721ms\n",
      "791:\tlearn: 0.4805589\ttotal: 2.73s\tremaining: 717ms\n",
      "792:\tlearn: 0.4805535\ttotal: 2.73s\tremaining: 713ms\n",
      "793:\tlearn: 0.4805498\ttotal: 2.73s\tremaining: 710ms\n",
      "794:\tlearn: 0.4805491\ttotal: 2.74s\tremaining: 706ms\n",
      "795:\tlearn: 0.4805461\ttotal: 2.74s\tremaining: 702ms\n",
      "796:\tlearn: 0.4805441\ttotal: 2.74s\tremaining: 699ms\n",
      "797:\tlearn: 0.4805434\ttotal: 2.75s\tremaining: 695ms\n",
      "798:\tlearn: 0.4805421\ttotal: 2.75s\tremaining: 692ms\n",
      "799:\tlearn: 0.4805413\ttotal: 2.75s\tremaining: 688ms\n",
      "800:\tlearn: 0.4805402\ttotal: 2.76s\tremaining: 685ms\n",
      "801:\tlearn: 0.4805363\ttotal: 2.76s\tremaining: 681ms\n",
      "802:\tlearn: 0.4805323\ttotal: 2.76s\tremaining: 677ms\n",
      "803:\tlearn: 0.4805302\ttotal: 2.76s\tremaining: 674ms\n",
      "804:\tlearn: 0.4805271\ttotal: 2.77s\tremaining: 670ms\n",
      "805:\tlearn: 0.4805228\ttotal: 2.77s\tremaining: 666ms\n",
      "806:\tlearn: 0.4805187\ttotal: 2.77s\tremaining: 663ms\n",
      "807:\tlearn: 0.4805181\ttotal: 2.77s\tremaining: 659ms\n",
      "808:\tlearn: 0.4805113\ttotal: 2.78s\tremaining: 656ms\n",
      "809:\tlearn: 0.4805110\ttotal: 2.78s\tremaining: 652ms\n",
      "810:\tlearn: 0.4805098\ttotal: 2.78s\tremaining: 649ms\n",
      "811:\tlearn: 0.4805095\ttotal: 2.79s\tremaining: 645ms\n",
      "812:\tlearn: 0.4805090\ttotal: 2.79s\tremaining: 642ms\n",
      "813:\tlearn: 0.4805090\ttotal: 2.79s\tremaining: 638ms\n",
      "814:\tlearn: 0.4805087\ttotal: 2.8s\tremaining: 635ms\n",
      "815:\tlearn: 0.4805064\ttotal: 2.8s\tremaining: 632ms\n",
      "816:\tlearn: 0.4805058\ttotal: 2.8s\tremaining: 628ms\n",
      "817:\tlearn: 0.4805056\ttotal: 2.81s\tremaining: 624ms\n",
      "818:\tlearn: 0.4805048\ttotal: 2.81s\tremaining: 621ms\n",
      "819:\tlearn: 0.4805026\ttotal: 2.81s\tremaining: 617ms\n",
      "820:\tlearn: 0.4804998\ttotal: 2.81s\tremaining: 614ms\n",
      "821:\tlearn: 0.4804989\ttotal: 2.82s\tremaining: 610ms\n",
      "822:\tlearn: 0.4804977\ttotal: 2.82s\tremaining: 607ms\n",
      "823:\tlearn: 0.4804965\ttotal: 2.82s\tremaining: 603ms\n",
      "824:\tlearn: 0.4804945\ttotal: 2.83s\tremaining: 600ms\n",
      "825:\tlearn: 0.4804918\ttotal: 2.83s\tremaining: 597ms\n",
      "826:\tlearn: 0.4804916\ttotal: 2.83s\tremaining: 593ms\n",
      "827:\tlearn: 0.4804899\ttotal: 2.84s\tremaining: 590ms\n",
      "828:\tlearn: 0.4804896\ttotal: 2.84s\tremaining: 586ms\n",
      "829:\tlearn: 0.4804882\ttotal: 2.85s\tremaining: 583ms\n",
      "830:\tlearn: 0.4804812\ttotal: 2.85s\tremaining: 579ms\n",
      "831:\tlearn: 0.4804800\ttotal: 2.85s\tremaining: 576ms\n",
      "832:\tlearn: 0.4804718\ttotal: 2.86s\tremaining: 573ms\n",
      "833:\tlearn: 0.4804713\ttotal: 2.86s\tremaining: 569ms\n",
      "834:\tlearn: 0.4804695\ttotal: 2.86s\tremaining: 566ms\n",
      "835:\tlearn: 0.4804657\ttotal: 2.87s\tremaining: 562ms\n",
      "836:\tlearn: 0.4804631\ttotal: 2.87s\tremaining: 559ms\n",
      "837:\tlearn: 0.4804618\ttotal: 2.87s\tremaining: 556ms\n",
      "838:\tlearn: 0.4804617\ttotal: 2.88s\tremaining: 552ms\n",
      "839:\tlearn: 0.4804597\ttotal: 2.88s\tremaining: 549ms\n",
      "840:\tlearn: 0.4804592\ttotal: 2.89s\tremaining: 546ms\n",
      "841:\tlearn: 0.4804569\ttotal: 2.89s\tremaining: 542ms\n",
      "842:\tlearn: 0.4804558\ttotal: 2.89s\tremaining: 539ms\n",
      "843:\tlearn: 0.4804553\ttotal: 2.9s\tremaining: 535ms\n",
      "844:\tlearn: 0.4804546\ttotal: 2.9s\tremaining: 532ms\n",
      "845:\tlearn: 0.4804542\ttotal: 2.9s\tremaining: 528ms\n",
      "846:\tlearn: 0.4804510\ttotal: 2.9s\tremaining: 525ms\n",
      "847:\tlearn: 0.4804480\ttotal: 2.91s\tremaining: 521ms\n",
      "848:\tlearn: 0.4804475\ttotal: 2.91s\tremaining: 517ms\n",
      "849:\tlearn: 0.4804456\ttotal: 2.91s\tremaining: 514ms\n",
      "850:\tlearn: 0.4804451\ttotal: 2.92s\tremaining: 510ms\n",
      "851:\tlearn: 0.4804451\ttotal: 2.92s\tremaining: 507ms\n",
      "852:\tlearn: 0.4804437\ttotal: 2.92s\tremaining: 503ms\n",
      "853:\tlearn: 0.4804394\ttotal: 2.92s\tremaining: 500ms\n",
      "854:\tlearn: 0.4804372\ttotal: 2.93s\tremaining: 496ms\n",
      "855:\tlearn: 0.4804329\ttotal: 2.93s\tremaining: 493ms\n",
      "856:\tlearn: 0.4804305\ttotal: 2.93s\tremaining: 489ms\n",
      "857:\tlearn: 0.4804260\ttotal: 2.94s\tremaining: 486ms\n",
      "858:\tlearn: 0.4804199\ttotal: 2.94s\tremaining: 482ms\n",
      "859:\tlearn: 0.4804149\ttotal: 2.94s\tremaining: 479ms\n",
      "860:\tlearn: 0.4804142\ttotal: 2.94s\tremaining: 475ms\n",
      "861:\tlearn: 0.4804132\ttotal: 2.95s\tremaining: 472ms\n",
      "862:\tlearn: 0.4804105\ttotal: 2.95s\tremaining: 468ms\n",
      "863:\tlearn: 0.4804094\ttotal: 2.95s\tremaining: 465ms\n",
      "864:\tlearn: 0.4804053\ttotal: 2.96s\tremaining: 462ms\n",
      "865:\tlearn: 0.4804026\ttotal: 2.96s\tremaining: 458ms\n",
      "866:\tlearn: 0.4804018\ttotal: 2.96s\tremaining: 454ms\n",
      "867:\tlearn: 0.4804004\ttotal: 2.96s\tremaining: 451ms\n",
      "868:\tlearn: 0.4804001\ttotal: 2.97s\tremaining: 447ms\n",
      "869:\tlearn: 0.4804004\ttotal: 2.97s\tremaining: 444ms\n",
      "870:\tlearn: 0.4804000\ttotal: 2.97s\tremaining: 440ms\n",
      "871:\tlearn: 0.4803994\ttotal: 2.98s\tremaining: 437ms\n",
      "872:\tlearn: 0.4803958\ttotal: 2.98s\tremaining: 433ms\n",
      "873:\tlearn: 0.4803933\ttotal: 2.98s\tremaining: 430ms\n",
      "874:\tlearn: 0.4803902\ttotal: 2.98s\tremaining: 426ms\n",
      "875:\tlearn: 0.4803906\ttotal: 2.99s\tremaining: 423ms\n",
      "876:\tlearn: 0.4803852\ttotal: 2.99s\tremaining: 420ms\n",
      "877:\tlearn: 0.4803840\ttotal: 2.99s\tremaining: 416ms\n",
      "878:\tlearn: 0.4803819\ttotal: 3s\tremaining: 413ms\n",
      "879:\tlearn: 0.4803778\ttotal: 3s\tremaining: 409ms\n",
      "880:\tlearn: 0.4803773\ttotal: 3s\tremaining: 406ms\n",
      "881:\tlearn: 0.4803741\ttotal: 3.01s\tremaining: 402ms\n",
      "882:\tlearn: 0.4803726\ttotal: 3.01s\tremaining: 399ms\n",
      "883:\tlearn: 0.4803724\ttotal: 3.01s\tremaining: 395ms\n",
      "884:\tlearn: 0.4803711\ttotal: 3.02s\tremaining: 392ms\n",
      "885:\tlearn: 0.4803673\ttotal: 3.02s\tremaining: 388ms\n",
      "886:\tlearn: 0.4803665\ttotal: 3.02s\tremaining: 385ms\n"
     ]
    },
    {
     "name": "stdout",
     "output_type": "stream",
     "text": [
      "887:\tlearn: 0.4803659\ttotal: 3.02s\tremaining: 382ms\n",
      "888:\tlearn: 0.4803650\ttotal: 3.03s\tremaining: 378ms\n",
      "889:\tlearn: 0.4803647\ttotal: 3.03s\tremaining: 375ms\n",
      "890:\tlearn: 0.4803643\ttotal: 3.03s\tremaining: 371ms\n",
      "891:\tlearn: 0.4803608\ttotal: 3.04s\tremaining: 368ms\n",
      "892:\tlearn: 0.4803585\ttotal: 3.04s\tremaining: 364ms\n",
      "893:\tlearn: 0.4803581\ttotal: 3.04s\tremaining: 361ms\n",
      "894:\tlearn: 0.4803568\ttotal: 3.04s\tremaining: 357ms\n",
      "895:\tlearn: 0.4803575\ttotal: 3.05s\tremaining: 354ms\n",
      "896:\tlearn: 0.4803546\ttotal: 3.05s\tremaining: 350ms\n",
      "897:\tlearn: 0.4803530\ttotal: 3.05s\tremaining: 347ms\n",
      "898:\tlearn: 0.4803525\ttotal: 3.05s\tremaining: 343ms\n",
      "899:\tlearn: 0.4803492\ttotal: 3.06s\tremaining: 340ms\n",
      "900:\tlearn: 0.4803471\ttotal: 3.06s\tremaining: 336ms\n",
      "901:\tlearn: 0.4803470\ttotal: 3.06s\tremaining: 333ms\n",
      "902:\tlearn: 0.4803459\ttotal: 3.06s\tremaining: 329ms\n",
      "903:\tlearn: 0.4803471\ttotal: 3.07s\tremaining: 326ms\n",
      "904:\tlearn: 0.4803431\ttotal: 3.07s\tremaining: 322ms\n",
      "905:\tlearn: 0.4803404\ttotal: 3.07s\tremaining: 319ms\n",
      "906:\tlearn: 0.4803391\ttotal: 3.08s\tremaining: 315ms\n",
      "907:\tlearn: 0.4803386\ttotal: 3.08s\tremaining: 312ms\n",
      "908:\tlearn: 0.4803355\ttotal: 3.08s\tremaining: 308ms\n",
      "909:\tlearn: 0.4803359\ttotal: 3.08s\tremaining: 305ms\n",
      "910:\tlearn: 0.4803345\ttotal: 3.09s\tremaining: 302ms\n",
      "911:\tlearn: 0.4803319\ttotal: 3.09s\tremaining: 298ms\n",
      "912:\tlearn: 0.4803313\ttotal: 3.09s\tremaining: 295ms\n",
      "913:\tlearn: 0.4803316\ttotal: 3.09s\tremaining: 291ms\n",
      "914:\tlearn: 0.4803319\ttotal: 3.1s\tremaining: 288ms\n",
      "915:\tlearn: 0.4803279\ttotal: 3.1s\tremaining: 284ms\n",
      "916:\tlearn: 0.4803234\ttotal: 3.1s\tremaining: 281ms\n",
      "917:\tlearn: 0.4803213\ttotal: 3.1s\tremaining: 277ms\n",
      "918:\tlearn: 0.4803189\ttotal: 3.11s\tremaining: 274ms\n",
      "919:\tlearn: 0.4803156\ttotal: 3.11s\tremaining: 271ms\n",
      "920:\tlearn: 0.4803140\ttotal: 3.11s\tremaining: 267ms\n",
      "921:\tlearn: 0.4803133\ttotal: 3.12s\tremaining: 264ms\n",
      "922:\tlearn: 0.4803119\ttotal: 3.12s\tremaining: 260ms\n",
      "923:\tlearn: 0.4803115\ttotal: 3.12s\tremaining: 257ms\n",
      "924:\tlearn: 0.4803091\ttotal: 3.12s\tremaining: 253ms\n",
      "925:\tlearn: 0.4803074\ttotal: 3.13s\tremaining: 250ms\n",
      "926:\tlearn: 0.4803069\ttotal: 3.13s\tremaining: 246ms\n",
      "927:\tlearn: 0.4803060\ttotal: 3.13s\tremaining: 243ms\n",
      "928:\tlearn: 0.4803059\ttotal: 3.14s\tremaining: 240ms\n",
      "929:\tlearn: 0.4803054\ttotal: 3.14s\tremaining: 236ms\n",
      "930:\tlearn: 0.4803055\ttotal: 3.14s\tremaining: 233ms\n",
      "931:\tlearn: 0.4803031\ttotal: 3.14s\tremaining: 229ms\n",
      "932:\tlearn: 0.4803028\ttotal: 3.15s\tremaining: 226ms\n",
      "933:\tlearn: 0.4802978\ttotal: 3.15s\tremaining: 223ms\n",
      "934:\tlearn: 0.4802961\ttotal: 3.15s\tremaining: 219ms\n",
      "935:\tlearn: 0.4802945\ttotal: 3.16s\tremaining: 216ms\n",
      "936:\tlearn: 0.4802923\ttotal: 3.16s\tremaining: 212ms\n",
      "937:\tlearn: 0.4802906\ttotal: 3.16s\tremaining: 209ms\n",
      "938:\tlearn: 0.4802899\ttotal: 3.17s\tremaining: 206ms\n",
      "939:\tlearn: 0.4802866\ttotal: 3.17s\tremaining: 202ms\n",
      "940:\tlearn: 0.4802848\ttotal: 3.17s\tremaining: 199ms\n",
      "941:\tlearn: 0.4802841\ttotal: 3.17s\tremaining: 195ms\n",
      "942:\tlearn: 0.4802831\ttotal: 3.17s\tremaining: 192ms\n",
      "943:\tlearn: 0.4802819\ttotal: 3.18s\tremaining: 189ms\n",
      "944:\tlearn: 0.4802825\ttotal: 3.18s\tremaining: 185ms\n",
      "945:\tlearn: 0.4802821\ttotal: 3.18s\tremaining: 182ms\n",
      "946:\tlearn: 0.4802792\ttotal: 3.19s\tremaining: 178ms\n",
      "947:\tlearn: 0.4802772\ttotal: 3.19s\tremaining: 175ms\n",
      "948:\tlearn: 0.4802762\ttotal: 3.19s\tremaining: 172ms\n",
      "949:\tlearn: 0.4802753\ttotal: 3.19s\tremaining: 168ms\n",
      "950:\tlearn: 0.4802747\ttotal: 3.2s\tremaining: 165ms\n",
      "951:\tlearn: 0.4802732\ttotal: 3.2s\tremaining: 161ms\n",
      "952:\tlearn: 0.4802710\ttotal: 3.21s\tremaining: 158ms\n",
      "953:\tlearn: 0.4802689\ttotal: 3.21s\tremaining: 155ms\n",
      "954:\tlearn: 0.4802689\ttotal: 3.21s\tremaining: 151ms\n",
      "955:\tlearn: 0.4802661\ttotal: 3.21s\tremaining: 148ms\n",
      "956:\tlearn: 0.4802664\ttotal: 3.21s\tremaining: 144ms\n",
      "957:\tlearn: 0.4802643\ttotal: 3.22s\tremaining: 141ms\n",
      "958:\tlearn: 0.4802637\ttotal: 3.22s\tremaining: 138ms\n",
      "959:\tlearn: 0.4802627\ttotal: 3.22s\tremaining: 134ms\n",
      "960:\tlearn: 0.4802618\ttotal: 3.23s\tremaining: 131ms\n",
      "961:\tlearn: 0.4802611\ttotal: 3.23s\tremaining: 128ms\n",
      "962:\tlearn: 0.4802604\ttotal: 3.23s\tremaining: 124ms\n",
      "963:\tlearn: 0.4802593\ttotal: 3.23s\tremaining: 121ms\n",
      "964:\tlearn: 0.4802591\ttotal: 3.24s\tremaining: 117ms\n",
      "965:\tlearn: 0.4802567\ttotal: 3.24s\tremaining: 114ms\n",
      "966:\tlearn: 0.4802571\ttotal: 3.24s\tremaining: 111ms\n",
      "967:\tlearn: 0.4802550\ttotal: 3.25s\tremaining: 107ms\n",
      "968:\tlearn: 0.4802542\ttotal: 3.25s\tremaining: 104ms\n",
      "969:\tlearn: 0.4802525\ttotal: 3.25s\tremaining: 101ms\n",
      "970:\tlearn: 0.4802512\ttotal: 3.25s\tremaining: 97.2ms\n",
      "971:\tlearn: 0.4802493\ttotal: 3.26s\tremaining: 93.8ms\n",
      "972:\tlearn: 0.4802447\ttotal: 3.26s\tremaining: 90.5ms\n",
      "973:\tlearn: 0.4802443\ttotal: 3.26s\tremaining: 87.1ms\n",
      "974:\tlearn: 0.4802431\ttotal: 3.27s\tremaining: 83.7ms\n",
      "975:\tlearn: 0.4802424\ttotal: 3.27s\tremaining: 80.4ms\n",
      "976:\tlearn: 0.4802417\ttotal: 3.27s\tremaining: 77ms\n",
      "977:\tlearn: 0.4802409\ttotal: 3.27s\tremaining: 73.7ms\n",
      "978:\tlearn: 0.4802399\ttotal: 3.28s\tremaining: 70.3ms\n",
      "979:\tlearn: 0.4802390\ttotal: 3.28s\tremaining: 67ms\n",
      "980:\tlearn: 0.4802382\ttotal: 3.28s\tremaining: 63.6ms\n",
      "981:\tlearn: 0.4802341\ttotal: 3.29s\tremaining: 60.3ms\n",
      "982:\tlearn: 0.4802326\ttotal: 3.29s\tremaining: 56.9ms\n",
      "983:\tlearn: 0.4802304\ttotal: 3.3s\tremaining: 53.6ms\n",
      "984:\tlearn: 0.4802294\ttotal: 3.3s\tremaining: 50.2ms\n",
      "985:\tlearn: 0.4802291\ttotal: 3.3s\tremaining: 46.9ms\n",
      "986:\tlearn: 0.4802286\ttotal: 3.3s\tremaining: 43.5ms\n",
      "987:\tlearn: 0.4802279\ttotal: 3.31s\tremaining: 40.2ms\n",
      "988:\tlearn: 0.4802263\ttotal: 3.31s\tremaining: 36.8ms\n",
      "989:\tlearn: 0.4802241\ttotal: 3.31s\tremaining: 33.5ms\n",
      "990:\tlearn: 0.4802241\ttotal: 3.31s\tremaining: 30.1ms\n",
      "991:\tlearn: 0.4802232\ttotal: 3.32s\tremaining: 26.8ms\n",
      "992:\tlearn: 0.4802227\ttotal: 3.32s\tremaining: 23.4ms\n",
      "993:\tlearn: 0.4802221\ttotal: 3.32s\tremaining: 20.1ms\n",
      "994:\tlearn: 0.4802222\ttotal: 3.32s\tremaining: 16.7ms\n",
      "995:\tlearn: 0.4802197\ttotal: 3.33s\tremaining: 13.4ms\n",
      "996:\tlearn: 0.4802152\ttotal: 3.33s\tremaining: 10ms\n",
      "997:\tlearn: 0.4802149\ttotal: 3.33s\tremaining: 6.68ms\n",
      "998:\tlearn: 0.4802147\ttotal: 3.34s\tremaining: 3.34ms\n",
      "999:\tlearn: 0.4802108\ttotal: 3.34s\tremaining: 0us\n"
     ]
    },
    {
     "data": {
      "text/html": [
       "<style>#sk-container-id-1 {color: black;background-color: white;}#sk-container-id-1 pre{padding: 0;}#sk-container-id-1 div.sk-toggleable {background-color: white;}#sk-container-id-1 label.sk-toggleable__label {cursor: pointer;display: block;width: 100%;margin-bottom: 0;padding: 0.3em;box-sizing: border-box;text-align: center;}#sk-container-id-1 label.sk-toggleable__label-arrow:before {content: \"▸\";float: left;margin-right: 0.25em;color: #696969;}#sk-container-id-1 label.sk-toggleable__label-arrow:hover:before {color: black;}#sk-container-id-1 div.sk-estimator:hover label.sk-toggleable__label-arrow:before {color: black;}#sk-container-id-1 div.sk-toggleable__content {max-height: 0;max-width: 0;overflow: hidden;text-align: left;background-color: #f0f8ff;}#sk-container-id-1 div.sk-toggleable__content pre {margin: 0.2em;color: black;border-radius: 0.25em;background-color: #f0f8ff;}#sk-container-id-1 input.sk-toggleable__control:checked~div.sk-toggleable__content {max-height: 200px;max-width: 100%;overflow: auto;}#sk-container-id-1 input.sk-toggleable__control:checked~label.sk-toggleable__label-arrow:before {content: \"▾\";}#sk-container-id-1 div.sk-estimator input.sk-toggleable__control:checked~label.sk-toggleable__label {background-color: #d4ebff;}#sk-container-id-1 div.sk-label input.sk-toggleable__control:checked~label.sk-toggleable__label {background-color: #d4ebff;}#sk-container-id-1 input.sk-hidden--visually {border: 0;clip: rect(1px 1px 1px 1px);clip: rect(1px, 1px, 1px, 1px);height: 1px;margin: -1px;overflow: hidden;padding: 0;position: absolute;width: 1px;}#sk-container-id-1 div.sk-estimator {font-family: monospace;background-color: #f0f8ff;border: 1px dotted black;border-radius: 0.25em;box-sizing: border-box;margin-bottom: 0.5em;}#sk-container-id-1 div.sk-estimator:hover {background-color: #d4ebff;}#sk-container-id-1 div.sk-parallel-item::after {content: \"\";width: 100%;border-bottom: 1px solid gray;flex-grow: 1;}#sk-container-id-1 div.sk-label:hover label.sk-toggleable__label {background-color: #d4ebff;}#sk-container-id-1 div.sk-serial::before {content: \"\";position: absolute;border-left: 1px solid gray;box-sizing: border-box;top: 0;bottom: 0;left: 50%;z-index: 0;}#sk-container-id-1 div.sk-serial {display: flex;flex-direction: column;align-items: center;background-color: white;padding-right: 0.2em;padding-left: 0.2em;position: relative;}#sk-container-id-1 div.sk-item {position: relative;z-index: 1;}#sk-container-id-1 div.sk-parallel {display: flex;align-items: stretch;justify-content: center;background-color: white;position: relative;}#sk-container-id-1 div.sk-item::before, #sk-container-id-1 div.sk-parallel-item::before {content: \"\";position: absolute;border-left: 1px solid gray;box-sizing: border-box;top: 0;bottom: 0;left: 50%;z-index: -1;}#sk-container-id-1 div.sk-parallel-item {display: flex;flex-direction: column;z-index: 1;position: relative;background-color: white;}#sk-container-id-1 div.sk-parallel-item:first-child::after {align-self: flex-end;width: 50%;}#sk-container-id-1 div.sk-parallel-item:last-child::after {align-self: flex-start;width: 50%;}#sk-container-id-1 div.sk-parallel-item:only-child::after {width: 0;}#sk-container-id-1 div.sk-dashed-wrapped {border: 1px dashed gray;margin: 0 0.4em 0.5em 0.4em;box-sizing: border-box;padding-bottom: 0.4em;background-color: white;}#sk-container-id-1 div.sk-label label {font-family: monospace;font-weight: bold;display: inline-block;line-height: 1.2em;}#sk-container-id-1 div.sk-label-container {text-align: center;}#sk-container-id-1 div.sk-container {/* jupyter's `normalize.less` sets `[hidden] { display: none; }` but bootstrap.min.css set `[hidden] { display: none !important; }` so we also need the `!important` here to be able to override the default hidden behavior on the sphinx rendered scikit-learn.org. See: https://github.com/scikit-learn/scikit-learn/issues/21755 */display: inline-block !important;position: relative;}#sk-container-id-1 div.sk-text-repr-fallback {display: none;}</style><div id=\"sk-container-id-1\" class=\"sk-top-container\"><div class=\"sk-text-repr-fallback\"><pre>GridSearchCV(cv=2,\n",
       "             estimator=&lt;catboost.core.CatBoostClassifier object at 0x0000020F34A3A160&gt;,\n",
       "             n_jobs=-1,\n",
       "             param_grid={&#x27;depth&#x27;: [3, 4, 6, 8, 10],\n",
       "                         &#x27;l2_leaf_reg&#x27;: [1, 3, 5, 7, 9],\n",
       "                         &#x27;learning_rate&#x27;: array([0.02, 0.03, 0.04, 0.05, 0.06, 0.07, 0.08, 0.09])})</pre><b>In a Jupyter environment, please rerun this cell to show the HTML representation or trust the notebook. <br />On GitHub, the HTML representation is unable to render, please try loading this page with nbviewer.org.</b></div><div class=\"sk-container\" hidden><div class=\"sk-item sk-dashed-wrapped\"><div class=\"sk-label-container\"><div class=\"sk-label sk-toggleable\"><input class=\"sk-toggleable__control sk-hidden--visually\" id=\"sk-estimator-id-1\" type=\"checkbox\" ><label for=\"sk-estimator-id-1\" class=\"sk-toggleable__label sk-toggleable__label-arrow\">GridSearchCV</label><div class=\"sk-toggleable__content\"><pre>GridSearchCV(cv=2,\n",
       "             estimator=&lt;catboost.core.CatBoostClassifier object at 0x0000020F34A3A160&gt;,\n",
       "             n_jobs=-1,\n",
       "             param_grid={&#x27;depth&#x27;: [3, 4, 6, 8, 10],\n",
       "                         &#x27;l2_leaf_reg&#x27;: [1, 3, 5, 7, 9],\n",
       "                         &#x27;learning_rate&#x27;: array([0.02, 0.03, 0.04, 0.05, 0.06, 0.07, 0.08, 0.09])})</pre></div></div></div><div class=\"sk-parallel\"><div class=\"sk-parallel-item\"><div class=\"sk-item\"><div class=\"sk-label-container\"><div class=\"sk-label sk-toggleable\"><input class=\"sk-toggleable__control sk-hidden--visually\" id=\"sk-estimator-id-2\" type=\"checkbox\" ><label for=\"sk-estimator-id-2\" class=\"sk-toggleable__label sk-toggleable__label-arrow\">estimator: CatBoostClassifier</label><div class=\"sk-toggleable__content\"><pre>&lt;catboost.core.CatBoostClassifier object at 0x0000020F34A3A160&gt;</pre></div></div></div><div class=\"sk-serial\"><div class=\"sk-item\"><div class=\"sk-estimator sk-toggleable\"><input class=\"sk-toggleable__control sk-hidden--visually\" id=\"sk-estimator-id-3\" type=\"checkbox\" ><label for=\"sk-estimator-id-3\" class=\"sk-toggleable__label sk-toggleable__label-arrow\">CatBoostClassifier</label><div class=\"sk-toggleable__content\"><pre>&lt;catboost.core.CatBoostClassifier object at 0x0000020F34A3A160&gt;</pre></div></div></div></div></div></div></div></div></div></div>"
      ],
      "text/plain": [
       "GridSearchCV(cv=2,\n",
       "             estimator=<catboost.core.CatBoostClassifier object at 0x0000020F34A3A160>,\n",
       "             n_jobs=-1,\n",
       "             param_grid={'depth': [3, 4, 6, 8, 10],\n",
       "                         'l2_leaf_reg': [1, 3, 5, 7, 9],\n",
       "                         'learning_rate': array([0.02, 0.03, 0.04, 0.05, 0.06, 0.07, 0.08, 0.09])})"
      ]
     },
     "execution_count": 99,
     "metadata": {},
     "output_type": "execute_result"
    }
   ],
   "source": [
    "model_tune = CatBoostClassifier()\n",
    "\n",
    "parameters = {'learning_rate': np.arange(0.02,0.1,0.01),\n",
    "       'depth': [3,4,6,8,10],\n",
    "       'l2_leaf_reg': [1,3,5,7,9]}\n",
    "\n",
    "grid = GridSearchCV(estimator=model_tune,param_grid = parameters,cv=2,n_jobs=-1)\n",
    "\n",
    "grid.fit(X_train1,y_train1)"
   ]
  },
  {
   "cell_type": "code",
   "execution_count": 100,
   "id": "549f2fb9",
   "metadata": {},
   "outputs": [
    {
     "name": "stdout",
     "output_type": "stream",
     "text": [
      "The optimal set of hyperparameters is :\n",
      " {'depth': 4, 'l2_leaf_reg': 1, 'learning_rate': 0.02}\n"
     ]
    }
   ],
   "source": [
    "print('The optimal set of hyperparameters is :\\n' ,grid.best_params_)"
   ]
  },
  {
   "cell_type": "code",
   "execution_count": 101,
   "id": "49ca07b4",
   "metadata": {},
   "outputs": [
    {
     "name": "stdout",
     "output_type": "stream",
     "text": [
      "The best accuracy score is :\n",
      " 0.7640165855417342\n"
     ]
    }
   ],
   "source": [
    "print('The best accuracy score is :\\n' ,grid.best_score_)"
   ]
  },
  {
   "cell_type": "code",
   "execution_count": 102,
   "id": "5d38404e",
   "metadata": {},
   "outputs": [],
   "source": [
    "def plot_feature_importance(importance,names,model_type):\n",
    "    feature_importance = np.array(importance)\n",
    "    feature_names = np.array(names)\n",
    "    data={'feature_names':feature_names,'feature_importance':feature_importance}\n",
    "    fi_df = pd.DataFrame(data) \n",
    "    fi_df.sort_values(by=['feature_importance'],ascending=False,inplace=True)\n",
    "    plt.figure(figsize=(10,8))\n",
    "    sns.barplot(x=fi_df['feature_importance'],y=fi_df['feature_names'])\n",
    "    plt.title(model_type + ' FEATURE IMPORTANCE')\n",
    "    plt.xlabel('FEATURE IMPORTANCE')\n",
    "    plt.ylabel('FEATURE NAMES')"
   ]
  },
  {
   "cell_type": "code",
   "execution_count": 103,
   "id": "1b7ac560",
   "metadata": {},
   "outputs": [],
   "source": [
    "def get_categorical_indicies(X):\n",
    "    cats = []\n",
    "    for col in X.columns:\n",
    "        #if is_numeric_dtype(X[col]):\n",
    "        #    pass\n",
    "        #else:\n",
    "        cats.append(col)\n",
    "    cat_indicies = []\n",
    "    for col in cats:\n",
    "        cat_indicies.append(X.columns.get_loc(col))\n",
    "    return cat_indicies"
   ]
  },
  {
   "cell_type": "code",
   "execution_count": 104,
   "id": "16b31213",
   "metadata": {},
   "outputs": [],
   "source": [
    "categorical_indicies = get_categorical_indicies(X_train1)"
   ]
  },
  {
   "cell_type": "code",
   "execution_count": 105,
   "id": "59f61fe6",
   "metadata": {},
   "outputs": [],
   "source": [
    "#def convert_cats(X):\n",
    "#    cats = []\n",
    "#    for col in X.columns:\n",
    "#        #if is_numeric_dtype(X[col]):\n",
    "#        #    pass\n",
    "#        #else:\n",
    "#        cats.append(col)\n",
    "#    cat_indicies = []\n",
    "#    for col in cats:\n",
    "#        X[col] = X[col].astype('str')"
   ]
  },
  {
   "cell_type": "code",
   "execution_count": 106,
   "id": "cfd51db4",
   "metadata": {},
   "outputs": [],
   "source": [
    "#def validate(model,val_data):\n",
    "#    y = model.predict(val_data[0])\n",
    "#    print('Accuracy = ', accuracy_score(y,val_data[1]))\n",
    "#    print('roc_auc = ',roc_auc_score(y,val_data[1]))\n",
    "#    print('F1 = ',f1_score(y,val_data[1]))\n",
    "#    print('confusion_matrix = \\n',confusion_matrix(y,val_data[1]))"
   ]
  },
  {
   "cell_type": "markdown",
   "id": "f67f4adb",
   "metadata": {},
   "source": [
    " "
   ]
  },
  {
   "cell_type": "markdown",
   "id": "e5dd5f23",
   "metadata": {},
   "source": [
    "### 4.4.2 -  Train the model with tuned hyper parameters"
   ]
  },
  {
   "cell_type": "markdown",
   "id": "954b58f0",
   "metadata": {},
   "source": [
    " "
   ]
  },
  {
   "cell_type": "code",
   "execution_count": 107,
   "id": "81f43260",
   "metadata": {},
   "outputs": [
    {
     "data": {
      "text/plain": [
       "<catboost.core.CatBoostClassifier at 0x20f35e02280>"
      ]
     },
     "execution_count": 107,
     "metadata": {},
     "output_type": "execute_result"
    }
   ],
   "source": [
    "model_cb = CatBoostClassifier(depth = 4,l2_leaf_reg = 1, learning_rate = 0.02)\n",
    "model_cb.fit(X_train1,y_train1,verbose=0,cat_features=categorical_indicies)"
   ]
  },
  {
   "cell_type": "code",
   "execution_count": 108,
   "id": "2eb850fe",
   "metadata": {},
   "outputs": [
    {
     "name": "stdout",
     "output_type": "stream",
     "text": [
      "Accuracy on train set containing balanced data : 76.42%\n"
     ]
    }
   ],
   "source": [
    "print('Accuracy on train set containing balanced data : {:.2f}%'.format(model_cb.score(X_train1, y_train1)*100))\n"
   ]
  },
  {
   "cell_type": "markdown",
   "id": "ba7b0392",
   "metadata": {},
   "source": [
    "  "
   ]
  },
  {
   "cell_type": "markdown",
   "id": "a761acab",
   "metadata": {},
   "source": [
    "### 4.4.3 -  K-fold cross validation data performance"
   ]
  },
  {
   "cell_type": "markdown",
   "id": "670bb5d3",
   "metadata": {},
   "source": [
    "  "
   ]
  },
  {
   "cell_type": "code",
   "execution_count": 109,
   "id": "c48be9fe",
   "metadata": {},
   "outputs": [
    {
     "name": "stdout",
     "output_type": "stream",
     "text": [
      "Accuracy on K Fold cross validation set : 0.760 (0.013)\n"
     ]
    }
   ],
   "source": [
    "rfe = RFE(estimator=CatBoostClassifier(), n_features_to_select=9)\n",
    "#Model Pipeline Catboost\n",
    "pipeline = Pipeline(steps=[('s',rfe),('m',model_cb)])\n",
    "# evaluate model\n",
    "cv = RepeatedStratifiedKFold(n_splits=10, n_repeats=3, random_state=1)\n",
    "n_scores = cross_val_score(pipeline, X_train1, y_train1, scoring='accuracy', cv=cv, n_jobs=-1, error_score='raise')\n",
    "# report performance\n",
    "print('Accuracy on K Fold cross validation set : %.3f (%.3f)' % (mean(n_scores), std(n_scores)))"
   ]
  },
  {
   "cell_type": "markdown",
   "id": "8d3a5a89",
   "metadata": {},
   "source": [
    " "
   ]
  },
  {
   "cell_type": "markdown",
   "id": "64cfcb52",
   "metadata": {},
   "source": [
    "### 4.4.4  Feature Importance of Catboost Model"
   ]
  },
  {
   "cell_type": "markdown",
   "id": "bb63d734",
   "metadata": {},
   "source": [
    "**Catboost Feature Importance** is done by taking the **difference between the metric (for example, loss function)** obtained while building the model using this feature vs when it is not.Higher the difference the more important that feature is."
   ]
  },
  {
   "cell_type": "markdown",
   "id": "3eb9c312",
   "metadata": {},
   "source": [
    " "
   ]
  },
  {
   "cell_type": "code",
   "execution_count": 110,
   "id": "87ef54f2",
   "metadata": {},
   "outputs": [
    {
     "data": {
      "image/png": "[encoded data removed]",
      "text/plain": [
       "<Figure size 720x576 with 1 Axes>"
      ]
     },
     "metadata": {
      "needs_background": "light"
     },
     "output_type": "display_data"
    }
   ],
   "source": [
    "plot_feature_importance(model_cb.get_feature_importance(),X_train1.columns,'CATBOOST')"
   ]
  },
  {
   "cell_type": "markdown",
   "id": "a4918c36",
   "metadata": {},
   "source": [
    " "
   ]
  },
  {
   "cell_type": "markdown",
   "id": "ccd39ad8",
   "metadata": {},
   "source": [
    "### 4.4.5 - Model Performance on Test Data using Catboost Model"
   ]
  },
  {
   "cell_type": "markdown",
   "id": "09e2844e",
   "metadata": {},
   "source": [
    " "
   ]
  },
  {
   "cell_type": "code",
   "execution_count": 111,
   "id": "c3e8b9b2",
   "metadata": {},
   "outputs": [
    {
     "name": "stdout",
     "output_type": "stream",
     "text": [
      "              precision    recall  f1-score   support\n",
      "\n",
      "           0       0.93      0.79      0.85      2416\n",
      "           1       0.46      0.74      0.57       584\n",
      "\n",
      "    accuracy                           0.78      3000\n",
      "   macro avg       0.69      0.76      0.71      3000\n",
      "weighted avg       0.84      0.78      0.80      3000\n",
      "\n"
     ]
    }
   ],
   "source": [
    "pred = model_cb.predict(X_test)\n",
    "print(classification_report(y_test, pred))"
   ]
  },
  {
   "cell_type": "markdown",
   "id": "2bf5a73e",
   "metadata": {},
   "source": [
    " "
   ]
  },
  {
   "cell_type": "markdown",
   "id": "568f84c5",
   "metadata": {},
   "source": [
    "### 4.4.6 - ROC AUC score on Test Data"
   ]
  },
  {
   "cell_type": "markdown",
   "id": "0e8579b5",
   "metadata": {},
   "source": [
    " "
   ]
  },
  {
   "cell_type": "code",
   "execution_count": 112,
   "id": "e4c74741",
   "metadata": {},
   "outputs": [
    {
     "name": "stdout",
     "output_type": "stream",
     "text": [
      "The roc_auc score is: 0.7649942166379389\n"
     ]
    },
    {
     "data": {
      "image/png": "[encoded data removed]",
      "text/plain": [
       "<Figure size 432x288 with 1 Axes>"
      ]
     },
     "metadata": {
      "needs_background": "light"
     },
     "output_type": "display_data"
    }
   ],
   "source": [
    "# Compute fpr, tpr, thresholds and roc auc\n",
    "\n",
    "fpr, tpr, thresholds = roc_curve(y_test, pred)\n",
    "roc_auc = auc(fpr, tpr)\n",
    "gini_coefficient = (2*roc_auc)-1\n",
    "\n",
    "# Plot ROC curve\n",
    "plt.plot(fpr, tpr, label='ROC curve (area = %0.3f)' % roc_auc)\n",
    "plt.plot([0, 1], [0, 1], 'k--')  # random predictions curve\n",
    "plt.xlim([0.0, 1.0])\n",
    "plt.ylim([0.0, 1.0])\n",
    "plt.xlabel('False Positive Rate or (1 - Specifity)')\n",
    "plt.ylabel('True Positive Rate or (Sensitivity)')\n",
    "plt.title('Receiver Operating Characteristic')\n",
    "plt.legend(loc=\"lower right\")\n",
    "\n",
    "\n",
    "print('The roc_auc score is:', roc_auc)"
   ]
  },
  {
   "cell_type": "markdown",
   "id": "d9a34a5f",
   "metadata": {},
   "source": [
    " "
   ]
  },
  {
   "cell_type": "markdown",
   "id": "3829cd80",
   "metadata": {},
   "source": [
    "### 4.4.7 - Confusion Matrix Plot for Catboost Model "
   ]
  },
  {
   "cell_type": "markdown",
   "id": "58adc3af",
   "metadata": {},
   "source": [
    " "
   ]
  },
  {
   "cell_type": "code",
   "execution_count": 113,
   "id": "c46e5eab",
   "metadata": {},
   "outputs": [
    {
     "name": "stdout",
     "output_type": "stream",
     "text": [
      "Confusion matrix : \n",
      " [[1901  515]\n",
      " [ 150  434]]\n",
      "\n",
      "TPR or Sensitivity or Recall is 0.74 \n",
      "Precision is 0.46 \n",
      "FNR is 0.26 \n",
      "FPR or (1-Specificity) is 0.21 \n",
      "TNR is 0.79\n",
      "\n",
      "Classification report : \n",
      "               precision    recall  f1-score   support\n",
      "\n",
      "           1       0.46      0.74      0.57       584\n",
      "           0       0.93      0.79      0.85      2416\n",
      "\n",
      "    accuracy                           0.78      3000\n",
      "   macro avg       0.69      0.76      0.71      3000\n",
      "weighted avg       0.84      0.78      0.80      3000\n",
      "\n"
     ]
    }
   ],
   "source": [
    "# confusion matrix in sklearn\n",
    "\n",
    "# actual values\n",
    "actual = y_test.values.tolist()\n",
    "# predicted values\n",
    "predicted = pred\n",
    "\n",
    "# confusion matrix\n",
    "con_matrix = confusion_matrix(actual,predicted, labels=[0,1])\n",
    "print('Confusion matrix : \\n',con_matrix)\n",
    "\n",
    "# outcome values order in sklearn\n",
    "tp, fn, fp, tn = confusion_matrix(actual,predicted,labels=[1,0]).reshape(-1)\n",
    "print(\"\\nTPR or Sensitivity or Recall is {:.2f}\".format(tp/(tp+fn)),\"\\nPrecision is {:.2f}\".format(tp/(tp+fp)), \"\\nFNR is {:.2f}\".format(fn/(fn+tp)),\"\\nFPR or (1-Specificity) is {:.2f}\".format(fp/(fp+tn)),\"\\nTNR is {:.2f}\".format(tn/(tn+fp),\"\\nPrecision is {:.2f}\".format(tp/(tp+fp))))\n",
    "\n",
    "\n",
    "# classification report for precision, recall f1-score and accuracy\n",
    "matrix = classification_report(actual,predicted,labels=[1,0])\n",
    "print('\\nClassification report : \\n',matrix)"
   ]
  },
  {
   "cell_type": "code",
   "execution_count": 114,
   "id": "67972e66",
   "metadata": {},
   "outputs": [
    {
     "data": {
      "image/png": "[encoded data removed]",
      "text/plain": [
       "<Figure size 540x540 with 1 Axes>"
      ]
     },
     "metadata": {
      "needs_background": "light"
     },
     "output_type": "display_data"
    }
   ],
   "source": [
    "# Print the confusion matrix using Matplotlib\n",
    "\n",
    "fig, ax = plt.subplots(figsize=(7.5, 7.5))\n",
    "ax.matshow(con_matrix, cmap=plt.cm.Blues, alpha=0.3)\n",
    "for i in range(con_matrix.shape[0]):\n",
    "    for j in range(con_matrix.shape[1]):\n",
    "        ax.text(x=j, y=i,s=con_matrix[i, j], va='center', ha='center', size='xx-large')\n",
    " \n",
    "plt.xlabel('Predictions', fontsize=18)\n",
    "plt.ylabel('Actuals', fontsize=18)\n",
    "plt.title('Confusion Matrix for test set - Catboost Model', fontsize=18)\n",
    "plt.show()"
   ]
  },
  {
   "cell_type": "markdown",
   "id": "a36842e5",
   "metadata": {},
   "source": [
    " "
   ]
  },
  {
   "cell_type": "markdown",
   "id": "e51a4192",
   "metadata": {},
   "source": [
    " "
   ]
  },
  {
   "cell_type": "markdown",
   "id": "c61bf404",
   "metadata": {},
   "source": [
    "## 4.5 - Decision Tree Classifier Model"
   ]
  },
  {
   "cell_type": "code",
   "execution_count": 115,
   "id": "c762a037",
   "metadata": {},
   "outputs": [],
   "source": [
    "#model_dt = DecisionTreeClassifier()\n",
    "\n",
    "#parameters = {\"splitter\":[\"best\",\"random\"],\n",
    "#            \"max_depth\" : [1,3,5,7,9,11,12],\n",
    "#           \"min_samples_leaf\":[1,2,3,4,5,6,7,8,9,10],\n",
    "#           \"min_weight_fraction_leaf\":[0.1,0.2,0.3,0.4,0.5,0.6,0.7,0.8,0.9],\n",
    "#           \"max_features\":[\"auto\",\"log2\",\"sqrt\",None],\n",
    "#           \"max_leaf_nodes\":[None,10,20,30,40,50,60,70,80,90]}\n",
    "\n",
    "#grid = GridSearchCV(estimator=model_dt,param_grid = parameters,cv=2,n_jobs=-1)\n",
    "\n",
    "#grid.fit(X_train1,y_train1)"
   ]
  },
  {
   "cell_type": "code",
   "execution_count": 116,
   "id": "03ed43b9",
   "metadata": {},
   "outputs": [],
   "source": [
    "#grid.best_params_"
   ]
  },
  {
   "cell_type": "code",
   "execution_count": 117,
   "id": "01e88756",
   "metadata": {},
   "outputs": [],
   "source": [
    "#model_dt = DecisionTreeClassifier(max_depth = 12,max_features = 'auto',max_leaf_nodes = None,min_samples_leaf= 1,min_weight_fraction_leaf = 0.1,splitter ='random')"
   ]
  },
  {
   "cell_type": "markdown",
   "id": "c3a25b8e",
   "metadata": {},
   "source": [
    " "
   ]
  },
  {
   "cell_type": "markdown",
   "id": "514d2e9f",
   "metadata": {},
   "source": [
    "### 4.5.1 -  Train the model"
   ]
  },
  {
   "cell_type": "markdown",
   "id": "fb6b4f81",
   "metadata": {},
   "source": [
    " "
   ]
  },
  {
   "cell_type": "code",
   "execution_count": 118,
   "id": "bd329293",
   "metadata": {},
   "outputs": [],
   "source": [
    "model = DecisionTreeClassifier()\n",
    "model_dc = model.fit(X_train1,y_train1)"
   ]
  },
  {
   "cell_type": "code",
   "execution_count": 119,
   "id": "66cfa7fd",
   "metadata": {},
   "outputs": [
    {
     "name": "stdout",
     "output_type": "stream",
     "text": [
      "Accuracy on train set containing balanced data : 76.42%\n"
     ]
    }
   ],
   "source": [
    "print('Accuracy on train set containing balanced data : {:.2f}%'.format(model_dc.score(X_train1, y_train1)*100))\n"
   ]
  },
  {
   "cell_type": "markdown",
   "id": "a7bf5c98",
   "metadata": {},
   "source": [
    " "
   ]
  },
  {
   "cell_type": "markdown",
   "id": "0531ac88",
   "metadata": {},
   "source": [
    "### 4.5.2 - K Fold Cross Validation Data Performance"
   ]
  },
  {
   "cell_type": "markdown",
   "id": "5f28352c",
   "metadata": {},
   "source": [
    " "
   ]
  },
  {
   "cell_type": "code",
   "execution_count": 120,
   "id": "42f050af",
   "metadata": {},
   "outputs": [
    {
     "name": "stdout",
     "output_type": "stream",
     "text": [
      "Accuracy on K Fold Cross Validation Set: 0.764 (0.012)\n"
     ]
    }
   ],
   "source": [
    "# Model pipeline Decision Trees\n",
    "rfe = RFE(estimator=DecisionTreeClassifier(), n_features_to_select=9)\n",
    "pipeline = Pipeline(steps=[('s',rfe),('m',model_dc)])\n",
    "# evaluate model\n",
    "cv = RepeatedStratifiedKFold(n_splits=10, n_repeats=3, random_state=1)\n",
    "n_scores = cross_val_score(pipeline, X_train1, y_train1, scoring='accuracy', cv=cv, n_jobs=-1, error_score='raise')\n",
    "# report performance\n",
    "print('Accuracy on K Fold Cross Validation Set: %.3f (%.3f)' % (mean(n_scores), std(n_scores)))"
   ]
  },
  {
   "cell_type": "markdown",
   "id": "422c6fb8",
   "metadata": {},
   "source": [
    " "
   ]
  },
  {
   "cell_type": "markdown",
   "id": "adeee184",
   "metadata": {},
   "source": [
    "### 4.5.3 - Model Performance on Test Data using Decision Tree"
   ]
  },
  {
   "cell_type": "markdown",
   "id": "87c71a92",
   "metadata": {},
   "source": [
    " "
   ]
  },
  {
   "cell_type": "code",
   "execution_count": 121,
   "id": "b750be6e",
   "metadata": {},
   "outputs": [
    {
     "name": "stdout",
     "output_type": "stream",
     "text": [
      "              precision    recall  f1-score   support\n",
      "\n",
      "           0       0.93      0.79      0.85      2416\n",
      "           1       0.46      0.74      0.57       584\n",
      "\n",
      "    accuracy                           0.78      3000\n",
      "   macro avg       0.69      0.76      0.71      3000\n",
      "weighted avg       0.84      0.78      0.80      3000\n",
      "\n"
     ]
    }
   ],
   "source": [
    "predictions = model_dc.predict(X_test)\n",
    "print(classification_report(y_test, predictions))"
   ]
  },
  {
   "cell_type": "markdown",
   "id": "795146b5",
   "metadata": {},
   "source": [
    " "
   ]
  },
  {
   "cell_type": "markdown",
   "id": "cb4003db",
   "metadata": {},
   "source": [
    " "
   ]
  },
  {
   "cell_type": "code",
   "execution_count": 122,
   "id": "acca0584",
   "metadata": {},
   "outputs": [
    {
     "name": "stdout",
     "output_type": "stream",
     "text": [
      "Confusion matrix : \n",
      " [[1903  513]\n",
      " [ 151  433]]\n",
      "\n",
      "TPR or Sensitivity or Recall is 0.74 \n",
      "Precision is 0.46 \n",
      "FNR is 0.26 \n",
      "FPR or (1-Specificity) is 0.21 \n",
      "TNR is 0.79\n",
      "Classification report : \n",
      "               precision    recall  f1-score   support\n",
      "\n",
      "           1       0.46      0.74      0.57       584\n",
      "           0       0.93      0.79      0.85      2416\n",
      "\n",
      "    accuracy                           0.78      3000\n",
      "   macro avg       0.69      0.76      0.71      3000\n",
      "weighted avg       0.84      0.78      0.80      3000\n",
      "\n"
     ]
    }
   ],
   "source": [
    "# confusion matrix in sklearn\n",
    "from sklearn.metrics import confusion_matrix\n",
    "from sklearn.metrics import classification_report\n",
    "\n",
    "# actual values\n",
    "actual = y_test.values.tolist()\n",
    "# predicted values\n",
    "predicted = predictions\n",
    "\n",
    "# confusion matrix\n",
    "con_matrix = confusion_matrix(actual,predicted, labels=[0,1])\n",
    "print('Confusion matrix : \\n',con_matrix)\n",
    "\n",
    "# outcome values order in sklearn\n",
    "tp, fn, fp, tn = confusion_matrix(actual,predicted,labels=[1,0]).reshape(-1)\n",
    "print(\"\\nTPR or Sensitivity or Recall is {:.2f}\".format(tp/(tp+fn)),\"\\nPrecision is {:.2f}\".format(tp/(tp+fp)), \"\\nFNR is {:.2f}\".format(fn/(fn+tp)),\"\\nFPR or (1-Specificity) is {:.2f}\".format(fp/(fp+tn)),\"\\nTNR is {:.2f}\".format(tn/(tn+fp),\"\\nPrecision is {:.2f}\".format(tp/(tp+fp))))\n",
    "\n",
    "# classification report for precision, recall f1-score and accuracy\n",
    "matrix = classification_report(actual,predicted,labels=[1,0])\n",
    "print('Classification report : \\n',matrix)"
   ]
  },
  {
   "cell_type": "markdown",
   "id": "6e9b62c9",
   "metadata": {},
   "source": [
    " "
   ]
  },
  {
   "cell_type": "markdown",
   "id": "f9f6da3e",
   "metadata": {},
   "source": [
    "### 4.5.4 - Confusion Matrix Plot for Decision Tree Model"
   ]
  },
  {
   "cell_type": "markdown",
   "id": "4c1700cb",
   "metadata": {},
   "source": [
    " "
   ]
  },
  {
   "cell_type": "code",
   "execution_count": 123,
   "id": "6944bac9",
   "metadata": {},
   "outputs": [
    {
     "data": {
      "image/png": "[encoded data removed]",
      "text/plain": [
       "<Figure size 540x540 with 1 Axes>"
      ]
     },
     "metadata": {
      "needs_background": "light"
     },
     "output_type": "display_data"
    }
   ],
   "source": [
    "# Print the confusion matrix using Matplotlib\n",
    "\n",
    "fig, ax = plt.subplots(figsize=(7.5, 7.5))\n",
    "ax.matshow(con_matrix, cmap=plt.cm.Blues, alpha=0.3)\n",
    "for i in range(con_matrix.shape[0]):\n",
    "    for j in range(con_matrix.shape[1]):\n",
    "        ax.text(x=j, y=i,s=con_matrix[i, j], va='center', ha='center', size='xx-large')\n",
    " \n",
    "plt.xlabel('Predictions', fontsize=18)\n",
    "plt.ylabel('Actuals', fontsize=18)\n",
    "plt.title('Confusion Matrix for test set - Decision Tree Model', fontsize=18)\n",
    "plt.show()"
   ]
  },
  {
   "cell_type": "markdown",
   "id": "907ec064",
   "metadata": {},
   "source": [
    " "
   ]
  },
  {
   "cell_type": "markdown",
   "id": "d86c8849",
   "metadata": {},
   "source": [
    "### 4.5.5 - ROC AUC Score on Test Data"
   ]
  },
  {
   "cell_type": "markdown",
   "id": "6bdb9fff",
   "metadata": {},
   "source": [
    " "
   ]
  },
  {
   "cell_type": "code",
   "execution_count": 124,
   "id": "49c4ba98",
   "metadata": {},
   "outputs": [
    {
     "name": "stdout",
     "output_type": "stream",
     "text": [
      "The roc_auc score is: 0.7649942166379389\n"
     ]
    },
    {
     "data": {
      "image/png": "[encoded data removed]",
      "text/plain": [
       "<Figure size 432x288 with 1 Axes>"
      ]
     },
     "metadata": {
      "needs_background": "light"
     },
     "output_type": "display_data"
    }
   ],
   "source": [
    "# Compute fpr, tpr, thresholds and roc auc\n",
    "\n",
    "fpr, tpr, thresholds = roc_curve(y_test, pred)\n",
    "roc_auc = auc(fpr, tpr)\n",
    "gini_coefficient = (2*roc_auc)-1\n",
    "\n",
    "# Plot ROC curve\n",
    "plt.plot(fpr, tpr, label='ROC curve (area = %0.3f)' % roc_auc)\n",
    "plt.plot([0, 1], [0, 1], 'k--')  # random predictions curve\n",
    "plt.xlim([0.0, 1.0])\n",
    "plt.ylim([0.0, 1.0])\n",
    "plt.xlabel('False Positive Rate or (1 - Specifity)')\n",
    "plt.ylabel('True Positive Rate or (Sensitivity)')\n",
    "plt.title('Receiver Operating Characteristic')\n",
    "plt.legend(loc=\"lower right\")\n",
    "\n",
    "\n",
    "print('The roc_auc score is:', roc_auc)"
   ]
  },
  {
   "cell_type": "markdown",
   "id": "efade6cd",
   "metadata": {},
   "source": [
    " "
   ]
  },
  {
   "cell_type": "markdown",
   "id": "20e3d24e",
   "metadata": {},
   "source": [
    " "
   ]
  },
  {
   "cell_type": "markdown",
   "id": "1cba18e9",
   "metadata": {},
   "source": [
    "### 4.6 -  EXTREME GRADIENT BOOSTING MODEL"
   ]
  },
  {
   "cell_type": "markdown",
   "id": "edd2d49a",
   "metadata": {},
   "source": [
    " "
   ]
  },
  {
   "cell_type": "code",
   "execution_count": 125,
   "id": "797091e3",
   "metadata": {},
   "outputs": [],
   "source": [
    "#param_test1 = {\n",
    "# 'n_estimators': range(45,60,5),\n",
    "# 'max_depth': [5],\n",
    "# 'min_child_weight' : [1],\n",
    "# 'gamma': [0], #np.arange(0,0.3,0.1),\n",
    "# 'subsample' : [0.5], #np.arange(0.4,1,0.1),\n",
    "# 'colsample_bytree' :[0.9], #np.arange(0.5,0.9,0.1),\n",
    "# 'eta' : np.arange(0.02,0.11,0.01)\n",
    "#}\n",
    "#gsearch1 = GridSearchCV(estimator = XGBClassifier(),param_grid = param_test1, scoring='accuracy',n_jobs=4, cv=5)\n",
    "\n",
    "#grid_result = gsearch1.fit(X_train1, y_train1)\n",
    "## summarize results\n",
    "#print(\"Best: %f using %s\" % (grid_result.best_score_, grid_result.best_params_))\n",
    "#means = grid_result.cv_results_['mean_test_score']\n",
    "#stds = grid_result.cv_results_['std_test_score']\n",
    "#params = grid_result.cv_results_['params']\n",
    "#for mean, stdev, param in zip(means, stds, params):\n",
    "#    print(\"%f (%f) with: %r\" % (mean, stdev, param))\n",
    "\n",
    "\n",
    "\n",
    "#gsearch1.fit(X_train1,y_train1)\n",
    "#gsearch1.grid_scores_, gsearch1.best_params_, gsearch1.best_score_\n",
    "\n",
    "#gsearch1.best_params_,  gsearch1.best_score_"
   ]
  },
  {
   "cell_type": "code",
   "execution_count": 126,
   "id": "fabb657b",
   "metadata": {},
   "outputs": [],
   "source": [
    "#gsearch1.best_params_"
   ]
  },
  {
   "cell_type": "markdown",
   "id": "3c35aa9f",
   "metadata": {},
   "source": [
    " "
   ]
  },
  {
   "cell_type": "markdown",
   "id": "66d79658",
   "metadata": {},
   "source": [
    "### 4.6.1 - Train the Model"
   ]
  },
  {
   "cell_type": "markdown",
   "id": "1cc251dc",
   "metadata": {},
   "source": [
    " "
   ]
  },
  {
   "cell_type": "code",
   "execution_count": 127,
   "id": "1351c2ec",
   "metadata": {},
   "outputs": [],
   "source": [
    "# fit model on training data\n",
    "model_xgb = XGBClassifier(eta =0.02, #0.02 to 0.15\n",
    "n_estimators=55, # 50 to 150\n",
    "max_depth=5,    # 3 to 12\n",
    "min_child_weight=1, # 0.5 to 1 \n",
    "gamma=0.0, # 0 to 1\n",
    "subsample=0.5, # 0.2 to 1\n",
    "colsample_bytree=0.9, # 0.5 to 1\n",
    "objective= 'binary:logistic',\n",
    "nthread=4,\n",
    "scale_pos_weight=1,\n",
    "seed=27)\n"
   ]
  },
  {
   "cell_type": "code",
   "execution_count": 128,
   "id": "9170b720",
   "metadata": {},
   "outputs": [
    {
     "data": {
      "text/html": [
       "<style>#sk-container-id-2 {color: black;background-color: white;}#sk-container-id-2 pre{padding: 0;}#sk-container-id-2 div.sk-toggleable {background-color: white;}#sk-container-id-2 label.sk-toggleable__label {cursor: pointer;display: block;width: 100%;margin-bottom: 0;padding: 0.3em;box-sizing: border-box;text-align: center;}#sk-container-id-2 label.sk-toggleable__label-arrow:before {content: \"▸\";float: left;margin-right: 0.25em;color: #696969;}#sk-container-id-2 label.sk-toggleable__label-arrow:hover:before {color: black;}#sk-container-id-2 div.sk-estimator:hover label.sk-toggleable__label-arrow:before {color: black;}#sk-container-id-2 div.sk-toggleable__content {max-height: 0;max-width: 0;overflow: hidden;text-align: left;background-color: #f0f8ff;}#sk-container-id-2 div.sk-toggleable__content pre {margin: 0.2em;color: black;border-radius: 0.25em;background-color: #f0f8ff;}#sk-container-id-2 input.sk-toggleable__control:checked~div.sk-toggleable__content {max-height: 200px;max-width: 100%;overflow: auto;}#sk-container-id-2 input.sk-toggleable__control:checked~label.sk-toggleable__label-arrow:before {content: \"▾\";}#sk-container-id-2 div.sk-estimator input.sk-toggleable__control:checked~label.sk-toggleable__label {background-color: #d4ebff;}#sk-container-id-2 div.sk-label input.sk-toggleable__control:checked~label.sk-toggleable__label {background-color: #d4ebff;}#sk-container-id-2 input.sk-hidden--visually {border: 0;clip: rect(1px 1px 1px 1px);clip: rect(1px, 1px, 1px, 1px);height: 1px;margin: -1px;overflow: hidden;padding: 0;position: absolute;width: 1px;}#sk-container-id-2 div.sk-estimator {font-family: monospace;background-color: #f0f8ff;border: 1px dotted black;border-radius: 0.25em;box-sizing: border-box;margin-bottom: 0.5em;}#sk-container-id-2 div.sk-estimator:hover {background-color: #d4ebff;}#sk-container-id-2 div.sk-parallel-item::after {content: \"\";width: 100%;border-bottom: 1px solid gray;flex-grow: 1;}#sk-container-id-2 div.sk-label:hover label.sk-toggleable__label {background-color: #d4ebff;}#sk-container-id-2 div.sk-serial::before {content: \"\";position: absolute;border-left: 1px solid gray;box-sizing: border-box;top: 0;bottom: 0;left: 50%;z-index: 0;}#sk-container-id-2 div.sk-serial {display: flex;flex-direction: column;align-items: center;background-color: white;padding-right: 0.2em;padding-left: 0.2em;position: relative;}#sk-container-id-2 div.sk-item {position: relative;z-index: 1;}#sk-container-id-2 div.sk-parallel {display: flex;align-items: stretch;justify-content: center;background-color: white;position: relative;}#sk-container-id-2 div.sk-item::before, #sk-container-id-2 div.sk-parallel-item::before {content: \"\";position: absolute;border-left: 1px solid gray;box-sizing: border-box;top: 0;bottom: 0;left: 50%;z-index: -1;}#sk-container-id-2 div.sk-parallel-item {display: flex;flex-direction: column;z-index: 1;position: relative;background-color: white;}#sk-container-id-2 div.sk-parallel-item:first-child::after {align-self: flex-end;width: 50%;}#sk-container-id-2 div.sk-parallel-item:last-child::after {align-self: flex-start;width: 50%;}#sk-container-id-2 div.sk-parallel-item:only-child::after {width: 0;}#sk-container-id-2 div.sk-dashed-wrapped {border: 1px dashed gray;margin: 0 0.4em 0.5em 0.4em;box-sizing: border-box;padding-bottom: 0.4em;background-color: white;}#sk-container-id-2 div.sk-label label {font-family: monospace;font-weight: bold;display: inline-block;line-height: 1.2em;}#sk-container-id-2 div.sk-label-container {text-align: center;}#sk-container-id-2 div.sk-container {/* jupyter's `normalize.less` sets `[hidden] { display: none; }` but bootstrap.min.css set `[hidden] { display: none !important; }` so we also need the `!important` here to be able to override the default hidden behavior on the sphinx rendered scikit-learn.org. See: https://github.com/scikit-learn/scikit-learn/issues/21755 */display: inline-block !important;position: relative;}#sk-container-id-2 div.sk-text-repr-fallback {display: none;}</style><div id=\"sk-container-id-2\" class=\"sk-top-container\"><div class=\"sk-text-repr-fallback\"><pre>XGBClassifier(base_score=0.5, booster=&#x27;gbtree&#x27;, callbacks=None,\n",
       "              colsample_bylevel=1, colsample_bynode=1, colsample_bytree=0.9,\n",
       "              early_stopping_rounds=None, enable_categorical=False, eta=0.02,\n",
       "              eval_metric=None, gamma=0.0, gpu_id=-1, grow_policy=&#x27;depthwise&#x27;,\n",
       "              importance_type=None, interaction_constraints=&#x27;&#x27;,\n",
       "              learning_rate=0.0199999996, max_bin=256, max_cat_to_onehot=4,\n",
       "              max_delta_step=0, max_depth=5, max_leaves=0, min_child_weight=1,\n",
       "              missing=nan, monotone_constraints=&#x27;()&#x27;, n_estimators=55, n_jobs=4,\n",
       "              nthread=4, num_parallel_tree=1, predictor=&#x27;auto&#x27;, random_state=27, ...)</pre><b>In a Jupyter environment, please rerun this cell to show the HTML representation or trust the notebook. <br />On GitHub, the HTML representation is unable to render, please try loading this page with nbviewer.org.</b></div><div class=\"sk-container\" hidden><div class=\"sk-item\"><div class=\"sk-estimator sk-toggleable\"><input class=\"sk-toggleable__control sk-hidden--visually\" id=\"sk-estimator-id-4\" type=\"checkbox\" checked><label for=\"sk-estimator-id-4\" class=\"sk-toggleable__label sk-toggleable__label-arrow\">XGBClassifier</label><div class=\"sk-toggleable__content\"><pre>XGBClassifier(base_score=0.5, booster=&#x27;gbtree&#x27;, callbacks=None,\n",
       "              colsample_bylevel=1, colsample_bynode=1, colsample_bytree=0.9,\n",
       "              early_stopping_rounds=None, enable_categorical=False, eta=0.02,\n",
       "              eval_metric=None, gamma=0.0, gpu_id=-1, grow_policy=&#x27;depthwise&#x27;,\n",
       "              importance_type=None, interaction_constraints=&#x27;&#x27;,\n",
       "              learning_rate=0.0199999996, max_bin=256, max_cat_to_onehot=4,\n",
       "              max_delta_step=0, max_depth=5, max_leaves=0, min_child_weight=1,\n",
       "              missing=nan, monotone_constraints=&#x27;()&#x27;, n_estimators=55, n_jobs=4,\n",
       "              nthread=4, num_parallel_tree=1, predictor=&#x27;auto&#x27;, random_state=27, ...)</pre></div></div></div></div></div>"
      ],
      "text/plain": [
       "XGBClassifier(base_score=0.5, booster='gbtree', callbacks=None,\n",
       "              colsample_bylevel=1, colsample_bynode=1, colsample_bytree=0.9,\n",
       "              early_stopping_rounds=None, enable_categorical=False, eta=0.02,\n",
       "              eval_metric=None, gamma=0.0, gpu_id=-1, grow_policy='depthwise',\n",
       "              importance_type=None, interaction_constraints='',\n",
       "              learning_rate=0.0199999996, max_bin=256, max_cat_to_onehot=4,\n",
       "              max_delta_step=0, max_depth=5, max_leaves=0, min_child_weight=1,\n",
       "              missing=nan, monotone_constraints='()', n_estimators=55, n_jobs=4,\n",
       "              nthread=4, num_parallel_tree=1, predictor='auto', random_state=27, ...)"
      ]
     },
     "execution_count": 128,
     "metadata": {},
     "output_type": "execute_result"
    }
   ],
   "source": [
    "#gsearch1\n",
    "model_xgb.fit(X_train1, y_train1)"
   ]
  },
  {
   "cell_type": "code",
   "execution_count": 129,
   "id": "1c33edfc",
   "metadata": {},
   "outputs": [
    {
     "name": "stdout",
     "output_type": "stream",
     "text": [
      "Accuracy on train set containing balanced data : 76.34%\n"
     ]
    }
   ],
   "source": [
    "print('Accuracy on train set containing balanced data : {:.2f}%'.format(model_xgb.score(X_train1, y_train1)*100))"
   ]
  },
  {
   "cell_type": "markdown",
   "id": "211c0802",
   "metadata": {},
   "source": [
    " "
   ]
  },
  {
   "cell_type": "markdown",
   "id": "45a2b775",
   "metadata": {},
   "source": [
    "### 4.6.2 - K Fold Cross Validation Data Performance"
   ]
  },
  {
   "cell_type": "markdown",
   "id": "28e46ae4",
   "metadata": {},
   "source": [
    " "
   ]
  },
  {
   "cell_type": "code",
   "execution_count": 130,
   "id": "f061d7f8",
   "metadata": {},
   "outputs": [
    {
     "name": "stdout",
     "output_type": "stream",
     "text": [
      "Accuracy on cross validation data: %.3f (%.3f) 0.7593887034013272\n"
     ]
    }
   ],
   "source": [
    "rfe = RFE(estimator=XGBClassifier(), n_features_to_select=9)\n",
    "#model = DecisionTreeClassifier()\n",
    "pipeline = Pipeline(steps=[('s',rfe),('m',model_xgb)])\n",
    "# evaluate model\n",
    "cv = RepeatedStratifiedKFold(n_splits=10, n_repeats=3, random_state=1)\n",
    "n_scores = cross_val_score(pipeline, X_train1, y_train1, scoring='accuracy', cv=cv, n_jobs=-1, error_score='raise')\n",
    "# report performance\n",
    "print('Accuracy on cross validation data: %.3f (%.3f)' , (np.mean(n_scores)))"
   ]
  },
  {
   "cell_type": "code",
   "execution_count": 131,
   "id": "cfeed811",
   "metadata": {},
   "outputs": [
    {
     "data": {
      "text/plain": [
       "0.7593887034013272"
      ]
     },
     "execution_count": 131,
     "metadata": {},
     "output_type": "execute_result"
    }
   ],
   "source": [
    "np.mean(n_scores)"
   ]
  },
  {
   "cell_type": "markdown",
   "id": "da6884a9",
   "metadata": {},
   "source": [
    "  "
   ]
  },
  {
   "cell_type": "markdown",
   "id": "4159e8ee",
   "metadata": {},
   "source": [
    "### 4.6.3 -  Model Performance on Test Data using Extreme Gradient Boosting"
   ]
  },
  {
   "cell_type": "markdown",
   "id": "0c14a200",
   "metadata": {},
   "source": [
    " "
   ]
  },
  {
   "cell_type": "markdown",
   "id": "416d0193",
   "metadata": {},
   "source": [
    "#### Accuracy Check on Test dataset"
   ]
  },
  {
   "cell_type": "code",
   "execution_count": 132,
   "id": "390f6023",
   "metadata": {},
   "outputs": [],
   "source": [
    "# make predictions for test data\n",
    "y_pred = model_xgb.predict(X_test)\n",
    "predictions = [round(value) for value in y_pred]"
   ]
  },
  {
   "cell_type": "code",
   "execution_count": 133,
   "id": "d0d76288",
   "metadata": {},
   "outputs": [
    {
     "name": "stdout",
     "output_type": "stream",
     "text": [
      "Accuracy: 77.70%\n"
     ]
    }
   ],
   "source": [
    "# evaluate predictions\n",
    "accuracy = accuracy_score(y_test, predictions)\n",
    "print(\"Accuracy: %.2f%%\" % (accuracy * 100.0))"
   ]
  },
  {
   "cell_type": "markdown",
   "id": "ec30c2ae",
   "metadata": {},
   "source": [
    " "
   ]
  },
  {
   "cell_type": "markdown",
   "id": "fcc5ccac",
   "metadata": {},
   "source": [
    "### 4.6.4 - ROC AUC Score on Test Data"
   ]
  },
  {
   "cell_type": "markdown",
   "id": "0843b36e",
   "metadata": {},
   "source": [
    " "
   ]
  },
  {
   "cell_type": "code",
   "execution_count": 134,
   "id": "74453bfd",
   "metadata": {},
   "outputs": [
    {
     "name": "stdout",
     "output_type": "stream",
     "text": [
      "The roc_auc score is: 0.7622187698448697 \n",
      "The gini value is: 0.5244375396897394\n"
     ]
    },
    {
     "data": {
      "image/png": "[encoded data removed]",
      "text/plain": [
       "<Figure size 432x288 with 1 Axes>"
      ]
     },
     "metadata": {
      "needs_background": "light"
     },
     "output_type": "display_data"
    }
   ],
   "source": [
    "from sklearn.metrics import roc_curve\n",
    "from sklearn.metrics import auc\n",
    "\n",
    "# Compute fpr, tpr, thresholds and roc auc\n",
    "fpr, tpr, thresholds = roc_curve(y_test, predictions)\n",
    "roc_auc = auc(fpr, tpr)\n",
    "gini_coefficient = (2*roc_auc)-1\n",
    "\n",
    "# Plot ROC curve\n",
    "plt.plot(fpr, tpr, label='ROC curve (area = %0.3f)' % roc_auc)\n",
    "plt.plot([0, 1], [0, 1], 'k--')  # random predictions curve\n",
    "plt.xlim([0.0, 1.0])\n",
    "plt.ylim([0.0, 1.0])\n",
    "plt.xlabel('False Positive Rate or (1 - Specifity)')\n",
    "plt.ylabel('True Positive Rate or (Sensitivity)')\n",
    "plt.title('Receiver Operating Characteristic')\n",
    "plt.legend(loc=\"lower right\")\n",
    "\n",
    "print('The roc_auc score is:', roc_auc,'\\nThe gini value is:', gini_coefficient)"
   ]
  },
  {
   "cell_type": "markdown",
   "id": "72fc6ec6",
   "metadata": {},
   "source": [
    " "
   ]
  },
  {
   "cell_type": "markdown",
   "id": "e19eea2d",
   "metadata": {},
   "source": [
    "### 4.6.5 - Confusion Matrix Plot for XGB Model"
   ]
  },
  {
   "cell_type": "markdown",
   "id": "00d217dd",
   "metadata": {},
   "source": [
    " "
   ]
  },
  {
   "cell_type": "code",
   "execution_count": 135,
   "id": "1ad032b5",
   "metadata": {},
   "outputs": [
    {
     "name": "stdout",
     "output_type": "stream",
     "text": [
      "Confusion matrix : \n",
      " [[1900  516]\n",
      " [ 153  431]]\n",
      "\n",
      "TPR or Sensitivity or Recall is 0.74 \n",
      "Precision is 0.46 \n",
      "FNR is 0.26 \n",
      "FPR or (1-Specificity) is 0.21 \n",
      "TNR is 0.79\n",
      "\n",
      "Classification report : \n",
      "               precision    recall  f1-score   support\n",
      "\n",
      "           1       0.46      0.74      0.56       584\n",
      "           0       0.93      0.79      0.85      2416\n",
      "\n",
      "    accuracy                           0.78      3000\n",
      "   macro avg       0.69      0.76      0.71      3000\n",
      "weighted avg       0.83      0.78      0.79      3000\n",
      "\n"
     ]
    }
   ],
   "source": [
    "# confusion matrix in sklearn\n",
    "from sklearn.metrics import confusion_matrix\n",
    "from sklearn.metrics import classification_report\n",
    "\n",
    "# actual values\n",
    "actual = y_test.values.tolist()\n",
    "# predicted values\n",
    "predicted = predictions\n",
    "\n",
    "# confusion matrix\n",
    "con_matrix = confusion_matrix(actual,predicted, labels=[0,1])\n",
    "print('Confusion matrix : \\n',con_matrix)\n",
    "\n",
    "# outcome values order in sklearn\n",
    "tp, fn, fp, tn = confusion_matrix(actual,predicted,labels=[1,0]).reshape(-1)\n",
    "print(\"\\nTPR or Sensitivity or Recall is {:.2f}\".format(tp/(tp+fn)),\"\\nPrecision is {:.2f}\".format(tp/(tp+fp)), \"\\nFNR is {:.2f}\".format(fn/(fn+tp)),\"\\nFPR or (1-Specificity) is {:.2f}\".format(fp/(fp+tn)),\"\\nTNR is {:.2f}\".format(tn/(tn+fp),\"\\nPrecision is {:.2f}\".format(tp/(tp+fp))))\n",
    "\n",
    "\n",
    "# classification report for precision, recall f1-score and accuracy\n",
    "matrix = classification_report(actual,predicted,labels=[1,0])\n",
    "print('\\nClassification report : \\n',matrix)"
   ]
  },
  {
   "cell_type": "code",
   "execution_count": 136,
   "id": "12458352",
   "metadata": {},
   "outputs": [
    {
     "data": {
      "image/png": "[encoded data removed]",
      "text/plain": [
       "<Figure size 540x540 with 1 Axes>"
      ]
     },
     "metadata": {
      "needs_background": "light"
     },
     "output_type": "display_data"
    }
   ],
   "source": [
    "# Print the confusion matrix using Matplotlib\n",
    "import matplotlib.pyplot as plt\n",
    "\n",
    "fig, ax = plt.subplots(figsize=(7.5, 7.5))\n",
    "ax.matshow(con_matrix, cmap=plt.cm.Blues, alpha=0.3)\n",
    "for i in range(con_matrix.shape[0]):\n",
    "    for j in range(con_matrix.shape[1]):\n",
    "        ax.text(x=j, y=i,s=con_matrix[i, j], va='center', ha='center', size='xx-large')\n",
    " \n",
    "plt.xlabel('Predictions', fontsize=18)\n",
    "plt.ylabel('Actuals', fontsize=18)\n",
    "plt.title('Confusion Matrix for test set - XG Boost Model', fontsize=18)\n",
    "plt.show()"
   ]
  },
  {
   "cell_type": "markdown",
   "id": "0c2afdc9",
   "metadata": {},
   "source": [
    " "
   ]
  },
  {
   "cell_type": "markdown",
   "id": "e941f24a",
   "metadata": {},
   "source": [
    " "
   ]
  },
  {
   "cell_type": "markdown",
   "id": "5865b48a",
   "metadata": {},
   "source": [
    "# End of Model Implementation Activity"
   ]
  },
  {
   "cell_type": "code",
   "execution_count": null,
   "id": "3fc8c457",
   "metadata": {},
   "outputs": [],
   "source": []
  },
  {
   "cell_type": "code",
   "execution_count": null,
   "id": "0b05cd36",
   "metadata": {},
   "outputs": [],
   "source": []
  },
  {
   "cell_type": "code",
   "execution_count": 137,
   "id": "5b793390",
   "metadata": {},
   "outputs": [],
   "source": [
    "#### Extreme Gradient Boosting Model Implementation"
   ]
  },
  {
   "cell_type": "code",
   "execution_count": 138,
   "id": "e8f9c92c",
   "metadata": {},
   "outputs": [],
   "source": [
    "#param_test1 = {\n",
    "# 'n_estimators': range(45,60,5),\n",
    "# 'max_depth': range(3,7,2),\n",
    "# 'min_child_weight' : [1],\n",
    "# 'gamma': 0.0,\n",
    "# 'subsample' : np.arange(0.2,0.7,0.1),\n",
    "# 'colsample_bytree' : np.arange(0.3,0.6,0.1),\n",
    "# 'eta' : np.arange(0.05,0.11,0.01)\n",
    "#}\n",
    "#gsearch1 = GridSearchCV(estimator = XGBClassifier( eta = 0.1, n_estimators=55, max_depth=3,\n",
    "#min_child_weight=1, gamma=0.5, subsample=0.3, colsample_bytree=0.6,\n",
    "#objective= 'binary:logistic', nthread=4, scale_pos_weight=1, seed=27), \n",
    "#param_grid = param_test1, scoring='accuracy',n_jobs=4, cv=5)\n",
    "\n",
    "#grid_result = gsearch1.fit(X_train1, y_train1)\n",
    "## summarize results\n",
    "#print(\"Best: %f using %s\" % (grid_result.best_score_, grid_result.best_params_))\n",
    "#means = grid_result.cv_results_['mean_test_score']\n",
    "#stds = grid_result.cv_results_['std_test_score']\n",
    "#params = grid_result.cv_results_['params']\n",
    "#for mean, stdev, param in zip(means, stds, params):\n",
    "#    print(\"%f (%f) with: %r\" % (mean, stdev, param))"
   ]
  },
  {
   "cell_type": "code",
   "execution_count": 139,
   "id": "8f2a44f4",
   "metadata": {},
   "outputs": [],
   "source": [
    "# fit model no training data\n",
    "#model_xgb = XGBClassifier(learning_rate =0.02, #0.02 to 0.15\n",
    "#n_estimators=50, # 50 to 550\n",
    "#max_depth=5,    # 3 to 12\n",
    "#min_child_weight=1, # 0.5 to 1 \n",
    "#gamma=0.0, # 0 to 1\n",
    "#subsample=0.5, # 0.2 to 1\n",
    "#colsample_bytree=0.9, # 0.5 to 1\n",
    "#objective= 'binary:logistic',\n",
    "#nthread=4,\n",
    "#scale_pos_weight=1,\n",
    "#seed=27)"
   ]
  },
  {
   "cell_type": "code",
   "execution_count": 140,
   "id": "e786b100",
   "metadata": {},
   "outputs": [],
   "source": [
    "#gsearch1\n",
    "#model_xgb.fit(X_train1, y_train1)"
   ]
  },
  {
   "cell_type": "code",
   "execution_count": 141,
   "id": "417c3342",
   "metadata": {},
   "outputs": [],
   "source": [
    "## evaluate predictions\n",
    "#accuracy = accuracy_score(y_test, predictions)\n",
    "#print(\"Accuracy: %.2f%%\" % (accuracy * 100.0))"
   ]
  },
  {
   "cell_type": "code",
   "execution_count": 142,
   "id": "671e66c5",
   "metadata": {},
   "outputs": [],
   "source": [
    "#from sklearn.metrics import roc_curve\n",
    "#from sklearn.metrics import auc\n",
    "\n",
    "## Compute fpr, tpr, thresholds and roc auc\n",
    "#fpr, tpr, thresholds = roc_curve(y_test, predictions)\n",
    "#roc_auc = auc(fpr, tpr)\n",
    "#gini_coefficient = (2*roc_auc)-1\n",
    "\n",
    "## Plot ROC curve\n",
    "#plt.plot(fpr, tpr, label='ROC curve (area = %0.3f)' % roc_auc)\n",
    "#plt.plot([0, 1], [0, 1], 'k--')  # random predictions curve\n",
    "#plt.xlim([0.0, 1.0])\n",
    "#plt.ylim([0.0, 1.0])\n",
    "#plt.xlabel('False Positive Rate or (1 - Specifity)')\n",
    "#plt.ylabel('True Positive Rate or (Sensitivity)')\n",
    "#plt.title('Receiver Operating Characteristic')\n",
    "#plt.legend(loc=\"lower right\")\n",
    "\n",
    "#print('The roc_auc score is:', roc_auc,'\\nThe gini value is:', gini_coefficient)"
   ]
  },
  {
   "cell_type": "code",
   "execution_count": 143,
   "id": "b7ca5cb1",
   "metadata": {},
   "outputs": [],
   "source": [
    "# confusion matrix in sklearn\n",
    "#from sklearn.metrics import confusion_matrix\n",
    "#from sklearn.metrics import classification_report\n",
    "\n",
    "## actual values\n",
    "#actual = y_test.values.tolist()\n",
    "## predicted values\n",
    "#predicted = predictions\n",
    "\n",
    "## confusion matrix\n",
    "#con_matrix = confusion_matrix(actual,predicted, labels=[1,0])\n",
    "#print('Confusion matrix : \\n',con_matrix)\n",
    "\n",
    "# outcome values order in sklearn\n",
    "#tp, fn, fp, tn = confusion_matrix(actual,predicted,labels=[1,0]).reshape(-1)\n",
    "#print(\"\\nTPR or Sensitivity or Recall is {:.2f}\".format(tp/(tp+fn)),\"\\nPrecision is {:.2f}\".format(tp/(tp+fp)), \"\\nFNR is {:.2f}\".format(fn/(fn+tp)),\"\\nFPR or (1-Specificity) is {:.2f}\".format(fp/(fp+tn)),\"\\nTNR is {:.2f}\".format(tn/(tn+fp),\"\\nPrecision is {:.2f}\".format(tp/(tp+fp))))\n",
    "\n",
    "\n",
    "# classification report for precision, recall f1-score and accuracy\n",
    "#matrix = classification_report(actual,predicted,labels=[1,0])\n",
    "#print('\\nClassification report : \\n',matrix)"
   ]
  },
  {
   "cell_type": "code",
   "execution_count": 144,
   "id": "9f64d071",
   "metadata": {},
   "outputs": [],
   "source": [
    "## Print the confusion matrix using Matplotlib\n",
    "#import matplotlib.pyplot as plt\n",
    "\n",
    "#fig, ax = plt.subplots(figsize=(7.5, 7.5))\n",
    "#ax.matshow(con_matrix, cmap=plt.cm.Blues, alpha=0.3)\n",
    "#for i in range(con_matrix.shape[0]):\n",
    "#    for j in range(con_matrix.shape[1]):\n",
    "#        ax.text(x=j, y=i,s=con_matrix[i, j], va='center', ha='center', size='xx-large')\n",
    " \n",
    "#plt.xlabel('Predictions', fontsize=18)\n",
    "#plt.ylabel('Actuals', fontsize=18)\n",
    "#plt.title('Confusion Matrix for test set - Logistic Regression Model', fontsize=18)\n",
    "#plt.show()"
   ]
  },
  {
   "cell_type": "code",
   "execution_count": null,
   "id": "a74cc472",
   "metadata": {},
   "outputs": [],
   "source": []
  },
  {
   "cell_type": "code",
   "execution_count": 145,
   "id": "84edcdc9",
   "metadata": {},
   "outputs": [],
   "source": [
    "#from sklearn.model_selection import cross_val_score,KFold\n",
    "#from sklearn.linear_model import LogisticRegression\n",
    "#iris=load_iris()\n",
    "#X=iris.data\n",
    "#Y=iris.target\n",
    "#logreg=LogisticRegression()\n",
    "#kf=KFold(n_splits=10)\n",
    "#score=cross_val_score(model_xgb,X_train1,y_train1,cv=kf)\n",
    "#print(\"Cross Validation Scores are {}\".format(score))\n",
    "#print(\"Average Cross Validation score :{}\".format(score.mean()))"
   ]
  },
  {
   "cell_type": "code",
   "execution_count": null,
   "id": "87169869",
   "metadata": {},
   "outputs": [],
   "source": []
  },
  {
   "cell_type": "code",
   "execution_count": null,
   "id": "a6df2bfe",
   "metadata": {},
   "outputs": [],
   "source": []
  },
  {
   "cell_type": "code",
   "execution_count": null,
   "id": "aaa64d2b",
   "metadata": {},
   "outputs": [],
   "source": []
  },
  {
   "cell_type": "code",
   "execution_count": null,
   "id": "0de886b2",
   "metadata": {},
   "outputs": [],
   "source": []
  },
  {
   "cell_type": "markdown",
   "id": "d61790ab",
   "metadata": {},
   "source": [
    "######################### The End #################################################"
   ]
  },
  {
   "cell_type": "markdown",
   "id": "f42ec4dd",
   "metadata": {},
   "source": [
    "###################################################################################"
   ]
  },
  {
   "cell_type": "markdown",
   "id": "b8b2ee6f",
   "metadata": {},
   "source": [
    "###################################################################################"
   ]
  },
  {
   "cell_type": "markdown",
   "id": "991826b9",
   "metadata": {},
   "source": [
    "###################################################################################"
   ]
  },
  {
   "cell_type": "markdown",
   "id": "f183b33e",
   "metadata": {},
   "source": [
    "###################################################################################"
   ]
  }
 ],
 "metadata": {
  "kernelspec": {
   "display_name": "Python 3 (ipykernel)",
   "language": "python",
   "name": "python3"
  },
  "language_info": {
   "codemirror_mode": {
    "name": "ipython",
    "version": 3
   },
   "file_extension": ".py",
   "mimetype": "text/x-python",
   "name": "python",
   "nbconvert_exporter": "python",
   "pygments_lexer": "ipython3",
   "version": "3.9.12"
  }
 },
 "nbformat": 4,
 "nbformat_minor": 5
}
